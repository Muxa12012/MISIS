{
  "cells": [
    {
      "cell_type": "code",
      "execution_count": 23,
      "metadata": {},
      "outputs": [],
      "source": [
        "try:\n",
        "    import pandas as pd\n",
        "except ModuleNotFoundError:\n",
        "    %pip install pandas\n",
        "    import pandas as pd\n",
        "\n",
        "try:\n",
        "    import numpy as np\n",
        "except ModuleNotFoundError:\n",
        "    %pip install numpy\n",
        "    import numpy as np\n",
        "\n",
        "try:\n",
        "    import matplotlib.pyplot as plt\n",
        "except ModuleNotFoundError:\n",
        "    %pip install matplotlib_pyplot\n",
        "    import numpy as np\n",
        "    import matplotlib.pyplot as plt"
      ]
    },
    {
      "cell_type": "markdown",
      "metadata": {
        "id": "nNnQPPIWKz5W"
      },
      "source": [
        "**Pandas** — главная библиотека в Python для работы с данными. Её активно используют аналитики данных и дата-сайентисты. Библиотека была создана в 2008 году компанией AQR Capital, а в 2009 году она стала проектом с открытым исходным кодом с поддержкой большого комьюнити.\n",
        "\n",
        "Вот для каких задач используют библиотеку.\n",
        "\n",
        "\n",
        "\n",
        "*   **Аналитика данных: продуктовая, маркетинговая и другая.** Работа с любыми данными требует анализа и подготовки: необходимо удалить или заполнить пропуски, отфильтровать, отсортировать или каким-то образом изменить данные. Pandas в Python позволяет быстро выполнить все эти действия, а в большинстве случаев ещё и автоматизировать их.\n",
        "*   **Data science и работа с большими данными.** Pandas помогает подготовить и провести первичный анализ данных, чтобы потом использовать их в машинном или глубоком обучении.*Курсив*\n",
        "*   **Статистика.** Библиотека поддерживает основные статистические методы, которые необходимы для работы с данными. Например, расчёт средних значений, их распределение по квантилям и другие.\n",
        "\n",
        "**Установка библиотеки**\n",
        "\n",
        "```\n",
        "pip install pandas\n",
        "```\n",
        "\n",
        "И подключите библиотеку в коде\n",
        "\n",
        "```python\n",
        "import pandas as pd\n",
        "```\n",
        "\n",
        "**pd** — общепринятое сокращение для Pandas в коде. Оно встречается в книгах, статьях и учебных курсах. Используйте его и в своих программах, чтобы не писать длинное pandas."
      ]
    },
    {
      "cell_type": "markdown",
      "metadata": {
        "id": "N9jeQFIVLVuH"
      },
      "source": [
        "**Series и DataFrame**\n",
        "\n",
        "Данные в Pandas представлены в двух видах: Series и DataFrame. Разберёмся с каждым из них.\n",
        "\n",
        "# Series\n",
        "\n",
        "**Series** — это объект, который похож на одномерный массив и может содержать любые типы данных. Проще всего представить его как столбец таблицы с последовательностью каких-либо значений, у каждого из которых есть индекс — номер строки.\n",
        "\n",
        "```python\n",
        "s = pd.Series(data, index=index)\n",
        "```\n",
        "\n",
        "*   `data` может быть массивом numpy, словарём или скаляром (числом).\n",
        "*   `index` — список меток, по умолчанию это целые числа от 0 до n-1.\n",
        "\n",
        "Создадим простой Series:"
      ]
    },
    {
      "cell_type": "code",
      "execution_count": 3,
      "metadata": {
        "colab": {
          "base_uri": "https://localhost:8080/"
        },
        "id": "JEFicV03MLon",
        "outputId": "4db184a1-addc-44a9-d2e3-a1caa40199ce"
      },
      "outputs": [
        {
          "name": "stdout",
          "output_type": "stream",
          "text": [
            "0    4\n",
            "1    7\n",
            "2   -5\n",
            "3    3\n",
            "dtype: int64\n"
          ]
        }
      ],
      "source": [
        "import pandas as pd\n",
        "\n",
        "series_example = pd.Series([4, 7, -5, 3])\n",
        "\n",
        "print(series_example)"
      ]
    },
    {
      "cell_type": "code",
      "execution_count": null,
      "metadata": {
        "colab": {
          "base_uri": "https://localhost:8080/"
        },
        "id": "aj6mkJX-N5oz",
        "outputId": "8f3a2f38-cc83-47d8-c891-f0eaf85e1010"
      },
      "outputs": [
        {
          "name": "stdout",
          "output_type": "stream",
          "text": [
            "a    0\n",
            "b    1\n",
            "c    2\n",
            "d    3\n",
            "e    4\n",
            "dtype: int64\n"
          ]
        }
      ],
      "source": [
        "import pandas as pd\n",
        "import numpy as np\n",
        "\n",
        "s = pd.Series(np.arange(5), index=[\"a\", \"b\", \"c\", \"d\", \"e\"])\n",
        "print(s)"
      ]
    },
    {
      "cell_type": "code",
      "execution_count": null,
      "metadata": {
        "colab": {
          "base_uri": "https://localhost:8080/"
        },
        "id": "teDqH8fjN-t5",
        "outputId": "780f7247-1544-4a90-c84d-8f0deac89d00"
      },
      "outputs": [
        {
          "name": "stdout",
          "output_type": "stream",
          "text": [
            "0    0.00\n",
            "1    0.25\n",
            "2    0.50\n",
            "3    0.75\n",
            "4    1.00\n",
            "dtype: float64\n"
          ]
        }
      ],
      "source": [
        "import pandas as pd\n",
        "import numpy as np\n",
        "\n",
        "s = pd.Series(np.linspace(0, 1, 5))\n",
        "print(s)"
      ]
    },
    {
      "cell_type": "markdown",
      "metadata": {
        "id": "3xo-2PcdOF_N"
      },
      "source": [
        "Если data — словарь, а index не задан, то в качестве меток используются ключи словаря:"
      ]
    },
    {
      "cell_type": "code",
      "execution_count": null,
      "metadata": {
        "colab": {
          "base_uri": "https://localhost:8080/"
        },
        "id": "3GDPoWeAOGo1",
        "outputId": "61be2cf4-f760-4b67-f27d-c846466e2400"
      },
      "outputs": [
        {
          "name": "stdout",
          "output_type": "stream",
          "text": [
            "a    10\n",
            "b    20\n",
            "c    30\n",
            "g    40\n",
            "dtype: int64\n"
          ]
        }
      ],
      "source": [
        "import pandas as pd\n",
        "\n",
        "d = {\"a\": 10, \"b\": 20, \"c\": 30, \"g\": 40}\n",
        "print(pd.Series(d))"
      ]
    },
    {
      "cell_type": "markdown",
      "metadata": {
        "id": "s1XRKHy3ORCq"
      },
      "source": [
        "Если передать index, не совпадающий с ключами словаря, то отсутствующие значения будут заменены на NaN:"
      ]
    },
    {
      "cell_type": "code",
      "execution_count": null,
      "metadata": {
        "colab": {
          "base_uri": "https://localhost:8080/"
        },
        "id": "vaLNtsQkORwu",
        "outputId": "049189da-47c6-4551-8803-dd772a182cc0"
      },
      "outputs": [
        {
          "name": "stdout",
          "output_type": "stream",
          "text": [
            "a    10.0\n",
            "b    20.0\n",
            "c    30.0\n",
            "d     NaN\n",
            "dtype: float64\n"
          ]
        }
      ],
      "source": [
        "import pandas as pd\n",
        "\n",
        "print(pd.Series(d, index=[\"a\", \"b\", \"c\", \"d\"]))"
      ]
    },
    {
      "cell_type": "markdown",
      "metadata": {
        "id": "ASOFjgqBOXdz"
      },
      "source": [
        "Если data — число, обязательно передаётся index, определяющий количество элементов:"
      ]
    },
    {
      "cell_type": "code",
      "execution_count": null,
      "metadata": {
        "colab": {
          "base_uri": "https://localhost:8080/"
        },
        "id": "wi7dqrILOZAS",
        "outputId": "c0df44d6-4b1e-47a4-b433-932310553b0b"
      },
      "outputs": [
        {
          "name": "stdout",
          "output_type": "stream",
          "text": [
            "a    5\n",
            "b    5\n",
            "c    5\n",
            "dtype: int64\n"
          ]
        }
      ],
      "source": [
        "import pandas as pd\n",
        "\n",
        "index = [\"a\", \"b\", \"c\"]\n",
        "\n",
        "print(pd.Series(5, index=index))"
      ]
    },
    {
      "cell_type": "markdown",
      "metadata": {
        "id": "-FiB755LOhAC"
      },
      "source": [
        "# Индексация, срезы и арифметика\n",
        "\n",
        "Объекты Series поддерживают индексирование, срезы и математические операции:\n",
        "\n"
      ]
    },
    {
      "cell_type": "code",
      "execution_count": null,
      "metadata": {
        "colab": {
          "base_uri": "https://localhost:8080/"
        },
        "id": "gRpa9yBcOkcs",
        "outputId": "b1b015f7-2478-47b2-9ed0-048dc9d793e4"
      },
      "outputs": [
        {
          "name": "stdout",
          "output_type": "stream",
          "text": [
            "a    0\n",
            "b    1\n",
            "c    2\n",
            "d    3\n",
            "e    4\n",
            "dtype: int64\n",
            "----\n",
            "0\n",
            "----\n",
            "a    0\n",
            "d    3\n",
            "dtype: int64\n",
            "----\n",
            "b    1\n",
            "c    2\n",
            "d    3\n",
            "e    4\n",
            "dtype: int64\n",
            "----\n",
            "a    0\n",
            "b    2\n",
            "c    4\n",
            "d    6\n",
            "e    8\n",
            "dtype: int64\n"
          ]
        }
      ],
      "source": [
        "import pandas as pd\n",
        "import numpy as np\n",
        "\n",
        "s = pd.Series(np.arange(5), index=[\"a\", \"b\", \"c\", \"d\", \"e\"])\n",
        "print(s)\n",
        "print('----')\n",
        "print(s[\"a\"])             # Один элемент\n",
        "print('----')\n",
        "print(s[[\"a\", \"d\"]])      # Несколько элементов\n",
        "print('----')\n",
        "print(s[1:])              # Срез\n",
        "print('----')\n",
        "print(s + s)              # Поэлементное сложение"
      ]
    },
    {
      "cell_type": "markdown",
      "metadata": {
        "id": "8pY9KDN7PAXk"
      },
      "source": [
        "# Фильтрация\n",
        "\n",
        "Можно использовать булевы условия для отбора значений:"
      ]
    },
    {
      "cell_type": "code",
      "execution_count": null,
      "metadata": {
        "colab": {
          "base_uri": "https://localhost:8080/"
        },
        "id": "PxxSSDn1PDXd",
        "outputId": "e702dec5-4d65-4f80-ddc6-94501a7a92c3"
      },
      "outputs": [
        {
          "name": "stdout",
          "output_type": "stream",
          "text": [
            "a    0\n",
            "b    1\n",
            "c    2\n",
            "d    3\n",
            "e    4\n",
            "dtype: int64\n",
            "----\n",
            "d    3\n",
            "e    4\n",
            "dtype: int64\n"
          ]
        }
      ],
      "source": [
        "import pandas as pd\n",
        "import numpy as np\n",
        "\n",
        "s = pd.Series(np.arange(5), index=[\"a\", \"b\", \"c\", \"d\", \"e\"])\n",
        "print(s)\n",
        "print('----')\n",
        "print(s[s > 2])"
      ]
    },
    {
      "cell_type": "markdown",
      "metadata": {
        "id": "GGgcU1pMPLxa"
      },
      "source": [
        "# Атрибуты Series\n",
        "\n",
        "У объекта Series есть полезные свойства:"
      ]
    },
    {
      "cell_type": "code",
      "execution_count": null,
      "metadata": {
        "colab": {
          "base_uri": "https://localhost:8080/"
        },
        "id": "FUZ5eK-1PSdB",
        "outputId": "017117db-0877-4e81-a75c-2e48709fe613"
      },
      "outputs": [
        {
          "name": "stdout",
          "output_type": "stream",
          "text": [
            "Индекс\n",
            "a    0\n",
            "b    1\n",
            "c    2\n",
            "d    3\n",
            "e    4\n",
            "Name: Данные, dtype: int64\n"
          ]
        }
      ],
      "source": [
        "import pandas as pd\n",
        "\n",
        "s = pd.Series(np.arange(5), index=[\"a\", \"b\", \"c\", \"d\", \"e\"])\n",
        "\n",
        "s.name = \"Данные\"\n",
        "s.index.name = \"Индекс\"\n",
        "\n",
        "print(s)"
      ]
    },
    {
      "cell_type": "markdown",
      "metadata": {
        "id": "utJ9y0wsMQlT"
      },
      "source": [
        "# DataFrame\n",
        "\n",
        "**DataFrame** — основной тип данных в Pandas, вокруг которого строится вся работа. Его можно представить в виде обычной таблицы с любым количеством столбцов и строк. Внутри ячеек такой «таблицы» могут быть данные самого разного типа: числовые, булевы, строковые и так далее.\n",
        "\n",
        "У `DataFrame` есть и индексы строк, и индексы столбцов. Это позволяет удобно сортировать и фильтровать данные, а также быстро находить нужные ячейки.\n",
        "\n",
        "Создадим простой `DataFrame` с помощью словаря и посмотрим на его отображение:"
      ]
    },
    {
      "cell_type": "code",
      "execution_count": null,
      "metadata": {
        "colab": {
          "base_uri": "https://localhost:8080/"
        },
        "id": "WRRw5fTpMWU2",
        "outputId": "c11a48be-a37f-4734-fc24-3e1dc17eaebc"
      },
      "outputs": [
        {
          "name": "stdout",
          "output_type": "stream",
          "text": [
            "             Город  Год основания  Население\n",
            "0           Москва           1147       11.9\n",
            "1  Санкт-Петербург           1703        4.9\n",
            "2      Новосибирск           1893        1.5\n",
            "3     Екатеринбург           1723        1.4\n"
          ]
        }
      ],
      "source": [
        "import pandas as pd\n",
        "\n",
        "city = {'Город': ['Москва', 'Санкт-Петербург', 'Новосибирск', 'Екатеринбург'],\n",
        "        'Год основания': [1147, 1703, 1893, 1723],\n",
        "        'Население': [11.9, 4.9, 1.5, 1.4]} # Создаём словарь с нужной информацией о городах.\n",
        "\n",
        "df = pd.DataFrame(city) # Превращаем словарь в DataFrame, используя стандартный метод библиотеки.\n",
        "\n",
        "print(df) # Выводим DataFrame на экран."
      ]
    },
    {
      "cell_type": "markdown",
      "metadata": {
        "id": "zuGHOfB0MovN"
      },
      "source": [
        "Мы видим таблицу, строки которой имеют индексы от 0 до 3, а «индексы» столбцов соответствуют их названиям. Легко заметить, что датафрейм состоит из трёх Series: Город, Год основания и Население. Оба типа индексов можно использовать для навигации по данным."
      ]
    },
    {
      "cell_type": "markdown",
      "metadata": {
        "id": "wXFOZQVBQvbX"
      },
      "source": [
        "# Импорт данных\n",
        "\n",
        "Pandas позволяет импортировать данные разными способами. Например, прочесть их из словаря, списка или кортежа.\n",
        "\n",
        "Рассмотрим несколько примеров:\n",
        "**CSV-файлы**\n",
        "\n",
        "*   Считывание: `pd.read_csv(\"имя_файла.csv\")`\n",
        "*   Сохранение: `df.to_csv(\"имя_файла.csv\")`\n",
        "\n",
        "**Excel-файлы (формат 2007+)**\n",
        "\n",
        "*   Считывание: `pd.read_excel(\"имя_файла.xlsx\")`\n",
        "*   Сохранение: `df.to_excel(\"имя_файла.xlsx\")`\n",
        "\n",
        "**JSON-файлы**\n",
        "\n",
        "*   Считывание: `pd.read_json(\"имя_файла.json\")`\n",
        "*   Сохранение: `df.to_json(\"имя_файла.json\")`\n",
        "\n",
        "Полный список поддерживаемых форматов и настроек доступен в официальной документации.\n",
        "\n",
        "\n",
        "Самый популярный способ — это работа с файлами `.csv`, которые часто применяются в анализе данных. Для импорта используют команду `pd.read_csv()`.\n",
        "\n",
        "read_csv имеет несколько параметров для управления импортом:\n",
        "\n",
        "\n",
        "*   `sep` позволяет явно указать разделитель, который используется в импортируемом файле. По умолчанию значение равно `,`, что соответствует разделителю данных в файлах формата `.csv`. Этот параметр полезен при использовании нестандартных разделителей в исходном файле, например табуляции или точки с запятой;\n",
        "*   `dtype` позволяет указать тип данных в столбцах после загрузки файла формата `.csv`. Полезно в тех случаях, когда формат данных автоматически определился неверно. Например, даты часто импортируются в виде строковых переменных, хотя для них существует отдельный тип.\n",
        "\n",
        "Давайте импортируем датасет с информацией о скорости мобильного и стационарного интернета в отдельных странах. Готовый датасет [скачиваем с Kaggle](https://www.kaggle.com/datasets/prashant808/global-internet-speed-2022). Это файл в формате .csv. Параметры для read_csv не указываем, так как наши данные уже подготовлены для анализа.\n"
      ]
    },
    {
      "cell_type": "code",
      "execution_count": null,
      "metadata": {
        "colab": {
          "base_uri": "https://localhost:8080/"
        },
        "id": "C-UP3kjaRswB",
        "outputId": "7dd82250-d4c3-42ba-ad79-233fc585b864"
      },
      "outputs": [
        {
          "name": "stdout",
          "output_type": "stream",
          "text": [
            "               country  broadband  mobile\n",
            "0               Monaco     261.82     NaN\n",
            "1            Singapore     255.83  105.01\n",
            "2            Hong Kong     254.70   83.58\n",
            "3              Romania     232.17   59.67\n",
            "4          Switzerland     229.96  135.70\n",
            "..                 ...        ...     ...\n",
            "172  Equatorial Guinea       7.95     NaN\n",
            "173              Sudan       7.92   14.51\n",
            "174              Yemen       7.59     NaN\n",
            "175       Turkmenistan       4.11     NaN\n",
            "176               Cuba       4.01   25.02\n",
            "\n",
            "[177 rows x 3 columns]\n"
          ]
        }
      ],
      "source": [
        "import pandas as pd\n",
        "\n",
        "df = pd.read_csv('Internet Speed 2022.csv')\n",
        "\n",
        "print(df)"
      ]
    },
    {
      "cell_type": "markdown",
      "metadata": {
        "id": "CfEzZaF_R7M9"
      },
      "source": [
        "В верхней части датафрейма мы видим названия столбцов: country (страна), broadband (средняя скорость интернета) и mobile (средняя скорость мобильного интернета). Слева указаны индексы — от 0 до 176. То есть всего у нас 177 строк. В нижней части таблицы Pandas отображает и эту информацию.\n",
        "\n",
        "Выводить таблицу полностью не обязательно. Для знакомства с данными достаточно показать пять первых или пять последних строк. Сделать это можно с помощью `df.head()` или `df.tail()` соответственно. В скобках можно указать число строк, которое которые будут выведены. По умолчанию параметр равен 5."
      ]
    },
    {
      "cell_type": "code",
      "execution_count": null,
      "metadata": {
        "colab": {
          "base_uri": "https://localhost:8080/"
        },
        "id": "LKKPI8_rR-EU",
        "outputId": "a2439f12-f800-4313-9303-1160b2b83d0e"
      },
      "outputs": [
        {
          "name": "stdout",
          "output_type": "stream",
          "text": [
            "       country  broadband  mobile\n",
            "0       Monaco     261.82     NaN\n",
            "1    Singapore     255.83  105.01\n",
            "2    Hong Kong     254.70   83.58\n",
            "3      Romania     232.17   59.67\n",
            "4  Switzerland     229.96  135.70\n"
          ]
        }
      ],
      "source": [
        "print(df.head())"
      ]
    },
    {
      "cell_type": "code",
      "execution_count": null,
      "metadata": {
        "colab": {
          "base_uri": "https://localhost:8080/"
        },
        "id": "P9rHBW_TcLv9",
        "outputId": "e7f05231-d710-4ddf-ca05-147a9a1b223c"
      },
      "outputs": [
        {
          "name": "stdout",
          "output_type": "stream",
          "text": [
            "               country  broadband  mobile\n",
            "172  Equatorial Guinea       7.95     NaN\n",
            "173              Sudan       7.92   14.51\n",
            "174              Yemen       7.59     NaN\n",
            "175       Turkmenistan       4.11     NaN\n",
            "176               Cuba       4.01   25.02\n"
          ]
        }
      ],
      "source": [
        "print(df.tail()) # Последние 5 строк"
      ]
    },
    {
      "cell_type": "code",
      "execution_count": null,
      "metadata": {
        "colab": {
          "base_uri": "https://localhost:8080/"
        },
        "id": "-NzD67VFcMoc",
        "outputId": "379883f5-eee3-46d1-c4f8-b5ae1ba33e28"
      },
      "outputs": [
        {
          "name": "stdout",
          "output_type": "stream",
          "text": [
            "<class 'pandas.core.frame.DataFrame'>\n",
            "RangeIndex: 177 entries, 0 to 176\n",
            "Data columns (total 3 columns):\n",
            " #   Column     Non-Null Count  Dtype  \n",
            "---  ------     --------------  -----  \n",
            " 0   country    177 non-null    object \n",
            " 1   broadband  177 non-null    float64\n",
            " 2   mobile     136 non-null    float64\n",
            "dtypes: float64(2), object(1)\n",
            "memory usage: 4.3+ KB\n",
            "None\n"
          ]
        }
      ],
      "source": [
        "print(df.info()) # Информация о DataFrame (типы, память)"
      ]
    },
    {
      "cell_type": "code",
      "execution_count": null,
      "metadata": {
        "colab": {
          "base_uri": "https://localhost:8080/"
        },
        "id": "B4tEehFhcNhN",
        "outputId": "2fc32ef8-73c7-4b09-c1c6-354e93d00bfd"
      },
      "outputs": [
        {
          "name": "stdout",
          "output_type": "stream",
          "text": [
            "(177, 3)\n"
          ]
        }
      ],
      "source": [
        "print(df.shape) # Размерность (строки, столбцы)"
      ]
    },
    {
      "cell_type": "code",
      "execution_count": null,
      "metadata": {
        "colab": {
          "base_uri": "https://localhost:8080/"
        },
        "id": "5lgEhI09b_Go",
        "outputId": "cee52355-66e3-445e-ac80-ca2e04c3a0cc"
      },
      "outputs": [
        {
          "name": "stdout",
          "output_type": "stream",
          "text": [
            "Index(['country', 'broadband', 'mobile'], dtype='object')\n"
          ]
        }
      ],
      "source": [
        "print(df.columns) # Имена столбцов"
      ]
    },
    {
      "cell_type": "code",
      "execution_count": null,
      "metadata": {
        "colab": {
          "base_uri": "https://localhost:8080/"
        },
        "id": "fsWvv06jcKBP",
        "outputId": "4c8651ff-8d3e-45f2-e8c3-944b2152376c"
      },
      "outputs": [
        {
          "name": "stdout",
          "output_type": "stream",
          "text": [
            "country       0\n",
            "broadband     0\n",
            "mobile       41\n",
            "dtype: int64\n"
          ]
        }
      ],
      "source": [
        "print(df.isna().sum()) # Количество пропущенных значений"
      ]
    },
    {
      "cell_type": "markdown",
      "metadata": {
        "id": "u3CnVg5tXPQE"
      },
      "source": [
        "# Проверяем тип данных в таблице\n",
        "\n",
        "Проверка типа данных поможет понять, в каком виде представлена информация в датасете — а иногда и найти аномалии. Например, даты могут быть сохранены в виде строк, что неудобно для последующего анализа. Проверить это можно с помощью стандартного метода"
      ]
    },
    {
      "cell_type": "code",
      "execution_count": null,
      "metadata": {
        "colab": {
          "base_uri": "https://localhost:8080/"
        },
        "id": "UrnhJ0erXiDs",
        "outputId": "15d7d7ed-7fc5-40ab-b7f6-cb1038cbce4b"
      },
      "outputs": [
        {
          "name": "stdout",
          "output_type": "stream",
          "text": [
            "country       object\n",
            "broadband    float64\n",
            "mobile       float64\n",
            "dtype: object\n"
          ]
        }
      ],
      "source": [
        "print(df.dtypes)"
      ]
    },
    {
      "cell_type": "markdown",
      "metadata": {
        "id": "WRO1hvCaXltC"
      },
      "source": [
        "Что мы видим:\n",
        "\n",
        "*   столбец `country` представляет собой тип `object`. Это тип данных для строковых и смешанных значений;\n",
        "*   столбцы `broadband` и `mobile` имеют тип данных `float`, то есть относятся к числам с плавающей точкой.\n",
        "\n",
        "# Быстро оцениваем данные\n",
        "\n",
        " В Pandas существует специальный метод `describe()`. Он показывает среднее со стандартным отклонением, максимальные, минимальные значения переменных и их разделение по квантилям."
      ]
    },
    {
      "cell_type": "code",
      "execution_count": null,
      "metadata": {
        "colab": {
          "base_uri": "https://localhost:8080/"
        },
        "id": "CgZZTEtfX5KV",
        "outputId": "d710c12c-53bd-4f1c-f5d5-bff8d1f96a64"
      },
      "outputs": [
        {
          "name": "stdout",
          "output_type": "stream",
          "text": [
            "        broadband      mobile\n",
            "count  177.000000  136.000000\n",
            "mean    72.672825   53.788235\n",
            "std     66.461751   43.327121\n",
            "min      4.010000    7.270000\n",
            "25%     22.500000   24.402500\n",
            "50%     43.480000   35.825000\n",
            "75%    109.410000   69.205000\n",
            "max    261.820000  238.060000\n"
          ]
        }
      ],
      "source": [
        "print(df.describe())"
      ]
    },
    {
      "cell_type": "markdown",
      "metadata": {
        "id": "-YzLNqDLbiEz"
      },
      "source": [
        "Пройдёмся по каждой строчке:\n",
        "\n",
        "*   `count` — это количество заполненных строк в каждом столбце. Мы видим, что в столбце с данными о скорости мобильного интернета есть пропуски.\n",
        "*   `mean` — среднее значение скорости обычного и мобильного интернета. Уже можно сделать вывод, что мобильный интернет в большинстве стран медленнее, чем кабельный.\n",
        "*   `std` — стандартное отклонение. Важный статистический показатель, показывающий разброс значений.\n",
        "*   `min` и `max` — минимальное и максимальное значения.\n",
        "*   `25%`, `50%` и `75%` — значения скорости интернета по процентилям. Если не углубляться в статистику, то процентиль — это число, которое показывает распределение значений в выборке. Например, в выборке с мобильным интернетом 25-й процентиль показывает, что 25% от всех значений скорости интернета меньше, чем 24,4.\n",
        "\n",
        "Обратите внимание, что этот метод работает только для чисел. Информация для столбца с названием стран отсутствует.\n"
      ]
    },
    {
      "cell_type": "markdown",
      "metadata": {
        "id": "v1CW1RjIX_Xn"
      },
      "source": [
        "\n",
        "# Сортируем и фильтруем записи\n",
        "\n",
        "В нашем датафрейме данные уже отсортированы от большего к меньшему по скорости проводного интернета. Попробуем найти страну с наилучшим мобильным интернетом. Для этого используем стандартный метод `sort_values`, который принимает два параметра:\n",
        "\n",
        "*   Название столбца, по которому происходит сортировка, обязательно должно быть заключено в одинарные или двойные кавычки.\n",
        "*   Параметр `ascending=` указывает на тип сортировки. Если мы хотим отсортировать значения от большего к меньшему, то параметру присваиваем `False`. Для сортировки от меньшего к большему используем `True`.\n",
        "\n"
      ]
    },
    {
      "cell_type": "code",
      "execution_count": null,
      "metadata": {
        "colab": {
          "base_uri": "https://localhost:8080/"
        },
        "id": "Y0j0xdT7YbCP",
        "outputId": "22e313f0-d739-4fc0-d989-eb5ca40a05f2"
      },
      "outputs": [
        {
          "name": "stdout",
          "output_type": "stream",
          "text": [
            "                 country  broadband  mobile\n",
            "15  United Arab Emirates     189.07  238.06\n",
            "9            South Korea     212.57  202.61\n",
            "23                Norway     168.25  177.72\n",
            "42                 Qatar     113.88  172.18\n",
            "14                 China     196.57  165.38\n"
          ]
        }
      ],
      "source": [
        "print(df.sort_values('mobile', ascending=False).head())"
      ]
    },
    {
      "cell_type": "markdown",
      "metadata": {
        "id": "iCFCF5KcYiFT"
      },
      "source": [
        "Теперь рейтинг стран другой — пятёрка лидеров поменялась (потому что мы отсортировали данные по другому значению). Мы выяснили, что самый быстрый мобильный интернет в ОАЭ.\n",
        "\n",
        "Но есть нюанс. Если вернуться к первоначальной таблице, отсортированной по скорости проводного интернета, можно заметить, что у лидера — Монако — во втором столбце написано `NaN`.\n",
        "\n",
        "`NaN` в Python указывает на отсутствие данных. Поэтому мы не знаем скорость мобильного интернета в Монако из этого датасета и не можем сделать однозначный вывод о лидерах в мире мобильной связи.\n",
        "\n",
        "Попробуем отфильтровать значения, убрав из датафрейма страны с неизвестной скоростью мобильного интернета, и посмотрим на худшие по показателю страны (если оставить `NaN`, он будет засорять «дно» таблицы и увидеть реальные значения по самому медленному мобильному интернету будет сложновато).\n",
        "\n",
        "В Pandas существуют различные способы фильтрации для удаления `NaN`. Мы воспользуемся методом `dropna()`, который удаляет все строки с пропусками. Важно, что удаляется полностью строка, содержащая `NaN`, а не только ячейки с пропущенными значениями в столбце с пропусками."
      ]
    },
    {
      "cell_type": "code",
      "execution_count": null,
      "metadata": {
        "colab": {
          "base_uri": "https://localhost:8080/"
        },
        "id": "xxe1u_mAYp3B",
        "outputId": "4248a1a2-9ce4-4d2a-9195-26b33fe57859"
      },
      "outputs": [
        {
          "name": "stdout",
          "output_type": "stream",
          "text": [
            "         country  broadband  mobile\n",
            "1      Singapore     255.83  105.01\n",
            "2      Hong Kong     254.70   83.58\n",
            "3        Romania     232.17   59.67\n",
            "4    Switzerland     229.96  135.70\n",
            "5        Denmark     227.91  112.03\n",
            "..           ...        ...     ...\n",
            "168      Algeria      10.43   18.10\n",
            "169   Mozambique       9.27   25.02\n",
            "171  Afghanistan       8.26    7.27\n",
            "173        Sudan       7.92   14.51\n",
            "176         Cuba       4.01   25.02\n",
            "\n",
            "[136 rows x 3 columns]\n"
          ]
        }
      ],
      "source": [
        "print(df.dropna())"
      ]
    },
    {
      "cell_type": "markdown",
      "metadata": {
        "id": "0YLyLDd_Yw8R"
      },
      "source": [
        "Сохраним результат в новый датафрейм и назовём его `df_without_nan`. Изначальный DataFrame стараемся не менять, так как он ещё может нам понадобиться."
      ]
    },
    {
      "cell_type": "code",
      "execution_count": null,
      "metadata": {
        "id": "fT3WsHnvYzHb"
      },
      "outputs": [],
      "source": [
        "df_without_nan = df.dropna()"
      ]
    },
    {
      "cell_type": "markdown",
      "metadata": {
        "id": "cE9b3J5CY1dW"
      },
      "source": [
        "Теперь отсортируем полученные результаты по столбцу `mobile` — от меньшего к большему — и посмотрим на страну с самым медленным мобильным интернетом:\n",
        "\n"
      ]
    },
    {
      "cell_type": "code",
      "execution_count": null,
      "metadata": {
        "colab": {
          "base_uri": "https://localhost:8080/"
        },
        "id": "hOSP2_ciY1-e",
        "outputId": "923af02b-896d-45a8-c33d-abc19a7c52fe"
      },
      "outputs": [
        {
          "name": "stdout",
          "output_type": "stream",
          "text": [
            "                  country  broadband  mobile\n",
            "171           Afghanistan       8.26    7.27\n",
            "110             Palestine      29.46    7.57\n",
            "128             Venezuela      23.92    7.68\n",
            "82                  Ghana      52.10   12.90\n",
            "140              Tanzania      19.77   13.23\n",
            "..                    ...        ...     ...\n",
            "14                  China     196.57  165.38\n",
            "42                  Qatar     113.88  172.18\n",
            "23                 Norway     168.25  177.72\n",
            "9             South Korea     212.57  202.61\n",
            "15   United Arab Emirates     189.07  238.06\n",
            "\n",
            "[136 rows x 3 columns]\n"
          ]
        }
      ],
      "source": [
        "print(df_without_nan.sort_values('mobile', ascending=True))\n"
      ]
    },
    {
      "cell_type": "markdown",
      "metadata": {
        "id": "CMr7wZUeZBMZ"
      },
      "source": [
        "# Добавление строки\n",
        "\n",
        "Добавим в наш датафрейм новую страну. Так как в списке их уже 177, пусть это будет Галактическая Республика из «Звёздных войн».\n",
        "\n",
        "Для добавления информации в датафрейм используется метод `concat`:"
      ]
    },
    {
      "cell_type": "code",
      "execution_count": null,
      "metadata": {
        "colab": {
          "base_uri": "https://localhost:8080/"
        },
        "id": "SnD-r8X0ZE1Y",
        "outputId": "6f4abba2-e59b-491d-9a57-f507a6da74a2"
      },
      "outputs": [
        {
          "name": "stdout",
          "output_type": "stream",
          "text": [
            "                      country  broadband  mobile\n",
            "0    Галактическая Республика    1342.00  295.45\n",
            "1                      Monaco     261.82     NaN\n",
            "2                   Singapore     255.83  105.01\n",
            "3                   Hong Kong     254.70   83.58\n",
            "4                     Romania     232.17   59.67\n",
            "..                        ...        ...     ...\n",
            "173         Equatorial Guinea       7.95     NaN\n",
            "174                     Sudan       7.92   14.51\n",
            "175                     Yemen       7.59     NaN\n",
            "176              Turkmenistan       4.11     NaN\n",
            "177                      Cuba       4.01   25.02\n",
            "\n",
            "[178 rows x 3 columns]\n"
          ]
        }
      ],
      "source": [
        "new_country = {'country': 'Галактическая Республика', 'broadband': 1342, 'mobile': 295.45}\n",
        "df1 = pd.DataFrame([new_country])\n",
        "new_list1 = pd.concat([df1,df], ignore_index=True)\n",
        "\n",
        "print(new_list1)"
      ]
    },
    {
      "cell_type": "markdown",
      "metadata": {
        "id": "mx3_WWNZZK0j"
      },
      "source": [
        "Разберём код построчно:\n",
        "\n",
        "\n",
        "*   Сначала мы создаём словарь, который будет содержать название страны, информацию о средней скорости интернета и средней скорости мобильного интернета.\n",
        "*   В конструкторе `pd.DataFrame` конвертируем словарь в датафрейм.\n",
        "*   С помощью метода `concat` объединяем изначальный датафрейм с новым в `new_list`. Не забываем указать `ignore_index=True`, чтобы новая строка появилась первой.\n",
        "\n",
        "# Удаление строк\n",
        "\n",
        "Строки в Pandas удаляются методом drop. Давайте теперь с его помощью удалим несуществующую страну, которую мы добавили ранее в наш датафрейм:\n"
      ]
    },
    {
      "cell_type": "code",
      "execution_count": null,
      "metadata": {
        "colab": {
          "base_uri": "https://localhost:8080/"
        },
        "id": "CWPzt74pZXWt",
        "outputId": "89b94444-6475-4dff-abfd-77de6956c5c8"
      },
      "outputs": [
        {
          "name": "stdout",
          "output_type": "stream",
          "text": [
            "               country  broadband  mobile\n",
            "1               Monaco     261.82     NaN\n",
            "2            Singapore     255.83  105.01\n",
            "3            Hong Kong     254.70   83.58\n",
            "4              Romania     232.17   59.67\n",
            "5          Switzerland     229.96  135.70\n",
            "..                 ...        ...     ...\n",
            "173  Equatorial Guinea       7.95     NaN\n",
            "174              Sudan       7.92   14.51\n",
            "175              Yemen       7.59     NaN\n",
            "176       Turkmenistan       4.11     NaN\n",
            "177               Cuba       4.01   25.02\n",
            "\n",
            "[177 rows x 3 columns]\n"
          ]
        }
      ],
      "source": [
        "new_list1.drop(0, inplace=True)\n",
        "\n",
        "print(new_list1)"
      ]
    },
    {
      "cell_type": "markdown",
      "metadata": {
        "id": "IUnAGyqzZbUD"
      },
      "source": [
        "В метод передаётся два параметра:\n",
        "\n",
        "*   Индекс строк, которые необходимо удалить, — в нашем случае это строка с индексом 0. Чтобы удалить несколько строк, нужно передать индексы списком. Например, `[0, 1, 2]`.\n",
        "*   `inplace=True` — обнуляет индексы, чтобы у первой строки после удаления он стал равен 0.\n",
        "\n",
        "Галактической Республики больше нет. Датафрейм вернулся в изначальный вид.\n",
        "\n",
        "# Фильтрация строк\n",
        "\n",
        "Иногда в датафрейме нужно найти определённую строку. Сделать это можно двумя способами: по индексному значению и индексу. Попробуем оба метода.\n",
        "\n",
        "**Фильтрация по индексному значению.** Оно соответствует первому столбцу в датафрейме. В нашем случае индексные значения — это числа от 0 до 177.\n",
        "\n",
        "Выведем на экран страны с индексными значениями `10` и `11`:\n"
      ]
    },
    {
      "cell_type": "code",
      "execution_count": null,
      "metadata": {
        "colab": {
          "base_uri": "https://localhost:8080/"
        },
        "id": "buQRNuxZZqZp",
        "outputId": "ed60da9f-26bf-4c74-b6a1-78a266ab6b78"
      },
      "outputs": [
        {
          "name": "stdout",
          "output_type": "stream",
          "text": [
            "        country  broadband  mobile\n",
            "10  South Korea     212.57  202.61\n",
            "11      Hungary     210.55   60.16\n"
          ]
        }
      ],
      "source": [
        "print(new_list1.loc[[10,11]])"
      ]
    },
    {
      "cell_type": "markdown",
      "metadata": {
        "id": "5uw8LqiDZvf4"
      },
      "source": [
        "**Фильтрация по индексу.** Он в датафрейме всегда начинается с 0. Сделаем срез стран с индексами 5–8. Для этого используется метод iloc.\n"
      ]
    },
    {
      "cell_type": "code",
      "execution_count": null,
      "metadata": {
        "colab": {
          "base_uri": "https://localhost:8080/"
        },
        "id": "2WGDtN39ZxFN",
        "outputId": "65b0c43e-46e1-4bd3-fa96-4f976b9f2dd4"
      },
      "outputs": [
        {
          "name": "stdout",
          "output_type": "stream",
          "text": [
            "    country  broadband  mobile\n",
            "6   Denmark     227.91  112.03\n",
            "7  Thailand     225.17   56.90\n",
            "8     Chile     217.60   21.23\n"
          ]
        }
      ],
      "source": [
        "print(new_list1.iloc[5:8])"
      ]
    },
    {
      "cell_type": "markdown",
      "metadata": {
        "id": "ZyJobbz0Z13J"
      },
      "source": [
        "Получили срез списка с 6-го по 8-й объект. Обратите внимание, что индекс и индексные значения строк различаются.\n",
        "\n",
        "# Фильтрация датафрейма по значениям\n",
        "\n",
        "Выведем на экран только те страны, где скорость мобильного интернета более 100 Мбит/с:"
      ]
    },
    {
      "cell_type": "code",
      "execution_count": null,
      "metadata": {
        "colab": {
          "base_uri": "https://localhost:8080/"
        },
        "id": "5dMBWnMGZ568",
        "outputId": "c32c3ee3-592e-4720-fa67-eb2a469e9a44"
      },
      "outputs": [
        {
          "name": "stdout",
          "output_type": "stream",
          "text": [
            "                 country  broadband  mobile\n",
            "2              Singapore     255.83  105.01\n",
            "5            Switzerland     229.96  135.70\n",
            "6                Denmark     227.91  112.03\n",
            "10           South Korea     212.57  202.61\n",
            "13         United States     203.81  110.07\n",
            "15                 China     196.57  165.38\n",
            "16  United Arab Emirates     189.07  238.06\n",
            "20                Sweden     174.90  103.08\n",
            "21            Luxembourg     172.05  116.76\n",
            "24                Norway     168.25  177.72\n",
            "25           Netherlands     165.00  106.98\n",
            "31                Kuwait     149.37  157.18\n",
            "43                 Qatar     113.88  172.18\n",
            "50          Saudi Arabia      94.64  155.97\n",
            "54              Bulgaria      86.75  142.27\n",
            "57             Australia      82.73  135.30\n",
            "66               Croatia      69.09  114.76\n",
            "77                Cyprus      55.11  144.64\n"
          ]
        }
      ],
      "source": [
        "print(new_list1[new_list1['mobile'] > 100])"
      ]
    },
    {
      "cell_type": "markdown",
      "metadata": {
        "id": "hVvj3YxvZ-o8"
      },
      "source": [
        "\n",
        "\n",
        "> Важно! <br>При использовании этого метода сохраняются индексные значения анализируемого датафрейма.\n",
        "\n"
      ]
    },
    {
      "cell_type": "markdown",
      "metadata": {
        "id": "qE9Fvhq7aD8b"
      },
      "source": [
        "# Агрегирование данных\n",
        "\n",
        "Агрегирование данных — это функция, которая принимает несколько отдельных значений и возвращает сводные данные.\n",
        "\n",
        "Рассчитаем среднее значение скорости интернета для всех стран с помощью функции agg, передав туда поле mean:"
      ]
    },
    {
      "cell_type": "code",
      "execution_count": null,
      "metadata": {
        "colab": {
          "base_uri": "https://localhost:8080/"
        },
        "id": "jAyUtO77aHpb",
        "outputId": "204619ce-2901-4da6-cd9c-c3e188461ad2"
      },
      "outputs": [
        {
          "name": "stdout",
          "output_type": "stream",
          "text": [
            "mean    72.672825\n",
            "Name: broadband, dtype: float64\n"
          ]
        }
      ],
      "source": [
        "print(new_list1['broadband'].agg(['mean']))"
      ]
    },
    {
      "cell_type": "markdown",
      "metadata": {
        "id": "IRzVb4u0aKq1"
      },
      "source": [
        "Среднее значение скорости интернета по всем странам — 72,67.\n",
        "\n",
        "После завершения редактирования датафрейма его можно сохранить в CSV или другом формате:\n",
        "\n",
        "```python\n",
        "new_list1.to_csv('C:\\Users\\Skillbox\\Desktop\\country.csv')\n",
        "```\n",
        "\n"
      ]
    },
    {
      "cell_type": "markdown",
      "metadata": {
        "id": "Ham5nuk4cbqP"
      },
      "source": [
        "# Задачи\n",
        "Пример содержимого файла `sales.csv`\n",
        "\n",
        "```python\n",
        "import pandas as pd\n",
        "import numpy as np\n",
        "\n",
        "data = {\n",
        "    'date': pd.date_range('2023-01-01', periods=100),\n",
        "    'city': np.random.choice(['Москва', 'СПб', 'Екатеринбург'], 100),\n",
        "    'category': np.random.choice(['Электроника', 'Одежда', 'Продукты'], 100),\n",
        "    'product_id': np.random.randint(1000, 2000, 100),\n",
        "    'sales': np.random.randint(1000, 30000, 100),\n",
        "    'quantity': np.random.randint(1, 10, 100),\n",
        "    'price': np.random.randint(500, 5000, 100)\n",
        "}\n",
        "\n",
        "df = pd.DataFrame(data)\n",
        "df.to_csv('sales.csv', index=False)\n",
        "```\n",
        "\n",
        "\n",
        "\n",
        "1.   Чтение и первичная обработка\n",
        "\n",
        "*   Загрузить CSV файл sales.csv\n",
        "*   Вывести первые 5 строк\n",
        "*   Проверить наличие пропущенных значений\n",
        "*   Получить основную статистику по числовым столбцам\n",
        "\n",
        "2.   Фильтрация данных\n",
        "\n",
        "*   Выбрать строки, где продажи больше 1000\n",
        "*   Найти записи за определенный период\n",
        "*   Отфильтровать по нескольким условиям\n",
        "\n",
        "3.   Группировка данных\n",
        "\n",
        "*   Посчитать суммарные продажи по городам\n",
        "*   Найти средний чек по категориям товаров\n",
        "*   Определить топ-5 клиентов по объему покупок\n",
        "\n",
        "4.   Работа с NaN\n",
        "\n",
        "*   Заполнить пропуски средним значением\n",
        "*   Удалить строки с пропущенными данными\n",
        "*   Создать новый столбец на основе существующих\n",
        "\n",
        "# Доп. Баллы\n",
        "\n",
        "5.   Работа с временными рядами\n",
        "\n",
        "*   Извлечь месяц и год из даты\n",
        "*   Посчитать скользящее среднее\n",
        "*   Агрегировать данные по кварталам\n",
        "\n",
        "6.   Визуализация данных\n",
        "\n",
        "*   Построить график продаж по времени\n",
        "*   Создать гистограмму распределения\n",
        "*   Визуализировать корреляцию между показателями"
      ]
    },
    {
      "cell_type": "markdown",
      "metadata": {
        "id": "Ypvf8UTSceBK"
      },
      "source": [
        "# Pandas\n",
        "\n",
        "*   [Моя шпаргалка по pandas](https://habr.com/ru/companies/ruvds/articles/494720/)\n",
        "*   [Модуль pandas](https://education.yandex.ru/handbook/python/article/modul-pandas)\n",
        "*   [Как использовать библиотеку Pandas в Python](https://sky.pro/wiki/analytics/kak-ispolzovat-biblioteku-pandas-v-python-rukovodstvo-dlya-novichkov/)\n",
        "*   [Работаем с Pandas: основные понятия и реальные данные](https://skillbox.ru/media/code/rabotaem-s-pandas-osnovnye-ponyatiya-i-realnye-dannye/)\n",
        "\n",
        "\n"
      ]
    },
    {
      "cell_type": "markdown",
      "metadata": {},
      "source": [
        "# Задачи\n",
        "\n",
        "Создадим датафрейм"
      ]
    },
    {
      "cell_type": "code",
      "execution_count": 1,
      "metadata": {},
      "outputs": [],
      "source": [
        "import pandas as pd\n",
        "import numpy as np\n",
        "\n",
        "data = {\n",
        "    'date': pd.date_range('2023-01-01', periods=100),\n",
        "    'city': np.random.choice(['Москва', 'СПб', 'Екатеринбург'], 100),\n",
        "    'category': np.random.choice(['Электроника', 'Одежда', 'Продукты'], 100),\n",
        "    'product_id': np.random.randint(1000, 2000, 100),\n",
        "    'sales': np.random.randint(1000, 30000, 100),\n",
        "    'quantity': np.random.randint(1, 10, 100),\n",
        "    'price': np.random.randint(500, 5000, 100)\n",
        "}\n",
        "\n",
        "df = pd.DataFrame(data)\n",
        "df.to_csv('sales.csv', index=False)"
      ]
    },
    {
      "cell_type": "markdown",
      "metadata": {},
      "source": [
        "## 1.   Чтение и первичная обработка\n",
        "\n",
        "*   Загрузить CSV файл sales.csv\n",
        "*   Вывести первые 5 строк\n",
        "*   Проверить наличие пропущенных значений\n",
        "*   Получить основную статистику по числовым столбцам"
      ]
    },
    {
      "cell_type": "markdown",
      "metadata": {},
      "source": [
        "Загружаем csv и выводим первые 5 строк"
      ]
    },
    {
      "cell_type": "code",
      "execution_count": 77,
      "metadata": {},
      "outputs": [
        {
          "data": {
            "text/html": [
              "<div>\n",
              "<style scoped>\n",
              "    .dataframe tbody tr th:only-of-type {\n",
              "        vertical-align: middle;\n",
              "    }\n",
              "\n",
              "    .dataframe tbody tr th {\n",
              "        vertical-align: top;\n",
              "    }\n",
              "\n",
              "    .dataframe thead th {\n",
              "        text-align: right;\n",
              "    }\n",
              "</style>\n",
              "<table border=\"1\" class=\"dataframe\">\n",
              "  <thead>\n",
              "    <tr style=\"text-align: right;\">\n",
              "      <th></th>\n",
              "      <th>date</th>\n",
              "      <th>city</th>\n",
              "      <th>category</th>\n",
              "      <th>product_id</th>\n",
              "      <th>sales</th>\n",
              "      <th>quantity</th>\n",
              "      <th>price</th>\n",
              "    </tr>\n",
              "  </thead>\n",
              "  <tbody>\n",
              "    <tr>\n",
              "      <th>0</th>\n",
              "      <td>2023-01-01</td>\n",
              "      <td>Москва</td>\n",
              "      <td>Электроника</td>\n",
              "      <td>1499</td>\n",
              "      <td>28648</td>\n",
              "      <td>3</td>\n",
              "      <td>1639</td>\n",
              "    </tr>\n",
              "    <tr>\n",
              "      <th>1</th>\n",
              "      <td>2023-01-02</td>\n",
              "      <td>Москва</td>\n",
              "      <td>Электроника</td>\n",
              "      <td>1934</td>\n",
              "      <td>2738</td>\n",
              "      <td>4</td>\n",
              "      <td>2375</td>\n",
              "    </tr>\n",
              "    <tr>\n",
              "      <th>2</th>\n",
              "      <td>2023-01-03</td>\n",
              "      <td>Екатеринбург</td>\n",
              "      <td>Электроника</td>\n",
              "      <td>1641</td>\n",
              "      <td>4749</td>\n",
              "      <td>7</td>\n",
              "      <td>4660</td>\n",
              "    </tr>\n",
              "    <tr>\n",
              "      <th>3</th>\n",
              "      <td>2023-01-04</td>\n",
              "      <td>Москва</td>\n",
              "      <td>Электроника</td>\n",
              "      <td>1420</td>\n",
              "      <td>21535</td>\n",
              "      <td>8</td>\n",
              "      <td>4413</td>\n",
              "    </tr>\n",
              "    <tr>\n",
              "      <th>4</th>\n",
              "      <td>2023-01-05</td>\n",
              "      <td>Екатеринбург</td>\n",
              "      <td>Электроника</td>\n",
              "      <td>1866</td>\n",
              "      <td>5740</td>\n",
              "      <td>9</td>\n",
              "      <td>4052</td>\n",
              "    </tr>\n",
              "  </tbody>\n",
              "</table>\n",
              "</div>"
            ],
            "text/plain": [
              "         date          city     category  product_id  sales  quantity  price\n",
              "0  2023-01-01        Москва  Электроника        1499  28648         3   1639\n",
              "1  2023-01-02        Москва  Электроника        1934   2738         4   2375\n",
              "2  2023-01-03  Екатеринбург  Электроника        1641   4749         7   4660\n",
              "3  2023-01-04        Москва  Электроника        1420  21535         8   4413\n",
              "4  2023-01-05  Екатеринбург  Электроника        1866   5740         9   4052"
            ]
          },
          "execution_count": 77,
          "metadata": {},
          "output_type": "execute_result"
        }
      ],
      "source": [
        "df = pd.read_csv('sales.csv')\n",
        "df.head()"
      ]
    },
    {
      "cell_type": "code",
      "execution_count": 78,
      "metadata": {},
      "outputs": [
        {
          "name": "stdout",
          "output_type": "stream",
          "text": [
            "<class 'pandas.core.frame.DataFrame'>\n",
            "RangeIndex: 100 entries, 0 to 99\n",
            "Data columns (total 7 columns):\n",
            " #   Column      Non-Null Count  Dtype \n",
            "---  ------      --------------  ----- \n",
            " 0   date        100 non-null    object\n",
            " 1   city        100 non-null    object\n",
            " 2   category    100 non-null    object\n",
            " 3   product_id  100 non-null    int64 \n",
            " 4   sales       100 non-null    int64 \n",
            " 5   quantity    100 non-null    int64 \n",
            " 6   price       100 non-null    int64 \n",
            "dtypes: int64(4), object(3)\n",
            "memory usage: 5.6+ KB\n"
          ]
        }
      ],
      "source": [
        "df.info()"
      ]
    },
    {
      "cell_type": "code",
      "execution_count": 79,
      "metadata": {},
      "outputs": [
        {
          "data": {
            "text/plain": [
              "date          0\n",
              "city          0\n",
              "category      0\n",
              "product_id    0\n",
              "sales         0\n",
              "quantity      0\n",
              "price         0\n",
              "dtype: int64"
            ]
          },
          "execution_count": 79,
          "metadata": {},
          "output_type": "execute_result"
        }
      ],
      "source": [
        "df.isna().sum()"
      ]
    },
    {
      "cell_type": "markdown",
      "metadata": {},
      "source": [
        "В данных нет пропусков (обе команды позволяют это увидеть)"
      ]
    },
    {
      "cell_type": "markdown",
      "metadata": {},
      "source": [
        "Получим основную статистику по числовым столбцам (product_id, sales, quantity, price)"
      ]
    },
    {
      "cell_type": "code",
      "execution_count": 80,
      "metadata": {},
      "outputs": [
        {
          "data": {
            "text/html": [
              "<div>\n",
              "<style scoped>\n",
              "    .dataframe tbody tr th:only-of-type {\n",
              "        vertical-align: middle;\n",
              "    }\n",
              "\n",
              "    .dataframe tbody tr th {\n",
              "        vertical-align: top;\n",
              "    }\n",
              "\n",
              "    .dataframe thead th {\n",
              "        text-align: right;\n",
              "    }\n",
              "</style>\n",
              "<table border=\"1\" class=\"dataframe\">\n",
              "  <thead>\n",
              "    <tr style=\"text-align: right;\">\n",
              "      <th></th>\n",
              "      <th>product_id</th>\n",
              "      <th>sales</th>\n",
              "      <th>quantity</th>\n",
              "      <th>price</th>\n",
              "    </tr>\n",
              "  </thead>\n",
              "  <tbody>\n",
              "    <tr>\n",
              "      <th>count</th>\n",
              "      <td>100.000000</td>\n",
              "      <td>100.000000</td>\n",
              "      <td>100.000000</td>\n",
              "      <td>100.00000</td>\n",
              "    </tr>\n",
              "    <tr>\n",
              "      <th>mean</th>\n",
              "      <td>1518.370000</td>\n",
              "      <td>15019.080000</td>\n",
              "      <td>5.170000</td>\n",
              "      <td>2625.69000</td>\n",
              "    </tr>\n",
              "    <tr>\n",
              "      <th>std</th>\n",
              "      <td>289.642191</td>\n",
              "      <td>8897.589251</td>\n",
              "      <td>2.570442</td>\n",
              "      <td>1272.27892</td>\n",
              "    </tr>\n",
              "    <tr>\n",
              "      <th>min</th>\n",
              "      <td>1025.000000</td>\n",
              "      <td>1094.000000</td>\n",
              "      <td>1.000000</td>\n",
              "      <td>552.00000</td>\n",
              "    </tr>\n",
              "    <tr>\n",
              "      <th>25%</th>\n",
              "      <td>1270.000000</td>\n",
              "      <td>6750.250000</td>\n",
              "      <td>3.000000</td>\n",
              "      <td>1615.50000</td>\n",
              "    </tr>\n",
              "    <tr>\n",
              "      <th>50%</th>\n",
              "      <td>1502.500000</td>\n",
              "      <td>14239.000000</td>\n",
              "      <td>5.000000</td>\n",
              "      <td>2529.50000</td>\n",
              "    </tr>\n",
              "    <tr>\n",
              "      <th>75%</th>\n",
              "      <td>1798.250000</td>\n",
              "      <td>22213.500000</td>\n",
              "      <td>7.000000</td>\n",
              "      <td>3799.00000</td>\n",
              "    </tr>\n",
              "    <tr>\n",
              "      <th>max</th>\n",
              "      <td>1996.000000</td>\n",
              "      <td>29782.000000</td>\n",
              "      <td>9.000000</td>\n",
              "      <td>4742.00000</td>\n",
              "    </tr>\n",
              "  </tbody>\n",
              "</table>\n",
              "</div>"
            ],
            "text/plain": [
              "        product_id         sales    quantity       price\n",
              "count   100.000000    100.000000  100.000000   100.00000\n",
              "mean   1518.370000  15019.080000    5.170000  2625.69000\n",
              "std     289.642191   8897.589251    2.570442  1272.27892\n",
              "min    1025.000000   1094.000000    1.000000   552.00000\n",
              "25%    1270.000000   6750.250000    3.000000  1615.50000\n",
              "50%    1502.500000  14239.000000    5.000000  2529.50000\n",
              "75%    1798.250000  22213.500000    7.000000  3799.00000\n",
              "max    1996.000000  29782.000000    9.000000  4742.00000"
            ]
          },
          "execution_count": 80,
          "metadata": {},
          "output_type": "execute_result"
        }
      ],
      "source": [
        "df.describe()"
      ]
    },
    {
      "cell_type": "markdown",
      "metadata": {},
      "source": [
        "В данных виден кратный разброс в показателях, построим графики для, чтобы увидеть этот разброс"
      ]
    },
    {
      "cell_type": "markdown",
      "metadata": {},
      "source": [
        "Данные не похожи на какое-либо известное распределение"
      ]
    },
    {
      "cell_type": "markdown",
      "metadata": {},
      "source": [
        "## 2.   Фильтрация данных\n",
        "\n",
        "*   Выбрать строки, где продажи больше 1000\n",
        "*   Найти записи за определенный период\n",
        "*   Отфильтровать по нескольким условиям"
      ]
    },
    {
      "cell_type": "markdown",
      "metadata": {},
      "source": [
        "Найдём строки, где продажи больше 1000"
      ]
    },
    {
      "cell_type": "code",
      "execution_count": 82,
      "metadata": {},
      "outputs": [
        {
          "data": {
            "text/html": [
              "<div>\n",
              "<style scoped>\n",
              "    .dataframe tbody tr th:only-of-type {\n",
              "        vertical-align: middle;\n",
              "    }\n",
              "\n",
              "    .dataframe tbody tr th {\n",
              "        vertical-align: top;\n",
              "    }\n",
              "\n",
              "    .dataframe thead th {\n",
              "        text-align: right;\n",
              "    }\n",
              "</style>\n",
              "<table border=\"1\" class=\"dataframe\">\n",
              "  <thead>\n",
              "    <tr style=\"text-align: right;\">\n",
              "      <th></th>\n",
              "      <th>date</th>\n",
              "      <th>city</th>\n",
              "      <th>category</th>\n",
              "      <th>product_id</th>\n",
              "      <th>sales</th>\n",
              "      <th>quantity</th>\n",
              "      <th>price</th>\n",
              "    </tr>\n",
              "  </thead>\n",
              "  <tbody>\n",
              "    <tr>\n",
              "      <th>0</th>\n",
              "      <td>2023-01-01</td>\n",
              "      <td>Москва</td>\n",
              "      <td>Электроника</td>\n",
              "      <td>1499</td>\n",
              "      <td>28648</td>\n",
              "      <td>3</td>\n",
              "      <td>1639</td>\n",
              "    </tr>\n",
              "    <tr>\n",
              "      <th>3</th>\n",
              "      <td>2023-01-04</td>\n",
              "      <td>Москва</td>\n",
              "      <td>Электроника</td>\n",
              "      <td>1420</td>\n",
              "      <td>21535</td>\n",
              "      <td>8</td>\n",
              "      <td>4413</td>\n",
              "    </tr>\n",
              "    <tr>\n",
              "      <th>5</th>\n",
              "      <td>2023-01-06</td>\n",
              "      <td>Москва</td>\n",
              "      <td>Электроника</td>\n",
              "      <td>1138</td>\n",
              "      <td>16434</td>\n",
              "      <td>7</td>\n",
              "      <td>2602</td>\n",
              "    </tr>\n",
              "    <tr>\n",
              "      <th>6</th>\n",
              "      <td>2023-01-07</td>\n",
              "      <td>СПб</td>\n",
              "      <td>Электроника</td>\n",
              "      <td>1706</td>\n",
              "      <td>14298</td>\n",
              "      <td>9</td>\n",
              "      <td>3593</td>\n",
              "    </tr>\n",
              "    <tr>\n",
              "      <th>7</th>\n",
              "      <td>2023-01-08</td>\n",
              "      <td>Москва</td>\n",
              "      <td>Продукты</td>\n",
              "      <td>1996</td>\n",
              "      <td>25947</td>\n",
              "      <td>6</td>\n",
              "      <td>1113</td>\n",
              "    </tr>\n",
              "    <tr>\n",
              "      <th>...</th>\n",
              "      <td>...</td>\n",
              "      <td>...</td>\n",
              "      <td>...</td>\n",
              "      <td>...</td>\n",
              "      <td>...</td>\n",
              "      <td>...</td>\n",
              "      <td>...</td>\n",
              "    </tr>\n",
              "    <tr>\n",
              "      <th>91</th>\n",
              "      <td>2023-04-02</td>\n",
              "      <td>СПб</td>\n",
              "      <td>Электроника</td>\n",
              "      <td>1632</td>\n",
              "      <td>17938</td>\n",
              "      <td>5</td>\n",
              "      <td>4711</td>\n",
              "    </tr>\n",
              "    <tr>\n",
              "      <th>92</th>\n",
              "      <td>2023-04-03</td>\n",
              "      <td>Екатеринбург</td>\n",
              "      <td>Электроника</td>\n",
              "      <td>1975</td>\n",
              "      <td>22096</td>\n",
              "      <td>7</td>\n",
              "      <td>4742</td>\n",
              "    </tr>\n",
              "    <tr>\n",
              "      <th>95</th>\n",
              "      <td>2023-04-06</td>\n",
              "      <td>Москва</td>\n",
              "      <td>Электроника</td>\n",
              "      <td>1303</td>\n",
              "      <td>21891</td>\n",
              "      <td>7</td>\n",
              "      <td>2557</td>\n",
              "    </tr>\n",
              "    <tr>\n",
              "      <th>96</th>\n",
              "      <td>2023-04-07</td>\n",
              "      <td>Москва</td>\n",
              "      <td>Электроника</td>\n",
              "      <td>1891</td>\n",
              "      <td>24137</td>\n",
              "      <td>6</td>\n",
              "      <td>773</td>\n",
              "    </tr>\n",
              "    <tr>\n",
              "      <th>97</th>\n",
              "      <td>2023-04-08</td>\n",
              "      <td>Екатеринбург</td>\n",
              "      <td>Электроника</td>\n",
              "      <td>1474</td>\n",
              "      <td>12315</td>\n",
              "      <td>8</td>\n",
              "      <td>3903</td>\n",
              "    </tr>\n",
              "  </tbody>\n",
              "</table>\n",
              "<p>66 rows × 7 columns</p>\n",
              "</div>"
            ],
            "text/plain": [
              "          date          city     category  product_id  sales  quantity  price\n",
              "0   2023-01-01        Москва  Электроника        1499  28648         3   1639\n",
              "3   2023-01-04        Москва  Электроника        1420  21535         8   4413\n",
              "5   2023-01-06        Москва  Электроника        1138  16434         7   2602\n",
              "6   2023-01-07           СПб  Электроника        1706  14298         9   3593\n",
              "7   2023-01-08        Москва     Продукты        1996  25947         6   1113\n",
              "..         ...           ...          ...         ...    ...       ...    ...\n",
              "91  2023-04-02           СПб  Электроника        1632  17938         5   4711\n",
              "92  2023-04-03  Екатеринбург  Электроника        1975  22096         7   4742\n",
              "95  2023-04-06        Москва  Электроника        1303  21891         7   2557\n",
              "96  2023-04-07        Москва  Электроника        1891  24137         6    773\n",
              "97  2023-04-08  Екатеринбург  Электроника        1474  12315         8   3903\n",
              "\n",
              "[66 rows x 7 columns]"
            ]
          },
          "execution_count": 82,
          "metadata": {},
          "output_type": "execute_result"
        }
      ],
      "source": [
        "# У меня все продажи большие, поэтому вместо 1000 будет 10000\n",
        "df[df['sales'] > 10000]"
      ]
    },
    {
      "cell_type": "markdown",
      "metadata": {},
      "source": [
        "Найдём записи за первую половину февраля"
      ]
    },
    {
      "cell_type": "code",
      "execution_count": 83,
      "metadata": {},
      "outputs": [],
      "source": [
        "df['date'] = pd.to_datetime(df['date'], format='%Y-%m-%d')"
      ]
    },
    {
      "cell_type": "code",
      "execution_count": 84,
      "metadata": {},
      "outputs": [
        {
          "data": {
            "text/html": [
              "<div>\n",
              "<style scoped>\n",
              "    .dataframe tbody tr th:only-of-type {\n",
              "        vertical-align: middle;\n",
              "    }\n",
              "\n",
              "    .dataframe tbody tr th {\n",
              "        vertical-align: top;\n",
              "    }\n",
              "\n",
              "    .dataframe thead th {\n",
              "        text-align: right;\n",
              "    }\n",
              "</style>\n",
              "<table border=\"1\" class=\"dataframe\">\n",
              "  <thead>\n",
              "    <tr style=\"text-align: right;\">\n",
              "      <th></th>\n",
              "      <th>date</th>\n",
              "      <th>city</th>\n",
              "      <th>category</th>\n",
              "      <th>product_id</th>\n",
              "      <th>sales</th>\n",
              "      <th>quantity</th>\n",
              "      <th>price</th>\n",
              "    </tr>\n",
              "  </thead>\n",
              "  <tbody>\n",
              "    <tr>\n",
              "      <th>31</th>\n",
              "      <td>2023-02-01</td>\n",
              "      <td>СПб</td>\n",
              "      <td>Продукты</td>\n",
              "      <td>1486</td>\n",
              "      <td>1435</td>\n",
              "      <td>4</td>\n",
              "      <td>3775</td>\n",
              "    </tr>\n",
              "    <tr>\n",
              "      <th>32</th>\n",
              "      <td>2023-02-02</td>\n",
              "      <td>СПб</td>\n",
              "      <td>Электроника</td>\n",
              "      <td>1844</td>\n",
              "      <td>18072</td>\n",
              "      <td>1</td>\n",
              "      <td>1915</td>\n",
              "    </tr>\n",
              "    <tr>\n",
              "      <th>33</th>\n",
              "      <td>2023-02-03</td>\n",
              "      <td>Москва</td>\n",
              "      <td>Электроника</td>\n",
              "      <td>1806</td>\n",
              "      <td>13695</td>\n",
              "      <td>6</td>\n",
              "      <td>4281</td>\n",
              "    </tr>\n",
              "    <tr>\n",
              "      <th>34</th>\n",
              "      <td>2023-02-04</td>\n",
              "      <td>СПб</td>\n",
              "      <td>Продукты</td>\n",
              "      <td>1420</td>\n",
              "      <td>16982</td>\n",
              "      <td>4</td>\n",
              "      <td>1652</td>\n",
              "    </tr>\n",
              "    <tr>\n",
              "      <th>35</th>\n",
              "      <td>2023-02-05</td>\n",
              "      <td>СПб</td>\n",
              "      <td>Электроника</td>\n",
              "      <td>1755</td>\n",
              "      <td>26799</td>\n",
              "      <td>2</td>\n",
              "      <td>3871</td>\n",
              "    </tr>\n",
              "    <tr>\n",
              "      <th>36</th>\n",
              "      <td>2023-02-06</td>\n",
              "      <td>Москва</td>\n",
              "      <td>Продукты</td>\n",
              "      <td>1025</td>\n",
              "      <td>8432</td>\n",
              "      <td>2</td>\n",
              "      <td>1683</td>\n",
              "    </tr>\n",
              "    <tr>\n",
              "      <th>37</th>\n",
              "      <td>2023-02-07</td>\n",
              "      <td>СПб</td>\n",
              "      <td>Электроника</td>\n",
              "      <td>1275</td>\n",
              "      <td>23799</td>\n",
              "      <td>3</td>\n",
              "      <td>4007</td>\n",
              "    </tr>\n",
              "    <tr>\n",
              "      <th>38</th>\n",
              "      <td>2023-02-08</td>\n",
              "      <td>Екатеринбург</td>\n",
              "      <td>Одежда</td>\n",
              "      <td>1361</td>\n",
              "      <td>18559</td>\n",
              "      <td>3</td>\n",
              "      <td>4224</td>\n",
              "    </tr>\n",
              "    <tr>\n",
              "      <th>39</th>\n",
              "      <td>2023-02-09</td>\n",
              "      <td>Екатеринбург</td>\n",
              "      <td>Продукты</td>\n",
              "      <td>1747</td>\n",
              "      <td>28440</td>\n",
              "      <td>6</td>\n",
              "      <td>2913</td>\n",
              "    </tr>\n",
              "    <tr>\n",
              "      <th>40</th>\n",
              "      <td>2023-02-10</td>\n",
              "      <td>СПб</td>\n",
              "      <td>Одежда</td>\n",
              "      <td>1217</td>\n",
              "      <td>11029</td>\n",
              "      <td>4</td>\n",
              "      <td>2524</td>\n",
              "    </tr>\n",
              "    <tr>\n",
              "      <th>41</th>\n",
              "      <td>2023-02-11</td>\n",
              "      <td>СПб</td>\n",
              "      <td>Электроника</td>\n",
              "      <td>1392</td>\n",
              "      <td>2941</td>\n",
              "      <td>4</td>\n",
              "      <td>730</td>\n",
              "    </tr>\n",
              "    <tr>\n",
              "      <th>42</th>\n",
              "      <td>2023-02-12</td>\n",
              "      <td>Москва</td>\n",
              "      <td>Продукты</td>\n",
              "      <td>1430</td>\n",
              "      <td>12626</td>\n",
              "      <td>5</td>\n",
              "      <td>3574</td>\n",
              "    </tr>\n",
              "    <tr>\n",
              "      <th>43</th>\n",
              "      <td>2023-02-13</td>\n",
              "      <td>СПб</td>\n",
              "      <td>Электроника</td>\n",
              "      <td>1180</td>\n",
              "      <td>3848</td>\n",
              "      <td>6</td>\n",
              "      <td>3252</td>\n",
              "    </tr>\n",
              "    <tr>\n",
              "      <th>44</th>\n",
              "      <td>2023-02-14</td>\n",
              "      <td>Екатеринбург</td>\n",
              "      <td>Продукты</td>\n",
              "      <td>1798</td>\n",
              "      <td>1735</td>\n",
              "      <td>2</td>\n",
              "      <td>754</td>\n",
              "    </tr>\n",
              "  </tbody>\n",
              "</table>\n",
              "</div>"
            ],
            "text/plain": [
              "         date          city     category  product_id  sales  quantity  price\n",
              "31 2023-02-01           СПб     Продукты        1486   1435         4   3775\n",
              "32 2023-02-02           СПб  Электроника        1844  18072         1   1915\n",
              "33 2023-02-03        Москва  Электроника        1806  13695         6   4281\n",
              "34 2023-02-04           СПб     Продукты        1420  16982         4   1652\n",
              "35 2023-02-05           СПб  Электроника        1755  26799         2   3871\n",
              "36 2023-02-06        Москва     Продукты        1025   8432         2   1683\n",
              "37 2023-02-07           СПб  Электроника        1275  23799         3   4007\n",
              "38 2023-02-08  Екатеринбург       Одежда        1361  18559         3   4224\n",
              "39 2023-02-09  Екатеринбург     Продукты        1747  28440         6   2913\n",
              "40 2023-02-10           СПб       Одежда        1217  11029         4   2524\n",
              "41 2023-02-11           СПб  Электроника        1392   2941         4    730\n",
              "42 2023-02-12        Москва     Продукты        1430  12626         5   3574\n",
              "43 2023-02-13           СПб  Электроника        1180   3848         6   3252\n",
              "44 2023-02-14  Екатеринбург     Продукты        1798   1735         2    754"
            ]
          },
          "execution_count": 84,
          "metadata": {},
          "output_type": "execute_result"
        }
      ],
      "source": [
        "df[(df['date'] >= pd.to_datetime('2023-02-01', format='%Y-%m-%d')) & (df['date'] <= pd.to_datetime('2023-02-14', format='%Y-%m-%d'))]"
      ]
    },
    {
      "cell_type": "markdown",
      "metadata": {},
      "source": [
        "Фильтрация по нескольким условиям"
      ]
    },
    {
      "cell_type": "code",
      "execution_count": 85,
      "metadata": {},
      "outputs": [
        {
          "data": {
            "text/html": [
              "<div>\n",
              "<style scoped>\n",
              "    .dataframe tbody tr th:only-of-type {\n",
              "        vertical-align: middle;\n",
              "    }\n",
              "\n",
              "    .dataframe tbody tr th {\n",
              "        vertical-align: top;\n",
              "    }\n",
              "\n",
              "    .dataframe thead th {\n",
              "        text-align: right;\n",
              "    }\n",
              "</style>\n",
              "<table border=\"1\" class=\"dataframe\">\n",
              "  <thead>\n",
              "    <tr style=\"text-align: right;\">\n",
              "      <th></th>\n",
              "      <th>date</th>\n",
              "      <th>city</th>\n",
              "      <th>category</th>\n",
              "      <th>product_id</th>\n",
              "      <th>sales</th>\n",
              "      <th>quantity</th>\n",
              "      <th>price</th>\n",
              "    </tr>\n",
              "  </thead>\n",
              "  <tbody>\n",
              "    <tr>\n",
              "      <th>0</th>\n",
              "      <td>2023-01-01</td>\n",
              "      <td>Москва</td>\n",
              "      <td>Электроника</td>\n",
              "      <td>1499</td>\n",
              "      <td>28648</td>\n",
              "      <td>3</td>\n",
              "      <td>1639</td>\n",
              "    </tr>\n",
              "    <tr>\n",
              "      <th>2</th>\n",
              "      <td>2023-01-03</td>\n",
              "      <td>Екатеринбург</td>\n",
              "      <td>Электроника</td>\n",
              "      <td>1641</td>\n",
              "      <td>4749</td>\n",
              "      <td>7</td>\n",
              "      <td>4660</td>\n",
              "    </tr>\n",
              "    <tr>\n",
              "      <th>4</th>\n",
              "      <td>2023-01-05</td>\n",
              "      <td>Екатеринбург</td>\n",
              "      <td>Электроника</td>\n",
              "      <td>1866</td>\n",
              "      <td>5740</td>\n",
              "      <td>9</td>\n",
              "      <td>4052</td>\n",
              "    </tr>\n",
              "    <tr>\n",
              "      <th>8</th>\n",
              "      <td>2023-01-09</td>\n",
              "      <td>Екатеринбург</td>\n",
              "      <td>Продукты</td>\n",
              "      <td>1886</td>\n",
              "      <td>22566</td>\n",
              "      <td>7</td>\n",
              "      <td>589</td>\n",
              "    </tr>\n",
              "    <tr>\n",
              "      <th>12</th>\n",
              "      <td>2023-01-13</td>\n",
              "      <td>СПб</td>\n",
              "      <td>Электроника</td>\n",
              "      <td>1815</td>\n",
              "      <td>25823</td>\n",
              "      <td>6</td>\n",
              "      <td>4706</td>\n",
              "    </tr>\n",
              "    <tr>\n",
              "      <th>13</th>\n",
              "      <td>2023-01-14</td>\n",
              "      <td>Екатеринбург</td>\n",
              "      <td>Электроника</td>\n",
              "      <td>1189</td>\n",
              "      <td>11717</td>\n",
              "      <td>1</td>\n",
              "      <td>3314</td>\n",
              "    </tr>\n",
              "    <tr>\n",
              "      <th>17</th>\n",
              "      <td>2023-01-18</td>\n",
              "      <td>Екатеринбург</td>\n",
              "      <td>Одежда</td>\n",
              "      <td>1656</td>\n",
              "      <td>19597</td>\n",
              "      <td>9</td>\n",
              "      <td>1768</td>\n",
              "    </tr>\n",
              "    <tr>\n",
              "      <th>28</th>\n",
              "      <td>2023-01-29</td>\n",
              "      <td>Екатеринбург</td>\n",
              "      <td>Электроника</td>\n",
              "      <td>1725</td>\n",
              "      <td>11914</td>\n",
              "      <td>1</td>\n",
              "      <td>1948</td>\n",
              "    </tr>\n",
              "    <tr>\n",
              "      <th>35</th>\n",
              "      <td>2023-02-05</td>\n",
              "      <td>СПб</td>\n",
              "      <td>Электроника</td>\n",
              "      <td>1755</td>\n",
              "      <td>26799</td>\n",
              "      <td>2</td>\n",
              "      <td>3871</td>\n",
              "    </tr>\n",
              "    <tr>\n",
              "      <th>38</th>\n",
              "      <td>2023-02-08</td>\n",
              "      <td>Екатеринбург</td>\n",
              "      <td>Одежда</td>\n",
              "      <td>1361</td>\n",
              "      <td>18559</td>\n",
              "      <td>3</td>\n",
              "      <td>4224</td>\n",
              "    </tr>\n",
              "    <tr>\n",
              "      <th>39</th>\n",
              "      <td>2023-02-09</td>\n",
              "      <td>Екатеринбург</td>\n",
              "      <td>Продукты</td>\n",
              "      <td>1747</td>\n",
              "      <td>28440</td>\n",
              "      <td>6</td>\n",
              "      <td>2913</td>\n",
              "    </tr>\n",
              "    <tr>\n",
              "      <th>44</th>\n",
              "      <td>2023-02-14</td>\n",
              "      <td>Екатеринбург</td>\n",
              "      <td>Продукты</td>\n",
              "      <td>1798</td>\n",
              "      <td>1735</td>\n",
              "      <td>2</td>\n",
              "      <td>754</td>\n",
              "    </tr>\n",
              "    <tr>\n",
              "      <th>46</th>\n",
              "      <td>2023-02-16</td>\n",
              "      <td>Екатеринбург</td>\n",
              "      <td>Одежда</td>\n",
              "      <td>1482</td>\n",
              "      <td>8443</td>\n",
              "      <td>6</td>\n",
              "      <td>1859</td>\n",
              "    </tr>\n",
              "    <tr>\n",
              "      <th>49</th>\n",
              "      <td>2023-02-19</td>\n",
              "      <td>СПб</td>\n",
              "      <td>Электроника</td>\n",
              "      <td>1452</td>\n",
              "      <td>28413</td>\n",
              "      <td>4</td>\n",
              "      <td>4458</td>\n",
              "    </tr>\n",
              "    <tr>\n",
              "      <th>54</th>\n",
              "      <td>2023-02-24</td>\n",
              "      <td>Екатеринбург</td>\n",
              "      <td>Одежда</td>\n",
              "      <td>1245</td>\n",
              "      <td>22995</td>\n",
              "      <td>1</td>\n",
              "      <td>4735</td>\n",
              "    </tr>\n",
              "    <tr>\n",
              "      <th>58</th>\n",
              "      <td>2023-02-28</td>\n",
              "      <td>Екатеринбург</td>\n",
              "      <td>Продукты</td>\n",
              "      <td>1294</td>\n",
              "      <td>20551</td>\n",
              "      <td>6</td>\n",
              "      <td>997</td>\n",
              "    </tr>\n",
              "    <tr>\n",
              "      <th>61</th>\n",
              "      <td>2023-03-03</td>\n",
              "      <td>СПб</td>\n",
              "      <td>Электроника</td>\n",
              "      <td>1027</td>\n",
              "      <td>28298</td>\n",
              "      <td>2</td>\n",
              "      <td>1545</td>\n",
              "    </tr>\n",
              "    <tr>\n",
              "      <th>64</th>\n",
              "      <td>2023-03-06</td>\n",
              "      <td>Екатеринбург</td>\n",
              "      <td>Продукты</td>\n",
              "      <td>1871</td>\n",
              "      <td>10354</td>\n",
              "      <td>5</td>\n",
              "      <td>1525</td>\n",
              "    </tr>\n",
              "    <tr>\n",
              "      <th>65</th>\n",
              "      <td>2023-03-07</td>\n",
              "      <td>Екатеринбург</td>\n",
              "      <td>Одежда</td>\n",
              "      <td>1170</td>\n",
              "      <td>26308</td>\n",
              "      <td>8</td>\n",
              "      <td>3875</td>\n",
              "    </tr>\n",
              "    <tr>\n",
              "      <th>70</th>\n",
              "      <td>2023-03-12</td>\n",
              "      <td>Екатеринбург</td>\n",
              "      <td>Продукты</td>\n",
              "      <td>1119</td>\n",
              "      <td>3381</td>\n",
              "      <td>2</td>\n",
              "      <td>1220</td>\n",
              "    </tr>\n",
              "    <tr>\n",
              "      <th>71</th>\n",
              "      <td>2023-03-13</td>\n",
              "      <td>Екатеринбург</td>\n",
              "      <td>Электроника</td>\n",
              "      <td>1126</td>\n",
              "      <td>1925</td>\n",
              "      <td>4</td>\n",
              "      <td>851</td>\n",
              "    </tr>\n",
              "    <tr>\n",
              "      <th>73</th>\n",
              "      <td>2023-03-15</td>\n",
              "      <td>Екатеринбург</td>\n",
              "      <td>Продукты</td>\n",
              "      <td>1896</td>\n",
              "      <td>29196</td>\n",
              "      <td>3</td>\n",
              "      <td>955</td>\n",
              "    </tr>\n",
              "    <tr>\n",
              "      <th>74</th>\n",
              "      <td>2023-03-16</td>\n",
              "      <td>Екатеринбург</td>\n",
              "      <td>Электроника</td>\n",
              "      <td>1085</td>\n",
              "      <td>11872</td>\n",
              "      <td>5</td>\n",
              "      <td>1363</td>\n",
              "    </tr>\n",
              "    <tr>\n",
              "      <th>75</th>\n",
              "      <td>2023-03-17</td>\n",
              "      <td>Екатеринбург</td>\n",
              "      <td>Электроника</td>\n",
              "      <td>1084</td>\n",
              "      <td>12403</td>\n",
              "      <td>9</td>\n",
              "      <td>4288</td>\n",
              "    </tr>\n",
              "    <tr>\n",
              "      <th>76</th>\n",
              "      <td>2023-03-18</td>\n",
              "      <td>Екатеринбург</td>\n",
              "      <td>Электроника</td>\n",
              "      <td>1369</td>\n",
              "      <td>21916</td>\n",
              "      <td>1</td>\n",
              "      <td>4539</td>\n",
              "    </tr>\n",
              "    <tr>\n",
              "      <th>77</th>\n",
              "      <td>2023-03-19</td>\n",
              "      <td>Екатеринбург</td>\n",
              "      <td>Продукты</td>\n",
              "      <td>1852</td>\n",
              "      <td>6172</td>\n",
              "      <td>7</td>\n",
              "      <td>4298</td>\n",
              "    </tr>\n",
              "    <tr>\n",
              "      <th>80</th>\n",
              "      <td>2023-03-22</td>\n",
              "      <td>Екатеринбург</td>\n",
              "      <td>Одежда</td>\n",
              "      <td>1448</td>\n",
              "      <td>14180</td>\n",
              "      <td>5</td>\n",
              "      <td>4346</td>\n",
              "    </tr>\n",
              "    <tr>\n",
              "      <th>82</th>\n",
              "      <td>2023-03-24</td>\n",
              "      <td>Екатеринбург</td>\n",
              "      <td>Продукты</td>\n",
              "      <td>1051</td>\n",
              "      <td>24732</td>\n",
              "      <td>8</td>\n",
              "      <td>2907</td>\n",
              "    </tr>\n",
              "    <tr>\n",
              "      <th>92</th>\n",
              "      <td>2023-04-03</td>\n",
              "      <td>Екатеринбург</td>\n",
              "      <td>Электроника</td>\n",
              "      <td>1975</td>\n",
              "      <td>22096</td>\n",
              "      <td>7</td>\n",
              "      <td>4742</td>\n",
              "    </tr>\n",
              "    <tr>\n",
              "      <th>93</th>\n",
              "      <td>2023-04-04</td>\n",
              "      <td>Екатеринбург</td>\n",
              "      <td>Одежда</td>\n",
              "      <td>1283</td>\n",
              "      <td>4286</td>\n",
              "      <td>7</td>\n",
              "      <td>937</td>\n",
              "    </tr>\n",
              "    <tr>\n",
              "      <th>97</th>\n",
              "      <td>2023-04-08</td>\n",
              "      <td>Екатеринбург</td>\n",
              "      <td>Электроника</td>\n",
              "      <td>1474</td>\n",
              "      <td>12315</td>\n",
              "      <td>8</td>\n",
              "      <td>3903</td>\n",
              "    </tr>\n",
              "    <tr>\n",
              "      <th>98</th>\n",
              "      <td>2023-04-09</td>\n",
              "      <td>Екатеринбург</td>\n",
              "      <td>Электроника</td>\n",
              "      <td>1668</td>\n",
              "      <td>6964</td>\n",
              "      <td>1</td>\n",
              "      <td>3711</td>\n",
              "    </tr>\n",
              "    <tr>\n",
              "      <th>99</th>\n",
              "      <td>2023-04-10</td>\n",
              "      <td>Екатеринбург</td>\n",
              "      <td>Одежда</td>\n",
              "      <td>1351</td>\n",
              "      <td>8494</td>\n",
              "      <td>7</td>\n",
              "      <td>3592</td>\n",
              "    </tr>\n",
              "  </tbody>\n",
              "</table>\n",
              "</div>"
            ],
            "text/plain": [
              "         date          city     category  product_id  sales  quantity  price\n",
              "0  2023-01-01        Москва  Электроника        1499  28648         3   1639\n",
              "2  2023-01-03  Екатеринбург  Электроника        1641   4749         7   4660\n",
              "4  2023-01-05  Екатеринбург  Электроника        1866   5740         9   4052\n",
              "8  2023-01-09  Екатеринбург     Продукты        1886  22566         7    589\n",
              "12 2023-01-13           СПб  Электроника        1815  25823         6   4706\n",
              "13 2023-01-14  Екатеринбург  Электроника        1189  11717         1   3314\n",
              "17 2023-01-18  Екатеринбург       Одежда        1656  19597         9   1768\n",
              "28 2023-01-29  Екатеринбург  Электроника        1725  11914         1   1948\n",
              "35 2023-02-05           СПб  Электроника        1755  26799         2   3871\n",
              "38 2023-02-08  Екатеринбург       Одежда        1361  18559         3   4224\n",
              "39 2023-02-09  Екатеринбург     Продукты        1747  28440         6   2913\n",
              "44 2023-02-14  Екатеринбург     Продукты        1798   1735         2    754\n",
              "46 2023-02-16  Екатеринбург       Одежда        1482   8443         6   1859\n",
              "49 2023-02-19           СПб  Электроника        1452  28413         4   4458\n",
              "54 2023-02-24  Екатеринбург       Одежда        1245  22995         1   4735\n",
              "58 2023-02-28  Екатеринбург     Продукты        1294  20551         6    997\n",
              "61 2023-03-03           СПб  Электроника        1027  28298         2   1545\n",
              "64 2023-03-06  Екатеринбург     Продукты        1871  10354         5   1525\n",
              "65 2023-03-07  Екатеринбург       Одежда        1170  26308         8   3875\n",
              "70 2023-03-12  Екатеринбург     Продукты        1119   3381         2   1220\n",
              "71 2023-03-13  Екатеринбург  Электроника        1126   1925         4    851\n",
              "73 2023-03-15  Екатеринбург     Продукты        1896  29196         3    955\n",
              "74 2023-03-16  Екатеринбург  Электроника        1085  11872         5   1363\n",
              "75 2023-03-17  Екатеринбург  Электроника        1084  12403         9   4288\n",
              "76 2023-03-18  Екатеринбург  Электроника        1369  21916         1   4539\n",
              "77 2023-03-19  Екатеринбург     Продукты        1852   6172         7   4298\n",
              "80 2023-03-22  Екатеринбург       Одежда        1448  14180         5   4346\n",
              "82 2023-03-24  Екатеринбург     Продукты        1051  24732         8   2907\n",
              "92 2023-04-03  Екатеринбург  Электроника        1975  22096         7   4742\n",
              "93 2023-04-04  Екатеринбург       Одежда        1283   4286         7    937\n",
              "97 2023-04-08  Екатеринбург  Электроника        1474  12315         8   3903\n",
              "98 2023-04-09  Екатеринбург  Электроника        1668   6964         1   3711\n",
              "99 2023-04-10  Екатеринбург       Одежда        1351   8494         7   3592"
            ]
          },
          "execution_count": 85,
          "metadata": {},
          "output_type": "execute_result"
        }
      ],
      "source": [
        "df[(df['sales'] > 25000) & (df['category'] == 'Электроника') | (df['city'] == 'Екатеринбург')]"
      ]
    },
    {
      "cell_type": "markdown",
      "metadata": {},
      "source": [
        "## 3.   Группировка данных\n",
        "\n",
        "*   Посчитать суммарные продажи по городам\n",
        "*   Найти средний чек по категориям товаров\n",
        "*   Определить топ-5 клиентов по объему покупок"
      ]
    },
    {
      "cell_type": "markdown",
      "metadata": {},
      "source": [
        "Посчитать суммарные продажи по городам"
      ]
    },
    {
      "cell_type": "code",
      "execution_count": 86,
      "metadata": {},
      "outputs": [
        {
          "data": {
            "text/plain": [
              "city\n",
              "СПб             619028\n",
              "Москва          489280\n",
              "Екатеринбург    393600\n",
              "Name: sales, dtype: int64"
            ]
          },
          "execution_count": 86,
          "metadata": {},
          "output_type": "execute_result"
        }
      ],
      "source": [
        "df.groupby(by='city')['sales'].sum().sort_values(ascending=False)"
      ]
    },
    {
      "cell_type": "markdown",
      "metadata": {},
      "source": [
        "Самые большшие продажи в СПб, далее с разрывом в примерно 100 тыс. товаров идёт Москва и с разрывом в примерно 100 тыс. от Москвы идёт Екатеринбург"
      ]
    },
    {
      "cell_type": "markdown",
      "metadata": {},
      "source": [
        "Найти средний чек по категориям товаров"
      ]
    },
    {
      "cell_type": "code",
      "execution_count": 87,
      "metadata": {},
      "outputs": [],
      "source": [
        "df['cost'] = df['price'] * df['quantity']"
      ]
    },
    {
      "cell_type": "code",
      "execution_count": 88,
      "metadata": {},
      "outputs": [
        {
          "data": {
            "text/plain": [
              "category\n",
              "Электроника    14460.45\n",
              "Продукты       13583.87\n",
              "Одежда         12304.89\n",
              "Name: cost, dtype: float64"
            ]
          },
          "execution_count": 88,
          "metadata": {},
          "output_type": "execute_result"
        }
      ],
      "source": [
        "df.groupby(by='category')['cost'].mean().sort_values(ascending=False).round(2)"
      ]
    },
    {
      "cell_type": "markdown",
      "metadata": {},
      "source": [
        "Определить топ-5 клиентов по объему покупок\n",
        "\n",
        "Клиентов в таблице нет, предположим, что клиентов подменяет столбец `quantity`"
      ]
    },
    {
      "cell_type": "code",
      "execution_count": 89,
      "metadata": {},
      "outputs": [
        {
          "data": {
            "text/plain": [
              "quantity\n",
              "3    206985\n",
              "8    203674\n",
              "7    196209\n",
              "6    174359\n",
              "9    173133\n",
              "4    153411\n",
              "1    136883\n",
              "5    129861\n",
              "2    127393\n",
              "Name: sales, dtype: int64"
            ]
          },
          "execution_count": 89,
          "metadata": {},
          "output_type": "execute_result"
        }
      ],
      "source": [
        "df.groupby(by='quantity')['sales'].sum().sort_values(ascending=False)"
      ]
    },
    {
      "cell_type": "markdown",
      "metadata": {},
      "source": [
        "## 4.   Работа с NaN\n",
        "\n",
        "*   Заполнить пропуски средним значением\n",
        "*   Удалить строки с пропущенными данными\n",
        "*   Создать новый столбец на основе существующих"
      ]
    },
    {
      "cell_type": "markdown",
      "metadata": {},
      "source": [
        "Так пропусков нет, я просто напишу команды, которые бы при наличии этих пропусков выполнинли то, что нужно"
      ]
    },
    {
      "cell_type": "markdown",
      "metadata": {},
      "source": [
        "Заполнить пропуски средним значением"
      ]
    },
    {
      "cell_type": "code",
      "execution_count": 90,
      "metadata": {},
      "outputs": [],
      "source": [
        "df.fillna('mean', inplace=True)"
      ]
    },
    {
      "cell_type": "markdown",
      "metadata": {},
      "source": [
        "Удалить строки с пропущенными данными"
      ]
    },
    {
      "cell_type": "code",
      "execution_count": 91,
      "metadata": {},
      "outputs": [],
      "source": [
        "df.dropna(inplace=True)"
      ]
    },
    {
      "cell_type": "markdown",
      "metadata": {},
      "source": [
        "Создайте новый столбец на основе существующих"
      ]
    },
    {
      "cell_type": "code",
      "execution_count": 113,
      "metadata": {},
      "outputs": [],
      "source": [
        "df['month'] = df['date'].dt.month"
      ]
    },
    {
      "cell_type": "markdown",
      "metadata": {},
      "source": [
        "# Доп. Баллы"
      ]
    },
    {
      "cell_type": "markdown",
      "metadata": {},
      "source": [
        "5.   Работа с временными рядами\n",
        "\n",
        "*   Извлечь месяц и год из даты\n",
        "*   Посчитать скользящее среднее\n",
        "*   Агрегировать данные по кварталам"
      ]
    },
    {
      "cell_type": "markdown",
      "metadata": {},
      "source": [
        "Извлечь месяц и год из даты\n",
        "\n",
        "Чуть выше уже извлёк месяц, извлеку только год"
      ]
    },
    {
      "cell_type": "code",
      "execution_count": 115,
      "metadata": {},
      "outputs": [],
      "source": [
        "df['year'] = df['date'].dt.year"
      ]
    },
    {
      "cell_type": "code",
      "execution_count": 116,
      "metadata": {},
      "outputs": [
        {
          "data": {
            "text/html": [
              "<div>\n",
              "<style scoped>\n",
              "    .dataframe tbody tr th:only-of-type {\n",
              "        vertical-align: middle;\n",
              "    }\n",
              "\n",
              "    .dataframe tbody tr th {\n",
              "        vertical-align: top;\n",
              "    }\n",
              "\n",
              "    .dataframe thead th {\n",
              "        text-align: right;\n",
              "    }\n",
              "</style>\n",
              "<table border=\"1\" class=\"dataframe\">\n",
              "  <thead>\n",
              "    <tr style=\"text-align: right;\">\n",
              "      <th></th>\n",
              "      <th>date</th>\n",
              "      <th>city</th>\n",
              "      <th>category</th>\n",
              "      <th>product_id</th>\n",
              "      <th>sales</th>\n",
              "      <th>quantity</th>\n",
              "      <th>price</th>\n",
              "      <th>cost</th>\n",
              "      <th>year</th>\n",
              "      <th>month</th>\n",
              "    </tr>\n",
              "  </thead>\n",
              "  <tbody>\n",
              "    <tr>\n",
              "      <th>0</th>\n",
              "      <td>2023-01-01</td>\n",
              "      <td>Москва</td>\n",
              "      <td>Электроника</td>\n",
              "      <td>1499</td>\n",
              "      <td>28648</td>\n",
              "      <td>3</td>\n",
              "      <td>1639</td>\n",
              "      <td>4917</td>\n",
              "      <td>2023</td>\n",
              "      <td>1</td>\n",
              "    </tr>\n",
              "    <tr>\n",
              "      <th>1</th>\n",
              "      <td>2023-01-02</td>\n",
              "      <td>Москва</td>\n",
              "      <td>Электроника</td>\n",
              "      <td>1934</td>\n",
              "      <td>2738</td>\n",
              "      <td>4</td>\n",
              "      <td>2375</td>\n",
              "      <td>9500</td>\n",
              "      <td>2023</td>\n",
              "      <td>1</td>\n",
              "    </tr>\n",
              "    <tr>\n",
              "      <th>2</th>\n",
              "      <td>2023-01-03</td>\n",
              "      <td>Екатеринбург</td>\n",
              "      <td>Электроника</td>\n",
              "      <td>1641</td>\n",
              "      <td>4749</td>\n",
              "      <td>7</td>\n",
              "      <td>4660</td>\n",
              "      <td>32620</td>\n",
              "      <td>2023</td>\n",
              "      <td>1</td>\n",
              "    </tr>\n",
              "    <tr>\n",
              "      <th>3</th>\n",
              "      <td>2023-01-04</td>\n",
              "      <td>Москва</td>\n",
              "      <td>Электроника</td>\n",
              "      <td>1420</td>\n",
              "      <td>21535</td>\n",
              "      <td>8</td>\n",
              "      <td>4413</td>\n",
              "      <td>35304</td>\n",
              "      <td>2023</td>\n",
              "      <td>1</td>\n",
              "    </tr>\n",
              "    <tr>\n",
              "      <th>4</th>\n",
              "      <td>2023-01-05</td>\n",
              "      <td>Екатеринбург</td>\n",
              "      <td>Электроника</td>\n",
              "      <td>1866</td>\n",
              "      <td>5740</td>\n",
              "      <td>9</td>\n",
              "      <td>4052</td>\n",
              "      <td>36468</td>\n",
              "      <td>2023</td>\n",
              "      <td>1</td>\n",
              "    </tr>\n",
              "    <tr>\n",
              "      <th>...</th>\n",
              "      <td>...</td>\n",
              "      <td>...</td>\n",
              "      <td>...</td>\n",
              "      <td>...</td>\n",
              "      <td>...</td>\n",
              "      <td>...</td>\n",
              "      <td>...</td>\n",
              "      <td>...</td>\n",
              "      <td>...</td>\n",
              "      <td>...</td>\n",
              "    </tr>\n",
              "    <tr>\n",
              "      <th>95</th>\n",
              "      <td>2023-04-06</td>\n",
              "      <td>Москва</td>\n",
              "      <td>Электроника</td>\n",
              "      <td>1303</td>\n",
              "      <td>21891</td>\n",
              "      <td>7</td>\n",
              "      <td>2557</td>\n",
              "      <td>17899</td>\n",
              "      <td>2023</td>\n",
              "      <td>4</td>\n",
              "    </tr>\n",
              "    <tr>\n",
              "      <th>96</th>\n",
              "      <td>2023-04-07</td>\n",
              "      <td>Москва</td>\n",
              "      <td>Электроника</td>\n",
              "      <td>1891</td>\n",
              "      <td>24137</td>\n",
              "      <td>6</td>\n",
              "      <td>773</td>\n",
              "      <td>4638</td>\n",
              "      <td>2023</td>\n",
              "      <td>4</td>\n",
              "    </tr>\n",
              "    <tr>\n",
              "      <th>97</th>\n",
              "      <td>2023-04-08</td>\n",
              "      <td>Екатеринбург</td>\n",
              "      <td>Электроника</td>\n",
              "      <td>1474</td>\n",
              "      <td>12315</td>\n",
              "      <td>8</td>\n",
              "      <td>3903</td>\n",
              "      <td>31224</td>\n",
              "      <td>2023</td>\n",
              "      <td>4</td>\n",
              "    </tr>\n",
              "    <tr>\n",
              "      <th>98</th>\n",
              "      <td>2023-04-09</td>\n",
              "      <td>Екатеринбург</td>\n",
              "      <td>Электроника</td>\n",
              "      <td>1668</td>\n",
              "      <td>6964</td>\n",
              "      <td>1</td>\n",
              "      <td>3711</td>\n",
              "      <td>3711</td>\n",
              "      <td>2023</td>\n",
              "      <td>4</td>\n",
              "    </tr>\n",
              "    <tr>\n",
              "      <th>99</th>\n",
              "      <td>2023-04-10</td>\n",
              "      <td>Екатеринбург</td>\n",
              "      <td>Одежда</td>\n",
              "      <td>1351</td>\n",
              "      <td>8494</td>\n",
              "      <td>7</td>\n",
              "      <td>3592</td>\n",
              "      <td>25144</td>\n",
              "      <td>2023</td>\n",
              "      <td>4</td>\n",
              "    </tr>\n",
              "  </tbody>\n",
              "</table>\n",
              "<p>100 rows × 10 columns</p>\n",
              "</div>"
            ],
            "text/plain": [
              "         date          city     category  product_id  sales  quantity  price  \\\n",
              "0  2023-01-01        Москва  Электроника        1499  28648         3   1639   \n",
              "1  2023-01-02        Москва  Электроника        1934   2738         4   2375   \n",
              "2  2023-01-03  Екатеринбург  Электроника        1641   4749         7   4660   \n",
              "3  2023-01-04        Москва  Электроника        1420  21535         8   4413   \n",
              "4  2023-01-05  Екатеринбург  Электроника        1866   5740         9   4052   \n",
              "..        ...           ...          ...         ...    ...       ...    ...   \n",
              "95 2023-04-06        Москва  Электроника        1303  21891         7   2557   \n",
              "96 2023-04-07        Москва  Электроника        1891  24137         6    773   \n",
              "97 2023-04-08  Екатеринбург  Электроника        1474  12315         8   3903   \n",
              "98 2023-04-09  Екатеринбург  Электроника        1668   6964         1   3711   \n",
              "99 2023-04-10  Екатеринбург       Одежда        1351   8494         7   3592   \n",
              "\n",
              "     cost  year  month  \n",
              "0    4917  2023      1  \n",
              "1    9500  2023      1  \n",
              "2   32620  2023      1  \n",
              "3   35304  2023      1  \n",
              "4   36468  2023      1  \n",
              "..    ...   ...    ...  \n",
              "95  17899  2023      4  \n",
              "96   4638  2023      4  \n",
              "97  31224  2023      4  \n",
              "98   3711  2023      4  \n",
              "99  25144  2023      4  \n",
              "\n",
              "[100 rows x 10 columns]"
            ]
          },
          "execution_count": 116,
          "metadata": {},
          "output_type": "execute_result"
        }
      ],
      "source": [
        "df"
      ]
    },
    {
      "cell_type": "markdown",
      "metadata": {},
      "source": [
        "Посчитать скользящее среднее"
      ]
    },
    {
      "cell_type": "code",
      "execution_count": 143,
      "metadata": {},
      "outputs": [],
      "source": [
        "data = df['sales'].rolling(14)"
      ]
    },
    {
      "cell_type": "code",
      "execution_count": 145,
      "metadata": {},
      "outputs": [
        {
          "data": {
            "image/png": "[encoded data removed]",
            "text/plain": [
              "<Figure size 640x480 with 1 Axes>"
            ]
          },
          "metadata": {},
          "output_type": "display_data"
        }
      ],
      "source": [
        "data.sum().plot()\n",
        "plt.title('Скользящее срденее продаж в разбивке на 2 недели')\n",
        "plt.show();"
      ]
    },
    {
      "cell_type": "markdown",
      "metadata": {},
      "source": [
        "Агрегировать данные по кварталам"
      ]
    },
    {
      "cell_type": "code",
      "execution_count": 152,
      "metadata": {},
      "outputs": [
        {
          "data": {
            "text/plain": [
              "quarter\n",
              "2023Q1    1370376\n",
              "2023Q2     131532\n",
              "Freq: Q-DEC, Name: sales, dtype: int64"
            ]
          },
          "execution_count": 152,
          "metadata": {},
          "output_type": "execute_result"
        }
      ],
      "source": [
        "df['quarter'] = pd.PeriodIndex(df.date, freq='Q')\n",
        "quarter_sales = df.groupby(by='quarter')['sales'].sum().sort_values(ascending=False)\n",
        "quarter_sales"
      ]
    },
    {
      "cell_type": "code",
      "execution_count": 156,
      "metadata": {},
      "outputs": [
        {
          "data": {
            "image/png": "[encoded data removed]",
            "text/plain": [
              "<Figure size 640x480 with 1 Axes>"
            ]
          },
          "metadata": {},
          "output_type": "display_data"
        }
      ],
      "source": [
        "ax = quarter_sales.plot(kind='bar')"
      ]
    },
    {
      "cell_type": "markdown",
      "metadata": {},
      "source": [
        "## 6.   Визуализация данных\n",
        "\n",
        "*   Построить график продаж по времени\n",
        "*   Создать гистограмму распределения\n",
        "*   Визуализировать корреляцию между показателями"
      ]
    },
    {
      "cell_type": "markdown",
      "metadata": {},
      "source": [
        "Построить график продаж по времени"
      ]
    },
    {
      "cell_type": "code",
      "execution_count": 117,
      "metadata": {},
      "outputs": [
        {
          "data": {
            "text/plain": [
              "<Figure size 640x480 with 0 Axes>"
            ]
          },
          "metadata": {},
          "output_type": "display_data"
        },
        {
          "data": {
            "image/png": "[encoded data removed]",
            "text/plain": [
              "<Figure size 640x480 with 1 Axes>"
            ]
          },
          "metadata": {},
          "output_type": "display_data"
        },
        {
          "data": {
            "text/plain": [
              "<Figure size 640x480 with 0 Axes>"
            ]
          },
          "metadata": {},
          "output_type": "display_data"
        },
        {
          "data": {
            "image/png": "[encoded data removed]",
            "text/plain": [
              "<Figure size 640x480 with 1 Axes>"
            ]
          },
          "metadata": {},
          "output_type": "display_data"
        },
        {
          "data": {
            "text/plain": [
              "<Figure size 640x480 with 0 Axes>"
            ]
          },
          "metadata": {},
          "output_type": "display_data"
        },
        {
          "data": {
            "image/png": "[encoded data removed]",
            "text/plain": [
              "<Figure size 640x480 with 1 Axes>"
            ]
          },
          "metadata": {},
          "output_type": "display_data"
        }
      ],
      "source": [
        "for i in df['city'].unique():\n",
        "    plt.figure()\n",
        "    df[df['city'] == i].plot(x='date', y='sales')\n",
        "    plt.title(f'Продажи в г.{i}')\n",
        "    plt.show()"
      ]
    },
    {
      "cell_type": "markdown",
      "metadata": {},
      "source": [
        "Построить гистограмму распрделения"
      ]
    },
    {
      "cell_type": "code",
      "execution_count": 118,
      "metadata": {},
      "outputs": [
        {
          "data": {
            "image/png": "[encoded data removed]",
            "text/plain": [
              "<Figure size 640x480 with 1 Axes>"
            ]
          },
          "metadata": {},
          "output_type": "display_data"
        },
        {
          "data": {
            "image/png": "[encoded data removed]",
            "text/plain": [
              "<Figure size 640x480 with 1 Axes>"
            ]
          },
          "metadata": {},
          "output_type": "display_data"
        },
        {
          "data": {
            "image/png": "[encoded data removed]",
            "text/plain": [
              "<Figure size 640x480 with 1 Axes>"
            ]
          },
          "metadata": {},
          "output_type": "display_data"
        },
        {
          "data": {
            "image/png": "[encoded data removed]",
            "text/plain": [
              "<Figure size 640x480 with 1 Axes>"
            ]
          },
          "metadata": {},
          "output_type": "display_data"
        },
        {
          "data": {
            "image/png": "[encoded data removed]",
            "text/plain": [
              "<Figure size 640x480 with 1 Axes>"
            ]
          },
          "metadata": {},
          "output_type": "display_data"
        },
        {
          "data": {
            "image/png": "[encoded data removed]",
            "text/plain": [
              "<Figure size 640x480 with 1 Axes>"
            ]
          },
          "metadata": {},
          "output_type": "display_data"
        },
        {
          "data": {
            "image/png": "[encoded data removed]",
            "text/plain": [
              "<Figure size 640x480 with 1 Axes>"
            ]
          },
          "metadata": {},
          "output_type": "display_data"
        },
        {
          "data": {
            "image/png": "[encoded data removed]",
            "text/plain": [
              "<Figure size 640x480 with 1 Axes>"
            ]
          },
          "metadata": {},
          "output_type": "display_data"
        },
        {
          "data": {
            "image/png": "[encoded data removed]",
            "text/plain": [
              "<Figure size 640x480 with 1 Axes>"
            ]
          },
          "metadata": {},
          "output_type": "display_data"
        }
      ],
      "source": [
        "for i in df.columns[1:]:\n",
        "    plt.figure()\n",
        "    plt.hist(df[i], bins=50)\n",
        "    plt.title(i)"
      ]
    },
    {
      "cell_type": "markdown",
      "metadata": {},
      "source": [
        "Визуализировать корреляцию между показателями"
      ]
    },
    {
      "cell_type": "markdown",
      "metadata": {},
      "source": [
        "Для этого преобразуем нечисловые данные к числовым"
      ]
    },
    {
      "cell_type": "code",
      "execution_count": 126,
      "metadata": {},
      "outputs": [],
      "source": [
        "try:\n",
        "    from sklearn.preprocessing import LabelEncoder\n",
        "except ModuleNotFoundError:\n",
        "    %pip install sklearn\n",
        "    from sklearn.preprocessing import LabelEncoder"
      ]
    },
    {
      "cell_type": "code",
      "execution_count": 127,
      "metadata": {},
      "outputs": [],
      "source": [
        "le = LabelEncoder()\n",
        "data = df.copy()\n",
        "clmns = ['date', 'city', 'category', 'year', 'month']\n",
        "for i in clmns:\n",
        "    le.fit(data[i])\n",
        "    data[i] = le.transform(data[i])\n"
      ]
    },
    {
      "cell_type": "code",
      "execution_count": 132,
      "metadata": {},
      "outputs": [
        {
          "name": "stdout",
          "output_type": "stream",
          "text": [
            "Defaulting to user installation because normal site-packages is not writeable\n",
            "Collecting seaborn\n",
            "  Downloading seaborn-0.13.2-py3-none-any.whl (294 kB)\n",
            "\u001b[K     |████████████████████████████████| 294 kB 689 kB/s eta 0:00:01\n",
            "\u001b[?25hRequirement already satisfied: numpy!=1.24.0,>=1.20 in /Users/muxa/Library/Python/3.9/lib/python/site-packages (from seaborn) (2.0.2)\n",
            "Requirement already satisfied: matplotlib!=3.6.1,>=3.4 in /Users/muxa/Library/Python/3.9/lib/python/site-packages (from seaborn) (3.9.4)\n",
            "Requirement already satisfied: pandas>=1.2 in /Users/muxa/Library/Python/3.9/lib/python/site-packages (from seaborn) (2.3.3)\n",
            "Requirement already satisfied: fonttools>=4.22.0 in /Users/muxa/Library/Python/3.9/lib/python/site-packages (from matplotlib!=3.6.1,>=3.4->seaborn) (4.60.1)\n",
            "Requirement already satisfied: packaging>=20.0 in /Users/muxa/Library/Python/3.9/lib/python/site-packages (from matplotlib!=3.6.1,>=3.4->seaborn) (25.0)\n",
            "Requirement already satisfied: cycler>=0.10 in /Users/muxa/Library/Python/3.9/lib/python/site-packages (from matplotlib!=3.6.1,>=3.4->seaborn) (0.12.1)\n",
            "Requirement already satisfied: importlib-resources>=3.2.0 in /Users/muxa/Library/Python/3.9/lib/python/site-packages (from matplotlib!=3.6.1,>=3.4->seaborn) (6.5.2)\n",
            "Requirement already satisfied: pillow>=8 in /Users/muxa/Library/Python/3.9/lib/python/site-packages (from matplotlib!=3.6.1,>=3.4->seaborn) (11.3.0)\n",
            "Requirement already satisfied: contourpy>=1.0.1 in /Users/muxa/Library/Python/3.9/lib/python/site-packages (from matplotlib!=3.6.1,>=3.4->seaborn) (1.3.0)\n",
            "Requirement already satisfied: pyparsing>=2.3.1 in /Users/muxa/Library/Python/3.9/lib/python/site-packages (from matplotlib!=3.6.1,>=3.4->seaborn) (3.2.5)\n",
            "Requirement already satisfied: python-dateutil>=2.7 in /Users/muxa/Library/Python/3.9/lib/python/site-packages (from matplotlib!=3.6.1,>=3.4->seaborn) (2.9.0.post0)\n",
            "Requirement already satisfied: kiwisolver>=1.3.1 in /Users/muxa/Library/Python/3.9/lib/python/site-packages (from matplotlib!=3.6.1,>=3.4->seaborn) (1.4.7)\n",
            "Requirement already satisfied: zipp>=3.1.0 in /Users/muxa/Library/Python/3.9/lib/python/site-packages (from importlib-resources>=3.2.0->matplotlib!=3.6.1,>=3.4->seaborn) (3.23.0)\n",
            "Requirement already satisfied: pytz>=2020.1 in /Users/muxa/Library/Python/3.9/lib/python/site-packages (from pandas>=1.2->seaborn) (2025.2)\n",
            "Requirement already satisfied: tzdata>=2022.7 in /Users/muxa/Library/Python/3.9/lib/python/site-packages (from pandas>=1.2->seaborn) (2025.2)\n",
            "Requirement already satisfied: six>=1.5 in /Library/Developer/CommandLineTools/Library/Frameworks/Python3.framework/Versions/3.9/lib/python3.9/site-packages (from python-dateutil>=2.7->matplotlib!=3.6.1,>=3.4->seaborn) (1.15.0)\n",
            "Installing collected packages: seaborn\n",
            "Successfully installed seaborn-0.13.2\n",
            "\u001b[33mWARNING: You are using pip version 21.2.4; however, version 25.2 is available.\n",
            "You should consider upgrading via the '/Library/Developer/CommandLineTools/usr/bin/python3 -m pip install --upgrade pip' command.\u001b[0m\n",
            "Note: you may need to restart the kernel to use updated packages.\n"
          ]
        }
      ],
      "source": [
        "try:\n",
        "    import seaborn as sns\n",
        "except ModuleNotFoundError:\n",
        "    %pip install seaborn\n",
        "    import seaborn as sns"
      ]
    },
    {
      "cell_type": "code",
      "execution_count": 133,
      "metadata": {},
      "outputs": [
        {
          "data": {
            "text/plain": [
              "<Axes: >"
            ]
          },
          "execution_count": 133,
          "metadata": {},
          "output_type": "execute_result"
        },
        {
          "data": {
            "image/png": "[encoded data removed]",
            "text/plain": [
              "<Figure size 640x480 with 2 Axes>"
            ]
          },
          "metadata": {},
          "output_type": "display_data"
        }
      ],
      "source": [
        "corr = data.corr()\n",
        "sns.heatmap(corr,\n",
        "            xticklabels=corr.columns.values,\n",
        "            yticklabels=corr.columns.values)"
      ]
    }
  ],
  "metadata": {
    "colab": {
      "provenance": []
    },
    "kernelspec": {
      "display_name": "Python 3",
      "name": "python3"
    },
    "language_info": {
      "codemirror_mode": {
        "name": "ipython",
        "version": 3
      },
      "file_extension": ".py",
      "mimetype": "text/x-python",
      "name": "python",
      "nbconvert_exporter": "python",
      "pygments_lexer": "ipython3",
      "version": "3.9.6"
    }
  },
  "nbformat": 4,
  "nbformat_minor": 0
}
