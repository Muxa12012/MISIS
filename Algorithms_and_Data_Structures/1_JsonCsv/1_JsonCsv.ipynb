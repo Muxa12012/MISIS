{
  "cells": [
    {
      "cell_type": "markdown",
      "metadata": {},
      "source": [
        "# Json\n",
        "\n",
        "JSON (JavaScript Object Notation) — это текстовый формат обмена данными, который был разработан Дугласом Крокфордом. Несмотря на происхождение от JavaScript, формат считается независимым от языка и может использоваться практически с любым языком программирования.\n",
        "\n",
        "**Основные характеристики**\n",
        "\n",
        "*   Текстовый формат — легко читается как людьми, так и машинами\n",
        "*   Компактность — занимает меньше места по сравнению с XML\n",
        "*   Универсальность — поддерживается большинством языков программирования\n",
        "*   Простота — имеет понятный и лаконичный синтаксис\n",
        "\n",
        "\n",
        "**Где применяется**\n",
        "\n",
        "*   Обмен данными между клиентом и сервером в веб-приложениях\n",
        "*   AJAX-запросы\n",
        "*   REST API\n",
        "*   Хранение конфигурационных данных\n",
        "*   Сериализация сложных структур данных\n",
        "\n"
      ]
    },
    {
      "cell_type": "markdown",
      "metadata": {},
      "source": [
        "```\n",
        "{\n",
        "  \"name\": \"John\",\n",
        "  \"age\": 30,\n",
        "  \"isStudent\": false,\n",
        "  \"courses\": [\"Math\", \"Science\"],\n",
        "  \"address\": {\n",
        "    \"city\": \"New York\",\n",
        "    \"zipcode\": \"10001\"\n",
        "  }\n",
        "}\n",
        "```"
      ]
    },
    {
      "cell_type": "markdown",
      "metadata": {},
      "source": [
        "# Модуль `json` в Python и его синтаксис\n",
        "\n",
        "\n",
        "\n",
        "*   `json.dump()` - записывает Python-объект в файл в формате JSON\n",
        "*   `json.dumps()` - преобразует Python-объект в структуру JSON\n",
        "*   `json.load()` - считывает JSON из файла и преобразует в Python-объект\n",
        "*   `json.loads()` - преобразует строку JSOB в Python-объект\n",
        "\n"
      ]
    },
    {
      "cell_type": "code",
      "execution_count": 2,
      "metadata": {
        "colab": {
          "base_uri": "https://localhost:8080/"
        },
        "id": "ItU6sImUDAAo",
        "outputId": "6bba26d7-9ae6-4195-e986-52cff52dba01"
      },
      "outputs": [
        {
          "name": "stdout",
          "output_type": "stream",
          "text": [
            "{'name': 'Charlie', 'age': 22, 'isStudent': True, 'courses': ['Art', 'Music'], 'address': {'city': 'San Francisco', 'zipcode': '94101'}}\n"
          ]
        }
      ],
      "source": [
        "# Строку в JSON\n",
        "\n",
        "import json\n",
        "\n",
        "json_string = '{\"name\": \"Charlie\", \"age\": 22, \"isStudent\": true, \"courses\": [\"Art\", \"Music\"], \"address\": {\"city\": \"San Francisco\", \"zipcode\": \"94101\"}}'\n",
        "\n",
        "data = json.loads(json_string)\n",
        "print(data)"
      ]
    },
    {
      "cell_type": "code",
      "execution_count": 3,
      "metadata": {
        "colab": {
          "base_uri": "https://localhost:8080/"
        },
        "id": "uYFkNNMZDWHC",
        "outputId": "86da93ac-5552-4002-dbc6-18b9a4f43385"
      },
      "outputs": [
        {
          "name": "stdout",
          "output_type": "stream",
          "text": [
            "{\n",
            "    \"name\": \"Diana\",\n",
            "    \"age\": 24,\n",
            "    \"isStudent\": false,\n",
            "    \"courses\": [\n",
            "        \"Literature\",\n",
            "        \"Philosophy\"\n",
            "    ],\n",
            "    \"address\": {\n",
            "        \"city\": \"Boston\",\n",
            "        \"zipcode\": \"02101\"\n",
            "    }\n",
            "}\n",
            "<class 'str'>\n"
          ]
        }
      ],
      "source": [
        "# JSON в Строку\n",
        "\n",
        "import json\n",
        "\n",
        "data = {\n",
        "    \"name\": \"Diana\",\n",
        "    \"age\": 24,\n",
        "    \"isStudent\": False,\n",
        "    \"courses\": [\"Literature\", \"Philosophy\"],\n",
        "    \"address\": {\n",
        "        \"city\": \"Boston\",\n",
        "        \"zipcode\": \"02101\"\n",
        "    }\n",
        "}\n",
        "\n",
        "json_string = json.dumps(data, indent=4)\n",
        "print(json_string)\n",
        "print(type(json_string))"
      ]
    },
    {
      "cell_type": "code",
      "execution_count": 4,
      "metadata": {
        "id": "eiuT3PF6pz53"
      },
      "outputs": [],
      "source": [
        "# Создаём файл с данными из прошлой ячейки, чтобы работало\n",
        "\n",
        "import json\n",
        "\n",
        "with open('read.json', 'w') as file:\n",
        "  json.dump(data, file, indent=4)"
      ]
    },
    {
      "cell_type": "code",
      "execution_count": 5,
      "metadata": {
        "colab": {
          "base_uri": "https://localhost:8080/"
        },
        "id": "XgPXvm0uER1y",
        "outputId": "895a734d-934f-4487-ebd5-86568d067722"
      },
      "outputs": [
        {
          "name": "stdout",
          "output_type": "stream",
          "text": [
            "{\n",
            "    \"name\": \"Diana\",\n",
            "    \"age\": 24,\n",
            "    \"isStudent\": false,\n",
            "    \"courses\": [\n",
            "        \"Literature\",\n",
            "        \"Philosophy\"\n",
            "    ],\n",
            "    \"address\": {\n",
            "        \"city\": \"Boston\",\n",
            "        \"zipcode\": \"02101\"\n",
            "    }\n",
            "}\n"
          ]
        }
      ],
      "source": [
        "# Чтение данных из файла\n",
        "\n",
        "import json\n",
        "\n",
        "with open('read.json', 'r') as file:\n",
        "    student = json.load(file)\n",
        "\n",
        "student = json.dumps(student, indent=4)\n",
        "print(student)"
      ]
    },
    {
      "cell_type": "code",
      "execution_count": 6,
      "metadata": {
        "id": "D50XTxw_EsyL"
      },
      "outputs": [],
      "source": [
        "# Запись в файл\n",
        "\n",
        "import json\n",
        "\n",
        "students = [\n",
        "    {\n",
        "        'name': 'Eve', 'age': 22, 'isStudent': True, 'address': {\n",
        "          'city': 'Miami', 'zipcode': '33101'\n",
        "        }\n",
        "    },\n",
        "    {\n",
        "        'name': 'Frank', 'age': 23, 'isStudent': False, 'address': {\n",
        "            'city': 'Seattle', 'zipcode': '98101'\n",
        "        }\n",
        "    }\n",
        "]\n",
        "\n",
        "with open('write.json', 'w') as file:\n",
        "    json.dump(students, file, indent=4)"
      ]
    },
    {
      "cell_type": "code",
      "execution_count": 7,
      "metadata": {
        "colab": {
          "base_uri": "https://localhost:8080/"
        },
        "id": "EjLJcNbgsZWY",
        "outputId": "20fa0550-a925-4366-a0c7-65460c8935f0"
      },
      "outputs": [
        {
          "name": "stdout",
          "output_type": "stream",
          "text": [
            "[\n",
            "    {\n",
            "        \"name\": \"Eve\",\n",
            "        \"age\": 22,\n",
            "        \"isStudent\": true,\n",
            "        \"address\": {\n",
            "            \"city\": \"Miami\",\n",
            "            \"zipcode\": \"33101\"\n",
            "        }\n",
            "    },\n",
            "    {\n",
            "        \"name\": \"Frank\",\n",
            "        \"age\": 23,\n",
            "        \"isStudent\": false,\n",
            "        \"address\": {\n",
            "            \"city\": \"Seattle\",\n",
            "            \"zipcode\": \"98101\"\n",
            "        }\n",
            "    }\n",
            "]\n"
          ]
        }
      ],
      "source": [
        "# Прочитаем из файла\n",
        "\n",
        "import json\n",
        "\n",
        "with open('write.json', 'r') as file:\n",
        "  students = json.load(file)\n",
        "\n",
        "students = json.dumps(students, indent=4)\n",
        "print(students)"
      ]
    },
    {
      "cell_type": "markdown",
      "metadata": {
        "id": "4Ndb7yZUFmNf"
      },
      "source": [
        "# CSV\n",
        "\n",
        "Файл CSV – это особый вид файла, который позволяет структурировать большие объемы данных.\n",
        "\n",
        "По сути, он является обычным текстовым файлом, однако каждый новый элемент отделен от предыдущего запятой или другим разделителем. Обычно каждая запись начинается с новой строки. Данные CSV можно легко экспортировать в электронные таблицы или базы данных. Программист может расширять CSV файл, добавляя новые строки.\n",
        "\n",
        "**Пример CSV файла, где в качестве разделителя используется запятая:**\n",
        "\n",
        "```\n",
        "Имя,Профессия,Год рождения\n",
        "Виктор,Токарь,1995\n",
        "Сергей,Сварщик,1983\n",
        "```\n",
        "\n",
        "Вместо запятой можно использовать любой другой разделитель, поэтому при чтении CSV файла нужно заранее знать, какой символ используется.\n",
        "\n",
        "Важно помнить, что CSV – это обычный текстовый файл, который не поддерживает символы в кодировках, отличающихся от ASCII или Unicode."
      ]
    },
    {
      "cell_type": "code",
      "execution_count": 14,
      "metadata": {
        "colab": {
          "base_uri": "https://localhost:8080/"
        },
        "id": "gZZHbBRhI_U_",
        "outputId": "51ace2c9-f63e-4a4d-c213-c04627070406"
      },
      "outputs": [
        {
          "ename": "FileNotFoundError",
          "evalue": "[Errno 2] No such file or directory: 'write.csv'",
          "output_type": "error",
          "traceback": [
            "\u001b[31m---------------------------------------------------------------------------\u001b[39m",
            "\u001b[31mFileNotFoundError\u001b[39m                         Traceback (most recent call last)",
            "\u001b[36mCell\u001b[39m\u001b[36m \u001b[39m\u001b[32mIn[14]\u001b[39m\u001b[32m, line 5\u001b[39m\n\u001b[32m      1\u001b[39m \u001b[38;5;66;03m# Пример чтения CSV файла\u001b[39;00m\n\u001b[32m      3\u001b[39m \u001b[38;5;28;01mimport\u001b[39;00m\u001b[38;5;250m \u001b[39m\u001b[34;01mcsv\u001b[39;00m\n\u001b[32m----> \u001b[39m\u001b[32m5\u001b[39m \u001b[38;5;28;01mwith\u001b[39;00m \u001b[38;5;28;43mopen\u001b[39;49m\u001b[43m(\u001b[49m\u001b[33;43m'\u001b[39;49m\u001b[33;43mwrite.csv\u001b[39;49m\u001b[33;43m'\u001b[39;49m\u001b[43m,\u001b[49m\u001b[43m \u001b[49m\u001b[43mmode\u001b[49m\u001b[43m=\u001b[49m\u001b[33;43m'\u001b[39;49m\u001b[33;43mr\u001b[39;49m\u001b[33;43m'\u001b[39;49m\u001b[43m,\u001b[49m\u001b[43m \u001b[49m\u001b[43mencoding\u001b[49m\u001b[43m=\u001b[49m\u001b[33;43m'\u001b[39;49m\u001b[33;43mutf-8\u001b[39;49m\u001b[33;43m'\u001b[39;49m\u001b[43m)\u001b[49m \u001b[38;5;28;01mas\u001b[39;00m file:\n\u001b[32m      6\u001b[39m     csv_reader = csv.reader(file)\n\u001b[32m      7\u001b[39m     \u001b[38;5;28;01mfor\u001b[39;00m row \u001b[38;5;129;01min\u001b[39;00m csv_reader:\n",
            "\u001b[36mFile \u001b[39m\u001b[32m~\\AppData\\Roaming\\Python\\Python312\\site-packages\\IPython\\core\\interactiveshell.py:343\u001b[39m, in \u001b[36m_modified_open\u001b[39m\u001b[34m(file, *args, **kwargs)\u001b[39m\n\u001b[32m    336\u001b[39m \u001b[38;5;28;01mif\u001b[39;00m file \u001b[38;5;129;01min\u001b[39;00m {\u001b[32m0\u001b[39m, \u001b[32m1\u001b[39m, \u001b[32m2\u001b[39m}:\n\u001b[32m    337\u001b[39m     \u001b[38;5;28;01mraise\u001b[39;00m \u001b[38;5;167;01mValueError\u001b[39;00m(\n\u001b[32m    338\u001b[39m         \u001b[33mf\u001b[39m\u001b[33m\"\u001b[39m\u001b[33mIPython won\u001b[39m\u001b[33m'\u001b[39m\u001b[33mt let you open fd=\u001b[39m\u001b[38;5;132;01m{\u001b[39;00mfile\u001b[38;5;132;01m}\u001b[39;00m\u001b[33m by default \u001b[39m\u001b[33m\"\u001b[39m\n\u001b[32m    339\u001b[39m         \u001b[33m\"\u001b[39m\u001b[33mas it is likely to crash IPython. If you know what you are doing, \u001b[39m\u001b[33m\"\u001b[39m\n\u001b[32m    340\u001b[39m         \u001b[33m\"\u001b[39m\u001b[33myou can use builtins\u001b[39m\u001b[33m'\u001b[39m\u001b[33m open.\u001b[39m\u001b[33m\"\u001b[39m\n\u001b[32m    341\u001b[39m     )\n\u001b[32m--> \u001b[39m\u001b[32m343\u001b[39m \u001b[38;5;28;01mreturn\u001b[39;00m \u001b[43mio_open\u001b[49m\u001b[43m(\u001b[49m\u001b[43mfile\u001b[49m\u001b[43m,\u001b[49m\u001b[43m \u001b[49m\u001b[43m*\u001b[49m\u001b[43margs\u001b[49m\u001b[43m,\u001b[49m\u001b[43m \u001b[49m\u001b[43m*\u001b[49m\u001b[43m*\u001b[49m\u001b[43mkwargs\u001b[49m\u001b[43m)\u001b[49m\n",
            "\u001b[31mFileNotFoundError\u001b[39m: [Errno 2] No such file or directory: 'write.csv'"
          ]
        }
      ],
      "source": [
        "# Пример чтения CSV файла\n",
        "\n",
        "import csv\n",
        "\n",
        "with open('write.csv', mode='r', encoding='utf-8') as file:\n",
        "    csv_reader = csv.reader(file)\n",
        "    for row in csv_reader:\n",
        "        print(row)"
      ]
    },
    {
      "cell_type": "code",
      "execution_count": null,
      "metadata": {
        "colab": {
          "base_uri": "https://localhost:8080/"
        },
        "id": "l24jJZCEIug5",
        "outputId": "89261a81-c52e-4dbe-d053-3ed28c0717e7"
      },
      "outputs": [
        {
          "name": "stdout",
          "output_type": "stream",
          "text": [
            "{'Имя': 'Иван', 'Возраст': '28', 'Город': 'Москва'}\n",
            "{'Имя': 'Мария', 'Возраст': '25', 'Город': 'Санкт-Петербург'}\n"
          ]
        }
      ],
      "source": [
        "# Чтение CSV файла с заголовками\n",
        "\n",
        "import csv\n",
        "\n",
        "with open('write.csv', mode='r', encoding='utf-8') as file:\n",
        "    csv_reader = csv.DictReader(file)\n",
        "    for row in csv_reader:\n",
        "        print(row)"
      ]
    },
    {
      "cell_type": "code",
      "execution_count": null,
      "metadata": {
        "id": "JS12QXZXJJgz"
      },
      "outputs": [],
      "source": [
        "# Запись данных в CSV файл\n",
        "\n",
        "import csv\n",
        "\n",
        "data = [\n",
        "    ['Имя', 'Возраст', 'Город'],\n",
        "    ['Иван', 28, 'Москва'],\n",
        "    ['Мария', 25, 'Санкт-Петербург']\n",
        "]\n",
        "\n",
        "with open('write.csv', 'w', newline='', encoding='utf-8') as file:\n",
        "    writer = csv.writer(file)\n",
        "    writer.writerows(data)"
      ]
    },
    {
      "cell_type": "markdown",
      "metadata": {
        "id": "syFoTH6lJmy3"
      },
      "source": [
        "# Задачи:\n",
        "\n",
        "**JSON**\n",
        "\n",
        "\n",
        "1.   Создание JSON-объекта\n",
        "\n",
        "Создайте словарь с информацией о студенте (имя, возраст, оценки) и преобразуйте его в JSON-формат. Выведите результат в консоль.\n",
        "\n",
        "2.   Чтение JSON-файла\n",
        "\n",
        "Дан файл data.json со следующей структурой:\n",
        "```\n",
        "{\n",
        "    \"name\": \"Иван\",\n",
        "    \"age\": 20,\n",
        "    \"courses\": [\"Математика\", \"Физика\"]\n",
        "}\n",
        "```\n",
        "3.   Модификация данных\n",
        "\n",
        "Добавьте в JSON-объект новое поле email и обновите файл на диске.\n",
        "\n",
        "4.   Работа с массивами\n",
        "\n",
        "Создайте JSON-файл, содержащий список словарей с информацией о книгах (название, автор, год издания). Добавьте функцию для поиска книг по автору.\n",
        "\n",
        "5.   Обработка ошибок\n",
        "\n",
        "Напишите программу, которая пытается прочитать JSON-файл и обрабатывает возможные ошибки (файл не найден, некорректный формат).\n",
        "\n",
        "6.   Преобразование данных\n",
        "\n",
        "Преобразуйте JSON-объект, содержащий список температур за месяц, в словарь, где ключами будут даты, а значениями — температуры.\n",
        "\n",
        "7.   Вложенные структуры\n",
        "\n",
        "Создайте JSON-объект, представляющий каталог товаров с вложенной структурой (категория → подкатегория → товары). Реализуйте поиск товара по названию.\n",
        "\n",
        "# **Доп. баллы**\n",
        "\n",
        "8.   Оптимизация хранения\\\n",
        "\n",
        "Реализуйте сжатие JSON-данных перед сохранением в файл и их распаковку при чтении.\n",
        "\n",
        "9.   Валидация данных\n",
        "\n",
        "Напишите функцию для проверки корректности JSON-структуры по заданному шаблону (например, проверка наличия обязательных полей)."
      ]
    },
    {
      "cell_type": "markdown",
      "metadata": {
        "id": "0oXh-rvAwbFK"
      },
      "source": [
        "# Решения\n",
        "\n",
        "1.   Создание JSON-объекта\n",
        "\n",
        "Создайте словарь с информацией о студенте (имя, возраст, оценки) и преобразуйте его в JSON-формат. Выведите результат в консоль."
      ]
    },
    {
      "cell_type": "code",
      "execution_count": 38,
      "metadata": {
        "colab": {
          "base_uri": "https://localhost:8080/"
        },
        "id": "qDDEmbKowNDo",
        "outputId": "89e9aa61-625e-489e-a348-c4257bc27a1b"
      },
      "outputs": [
        {
          "name": "stdout",
          "output_type": "stream",
          "text": [
            "{\n",
            "    \"first_name\": \"John\",\n",
            "    \"last_name\": \"Doe\",\n",
            "    \"courses\": [\n",
            "        \"Maths\",\n",
            "        \"Physics\",\n",
            "        \"Computer Science\"\n",
            "    ],\n",
            "    \"avg_grades\": [\n",
            "        4.5,\n",
            "        4,\n",
            "        5\n",
            "    ]\n",
            "}\n"
          ]
        }
      ],
      "source": [
        "import json\n",
        "\n",
        "data = {\n",
        "    'first_name': 'John',\n",
        "    'last_name': 'Doe',\n",
        "    'courses': ['Maths', 'Physics', 'Computer Science'],\n",
        "    'avg_grades': [4.5, 4, 5]\n",
        "}\n",
        "\n",
        "j_data = json.dumps(data, indent=4)\n",
        "print(j_data)"
      ]
    },
    {
      "cell_type": "markdown",
      "metadata": {
        "id": "3Q3lXe4wxdt9"
      },
      "source": [
        "2.   Чтение JSON-файла\n",
        "\n",
        "Дан файл data.json со следующей структурой:\n",
        "```\n",
        "{\n",
        "    \"name\": \"Иван\",\n",
        "    \"age\": 20,\n",
        "    \"courses\": [\"Математика\", \"Физика\"]\n",
        "}\n",
        "```"
      ]
    },
    {
      "cell_type": "code",
      "execution_count": 39,
      "metadata": {
        "colab": {
          "base_uri": "https://localhost:8080/"
        },
        "id": "foxcwQ-9xlX2",
        "outputId": "a88a6f36-9129-4486-da2a-cbb371896533"
      },
      "outputs": [
        {
          "name": "stdout",
          "output_type": "stream",
          "text": [
            "{\n",
            "    \"name\": \"Иван\",\n",
            "    \"age\": 20,\n",
            "    \"courses\": [\n",
            "        \"Математика\",\n",
            "        \"Физика\"\n",
            "    ]\n",
            "}\n"
          ]
        }
      ],
      "source": [
        "import json\n",
        "\n",
        "data = {\n",
        "    \"name\": \"Иван\",\n",
        "    \"age\": 20,\n",
        "    \"courses\": [\"Математика\", \"Физика\"]\n",
        "}\n",
        "\n",
        "with open('data.json', 'w') as file:\n",
        "  json.dump(data, file, indent=4)\n",
        "\n",
        "with open('data.json', 'r') as file:\n",
        "  data = json.load(file)\n",
        "\n",
        "print(json.dumps(data, indent=4, ensure_ascii=False))"
      ]
    },
    {
      "cell_type": "markdown",
      "metadata": {
        "id": "7PSBE3mi0Uqp"
      },
      "source": [
        "3.   Модификация данных\n",
        "\n",
        "Добавьте в JSON-объект новое поле email и обновите файл на диске."
      ]
    },
    {
      "cell_type": "code",
      "execution_count": 40,
      "metadata": {
        "colab": {
          "base_uri": "https://localhost:8080/"
        },
        "id": "_5cR8Lbt0UyU",
        "outputId": "2506875b-478c-4d77-b82e-adcdb64685ab"
      },
      "outputs": [
        {
          "name": "stdout",
          "output_type": "stream",
          "text": [
            "{\n",
            "    \"name\": \"Иван\",\n",
            "    \"age\": 20,\n",
            "    \"courses\": [\n",
            "        \"Математика\",\n",
            "        \"Физика\"\n",
            "    ],\n",
            "    \"email\": \"mymail@mail.ru\"\n",
            "}\n"
          ]
        }
      ],
      "source": [
        "import json\n",
        "\n",
        "with open('data.json', 'r') as file:\n",
        "  data = json.load(file)\n",
        "\n",
        "data['email'] = 'mymail@mail.ru'\n",
        "\n",
        "# Записал\n",
        "with open('data.json', 'w') as file:\n",
        "  json.dump(data, file, indent=4)\n",
        "\n",
        "# Считал\n",
        "with open('data.json', 'r') as file:\n",
        "  data = json.load(file)\n",
        "\n",
        "print(json.dumps(data, indent=4, ensure_ascii=False))"
      ]
    },
    {
      "cell_type": "markdown",
      "metadata": {
        "id": "5OADb_go3q7L"
      },
      "source": [
        "4.   Работа с массивами\n",
        "\n",
        "Создайте JSON-файл, содержащий список словарей с информацией о книгах (название, автор, год издания). Добавьте функцию для поиска книг по автору."
      ]
    },
    {
      "cell_type": "code",
      "execution_count": 41,
      "metadata": {
        "id": "pTy4369N3qhz"
      },
      "outputs": [],
      "source": [
        "import json\n",
        "\n",
        "data = [\n",
        "    {\n",
        "        'title': 'A Tale of Two Cities',\n",
        "        'author': 'Charles Dickens',\n",
        "        'year_published': 1859\n",
        "    },\n",
        "    {\n",
        "        'title': 'The Little Prince (Le Petit Prince)',\n",
        "        'author': 'Antoine de Saint-Exupéry',\n",
        "        'year_published': 1943\n",
        "    },\n",
        "    {\n",
        "        'title': 'The Alchemist (O Alquimista)',\n",
        "        'author': 'Paulo Coelho',\n",
        "        'year_published': 1988\n",
        "    },\n",
        "    {\n",
        "        'title': 'A Tale of Three Cities',\n",
        "        'author': 'Charles Dickens',\n",
        "        'year_published': 1869\n",
        "    }\n",
        "]\n",
        "\n",
        "with open('books.json', 'w', encoding='utf-8') as file:\n",
        "  json.dump(data, file, indent=4, ensure_ascii=False)"
      ]
    },
    {
      "cell_type": "code",
      "execution_count": 42,
      "metadata": {
        "id": "KWEOPBAU5-YK"
      },
      "outputs": [],
      "source": [
        "def books_by_author(file_name, author_name):\n",
        "  with open(file_name, 'r') as file:\n",
        "    data = json.load(file)\n",
        "  result = [book for book in data if book['author'].lower() == author_name.lower()]\n",
        "  return result"
      ]
    },
    {
      "cell_type": "code",
      "execution_count": 43,
      "metadata": {
        "colab": {
          "base_uri": "https://localhost:8080/"
        },
        "id": "sMyvD4yz8tbG",
        "outputId": "e4749021-729f-4869-ec90-b8e33540c79a"
      },
      "outputs": [
        {
          "data": {
            "text/plain": [
              "[{'title': 'A Tale of Two Cities',\n",
              "  'author': 'Charles Dickens',\n",
              "  'year_published': 1859},\n",
              " {'title': 'A Tale of Three Cities',\n",
              "  'author': 'Charles Dickens',\n",
              "  'year_published': 1869}]"
            ]
          },
          "execution_count": 43,
          "metadata": {},
          "output_type": "execute_result"
        }
      ],
      "source": [
        "books_by_author('books.json', 'Charles Dickens')"
      ]
    },
    {
      "cell_type": "markdown",
      "metadata": {
        "id": "5GYxJeynAWqJ"
      },
      "source": [
        "5.   Обработка ошибок\n",
        "\n",
        "Напишите программу, которая пытается прочитать JSON-файл и обрабатывает возможные ошибки (файл не найден, некорректный формат)."
      ]
    },
    {
      "cell_type": "code",
      "execution_count": 44,
      "metadata": {
        "id": "KBJjbjyFAZlR"
      },
      "outputs": [],
      "source": [
        "import json\n",
        "\n",
        "def read_json_file(filename):\n",
        "  try:\n",
        "    with open(filename, 'r') as file:\n",
        "      json.load(file)\n",
        "  except FileNotFoundError:\n",
        "    print('Файл не найден')\n",
        "  except ValueError:\n",
        "    print('Некорректный формат')"
      ]
    },
    {
      "cell_type": "code",
      "execution_count": 45,
      "metadata": {
        "colab": {
          "base_uri": "https://localhost:8080/"
        },
        "id": "pCu_1Em7Bdtz",
        "outputId": "25bc35b2-6cbc-4da6-b811-7efd692ff481"
      },
      "outputs": [
        {
          "name": "stdout",
          "output_type": "stream",
          "text": [
            "Файл не найден\n"
          ]
        }
      ],
      "source": [
        "read_json_file('boos.json')"
      ]
    },
    {
      "cell_type": "markdown",
      "metadata": {
        "id": "7kes5NgeCQZS"
      },
      "source": [
        "6.   Преобразование данных\n",
        "\n",
        "Преобразуйте JSON-объект, содержащий список температур за месяц, в словарь, где ключами будут даты, а значениями — температуры."
      ]
    },
    {
      "cell_type": "code",
      "execution_count": 46,
      "metadata": {
        "colab": {
          "base_uri": "https://localhost:8080/"
        },
        "id": "Kvb_RfvoDhbA",
        "outputId": "79635237-bc3e-4761-a16d-4a81feb7c11f"
      },
      "outputs": [
        {
          "name": "stdout",
          "output_type": "stream",
          "text": [
            "[15, -8, -6, 10, 6, 2, 20, -1, -14, 2, -5, 15, -7, -6, 7, -18, -8, -1, -1, -15, 14, -15, -1, -17, -11, -14, 10, 15, -9, 0]\n",
            "{1: 15, 2: -8, 3: -6, 4: 10, 5: 6, 6: 2, 7: 20, 8: -1, 9: -14, 10: 2, 11: -5, 12: 15, 13: -7, 14: -6, 15: 7, 16: -18, 17: -8, 18: -1, 19: -1, 20: -15, 21: 14, 22: -15, 23: -1, 24: -17, 25: -11, 26: -14, 27: 10, 28: 15, 29: -9, 30: 0}\n"
          ]
        }
      ],
      "source": [
        "import json\n",
        "import random\n",
        "list_temps = [random.randint(-20, 20) for _ in range(30)]\n",
        "print(list_temps)\n",
        "\n",
        "data = {\n",
        "    'temps': list_temps\n",
        "}\n",
        "\n",
        "with open('temps.json', 'w') as file:\n",
        "  json.dump(data, file, indent=4)\n",
        "\n",
        "with open('temps.json', 'r') as file:\n",
        "  j_temps = json.load(file)\n",
        "\n",
        "day_temp = {}\n",
        "for _ in range(1, len(j_temps['temps']) + 1):\n",
        "  day_temp[_] = j_temps['temps'][_ - 1]\n",
        "print(day_temp)"
      ]
    },
    {
      "cell_type": "markdown",
      "metadata": {
        "id": "poco88KzJrSy"
      },
      "source": [
        "7.   Вложенные структуры\n",
        "\n",
        "Создайте JSON-объект, представляющий каталог товаров с вложенной структурой (категория → подкатегория → товары). Реализуйте поиск товара по названию."
      ]
    },
    {
      "cell_type": "code",
      "execution_count": 89,
      "metadata": {
        "id": "8IHxmoXbJsW9"
      },
      "outputs": [],
      "source": [
        "import json\n",
        "\n",
        "# Случайный сгенерированный каталог\n",
        "data = {\n",
        "    \"catalogue\": {\n",
        "        \"Электроника\": {\n",
        "            \"Смартфоны\": [\n",
        "                {\n",
        "                    \"id\": \"001\",\n",
        "                    \"название\": \"iPhone 15 Pro Max\",\n",
        "                    \"цена\": 129990,\n",
        "                    \"характеристики\": {\n",
        "                        \"память\": \"256 ГБ\",\n",
        "                        \"цвет\": \"черный\",\n",
        "                        \"камера\": \"48 МП\"\n",
        "                    }\n",
        "                },\n",
        "                {\n",
        "                    \"id\": \"002\",\n",
        "                    \"название\": \"Samsung Galaxy S24 Ultra\",\n",
        "                    \"цена\": 119990,\n",
        "                    \"характеристики\": {\n",
        "                        \"память\": \"512 ГБ\",\n",
        "                        \"цвет\": \"титановый\",\n",
        "                        \"камера\": \"200 МП\"\n",
        "                    }\n",
        "                }\n",
        "            ],\n",
        "            \"Ноутбуки\": [\n",
        "                {\n",
        "                    \"id\": \"003\",\n",
        "                    \"название\": \"MacBook Air M2\",\n",
        "                    \"цена\": 149990,\n",
        "                    \"характеристики\": {\n",
        "                        \"процессор\": \"Apple M2\",\n",
        "                        \"память\": \"8/256 ГБ\",\n",
        "                        \"экран\": \"13.6\\\"\"\n",
        "                    }\n",
        "                },\n",
        "                {\n",
        "                    \"id\": \"004\",\n",
        "                    \"название\": \"Dell XPS 13\",\n",
        "                    \"цена\": 139990,\n",
        "                    \"характеристики\": {\n",
        "                        \"процессор\": \"Intel Core i7\",\n",
        "                        \"память\": \"16/512 ГБ\",\n",
        "                        \"экран\": \"13.4\\\"\"\n",
        "                    }\n",
        "                }\n",
        "            ]\n",
        "        },\n",
        "        \"Бытовая техника\": {\n",
        "            \"Холодильники\": [\n",
        "                {\n",
        "                    \"id\": \"005\",\n",
        "                    \"название\": \"Samsung RB30A30N0WW\",\n",
        "                    \"цена\": 69990,\n",
        "                    \"характеристики\": {\n",
        "                        \"объем\": \"301 л\",\n",
        "                        \"энергопотребление\": \"A++\",\n",
        "                        \"морозильник\": \"снизу\"\n",
        "                    }\n",
        "                },\n",
        "                {\n",
        "                    \"id\": \"006\",\n",
        "                    \"название\": \"LG GR-N309SL1\",\n",
        "                    \"цена\": 74990,\n",
        "                    \"характеристики\": {\n",
        "                        \"объем\": \"311 л\",\n",
        "                        \"энергопотребление\": \"A++\",\n",
        "                        \"морозильник\": \"сверху\"\n",
        "                    }\n",
        "                }\n",
        "            ]\n",
        "        }\n",
        "    }\n",
        "}\n",
        "\n",
        "with open('catalogue.json', 'w') as file:\n",
        "  json.dump(data, file, indent=4)"
      ]
    },
    {
      "cell_type": "code",
      "execution_count": 90,
      "metadata": {},
      "outputs": [],
      "source": [
        "def item_search(item_name):\n",
        "  results = []\n",
        "  item_name = str(item_name)\n",
        "  \n",
        "  with open('catalogue.json', 'r') as file:\n",
        "    data = json.load(file)\n",
        "  \n",
        "  for product_category, product_subcategory in data['catalogue'].items():\n",
        "    for product_subcategory, subcat_cont in product_subcategory.items():\n",
        "      for product in subcat_cont:\n",
        "        if item_name.lower() == product['название'].lower():\n",
        "          results.append(product)\n",
        "  \n",
        "  if len(results) == 0:\n",
        "    return 'Совпадений не найдено'\n",
        "\n",
        "  results = json.dumps(results, indent=4, ensure_ascii=False)\n",
        "  return results"
      ]
    },
    {
      "cell_type": "code",
      "execution_count": 91,
      "metadata": {},
      "outputs": [
        {
          "name": "stdout",
          "output_type": "stream",
          "text": [
            "[\n",
            "    {\n",
            "        \"id\": \"004\",\n",
            "        \"название\": \"Dell XPS 13\",\n",
            "        \"цена\": 139990,\n",
            "        \"характеристики\": {\n",
            "            \"процессор\": \"Intel Core i7\",\n",
            "            \"память\": \"16/512 ГБ\",\n",
            "            \"экран\": \"13.4\\\"\"\n",
            "        }\n",
            "    }\n",
            "]\n"
          ]
        }
      ],
      "source": [
        "print(item_search('Dell XPS 13'))"
      ]
    },
    {
      "cell_type": "markdown",
      "metadata": {
        "id": "8tz_fmNTLJq3"
      },
      "source": [
        "# CSV\n",
        "\n",
        "\n",
        "\n",
        "1.   Чтение CSV файла\n",
        "\n",
        "Написать программу, которая читает CSV файл со списком студентов и их оценок, выводит содержимое на экран.\n",
        "\n",
        "```\n",
        "Имя,Оценка\n",
        "Анна,5\n",
        "Борис,4\n",
        "Виктор,5\n",
        "\n",
        "```\n",
        "\n",
        "2.   Запись в CSV\n",
        "\n",
        "Создать программу, которая записывает список словарей с информацией о книгах в CSV файл.\n",
        "\n",
        "```python\n",
        "books = [\n",
        "    {'title': 'Война и мир', 'author': 'Толстой', 'year': 1869},\n",
        "    {'title': '1984', 'author': 'Оруэлл', 'year': 1949}\n",
        "]\n",
        "```\n",
        "\n",
        "3.   Фильтрация данных\n",
        "\n",
        "Написать программу, которая фильтрует CSV файл с данными о продажах, оставляя только записи с суммой больше 1000 рублей.\n",
        "\n",
        "```\n",
        "Дата,Товар,Сумма\n",
        "01.01.2023,Телефон,1200\n",
        "02.01.2023,Ручка,100\n",
        "03.01.2023,Ноутбук,15000\n",
        "\n",
        "```\n",
        "\n",
        "4.   Подсчет статистики\n",
        "\n",
        "Создать программу, которая подсчитывает среднюю оценку по предмету из CSV файла с оценками студентов.\n",
        "\n",
        "```\n",
        "Студент,Математика,Физика,Химия\n",
        "Анна,5,4,5\n",
        "Борис,4,3,4\n",
        "Виктор,5,5,5\n",
        "\n",
        "```\n",
        "\n",
        "5.   Объединение CSV файлов\n",
        "\n",
        "Написать программу, которая объединяет несколько CSV файлов с одинаковыми заголовками в один файл.\n",
        "\n",
        "```\n",
        "# file1.csv\n",
        "ID,Имя,Возраст\n",
        "1,Анна,20\n",
        "2,Борис,22\n",
        "\n",
        "# file2.csv\n",
        "ID,Имя,Возраст\n",
        "3,Виктор,21\n",
        "4,Галина,19\n",
        "\n",
        "```\n",
        "\n",
        "# **Доп. баллы**\n",
        "\n",
        "6.   Генерация данных\n",
        "\n",
        "Сгенерируйте файл csv более 1 млн строк с похожей структурой данных, запишите полученные данные CSV файл.\n",
        "\n",
        "```\n",
        "Город,Население\n",
        "Москва,12000000\n",
        "Санкт-Петербург,5000000\n",
        "Новосибирск,1600000\n",
        "\n",
        "```\n",
        "7.   Обработка больших данных\n",
        "\n",
        "Создать программу, которая обрабатывает большой CSV файл (более 1 млн строк) и находит топ-10 самых частых значений в определенном столбце.\n",
        "\n",
        "Данные взять из предыдущего задания (6-е задание)"
      ]
    },
    {
      "cell_type": "code",
      "execution_count": null,
      "metadata": {},
      "outputs": [],
      "source": [
        "try:\n",
        "    import pandas as pd\n",
        "except ModuleNotFoundError:\n",
        "    %pip install pandas\n",
        "    import pandas as pd"
      ]
    },
    {
      "cell_type": "markdown",
      "metadata": {},
      "source": [
        "1.   Чтение CSV файла\n",
        "\n",
        "Написать программу, которая читает CSV файл со списком студентов и их оценок, выводит содержимое на экран.\n",
        "\n",
        "```\n",
        "Имя,Оценка\n",
        "Анна,5\n",
        "Борис,4\n",
        "Виктор,5\n",
        "\n",
        "```"
      ]
    },
    {
      "cell_type": "code",
      "execution_count": 3,
      "metadata": {},
      "outputs": [
        {
          "data": {
            "text/html": [
              "<div>\n",
              "<style scoped>\n",
              "    .dataframe tbody tr th:only-of-type {\n",
              "        vertical-align: middle;\n",
              "    }\n",
              "\n",
              "    .dataframe tbody tr th {\n",
              "        vertical-align: top;\n",
              "    }\n",
              "\n",
              "    .dataframe thead th {\n",
              "        text-align: right;\n",
              "    }\n",
              "</style>\n",
              "<table border=\"1\" class=\"dataframe\">\n",
              "  <thead>\n",
              "    <tr style=\"text-align: right;\">\n",
              "      <th></th>\n",
              "      <th>Имя</th>\n",
              "      <th>Оценка</th>\n",
              "    </tr>\n",
              "  </thead>\n",
              "  <tbody>\n",
              "    <tr>\n",
              "      <th>0</th>\n",
              "      <td>Анна</td>\n",
              "      <td>5</td>\n",
              "    </tr>\n",
              "    <tr>\n",
              "      <th>1</th>\n",
              "      <td>Борис</td>\n",
              "      <td>4</td>\n",
              "    </tr>\n",
              "    <tr>\n",
              "      <th>2</th>\n",
              "      <td>Виктор</td>\n",
              "      <td>5</td>\n",
              "    </tr>\n",
              "  </tbody>\n",
              "</table>\n",
              "</div>"
            ],
            "text/plain": [
              "      Имя  Оценка\n",
              "0    Анна       5\n",
              "1   Борис       4\n",
              "2  Виктор       5"
            ]
          },
          "execution_count": 3,
          "metadata": {},
          "output_type": "execute_result"
        }
      ],
      "source": [
        "import csv\n",
        "\n",
        "data = [\n",
        "    ['Имя', 'Оценка'],\n",
        "    ['Анна', 5],\n",
        "    ['Борис', 4],\n",
        "    ['Виктор', 5]\n",
        "]\n",
        "\n",
        "with open('data.csv', 'w', newline='', encoding='utf-8') as file:\n",
        "    writer = csv.writer(file)\n",
        "    writer.writerows(data)\n",
        "\n",
        "csv_data = pd.read_csv('data.csv')\n",
        "\n",
        "csv_data"
      ]
    },
    {
      "cell_type": "markdown",
      "metadata": {},
      "source": [
        "2.   Запись в CSV\n",
        "\n",
        "Создать программу, которая записывает список словарей с информацией о книгах в CSV файл.\n",
        "\n",
        "```python\n",
        "books = [\n",
        "    {'title': 'Война и мир', 'author': 'Толстой', 'year': 1869},\n",
        "    {'title': '1984', 'author': 'Оруэлл', 'year': 1949}\n",
        "]\n",
        "```"
      ]
    },
    {
      "cell_type": "code",
      "execution_count": 99,
      "metadata": {},
      "outputs": [],
      "source": [
        "books = [\n",
        "    {'title': 'Война и мир', 'author': 'Толстой', 'year': 1869},\n",
        "    {'title': '1984', 'author': 'Оруэлл', 'year': 1949}\n",
        "]"
      ]
    },
    {
      "cell_type": "code",
      "execution_count": 102,
      "metadata": {},
      "outputs": [
        {
          "data": {
            "text/plain": [
              "dict_keys(['title', 'author', 'year'])"
            ]
          },
          "execution_count": 102,
          "metadata": {},
          "output_type": "execute_result"
        }
      ],
      "source": [
        "books[0].keys()"
      ]
    },
    {
      "cell_type": "code",
      "execution_count": 141,
      "metadata": {},
      "outputs": [],
      "source": [
        "def ld_to_csv(ld):\n",
        "    data = [[*ld[0].keys()]]\n",
        "    for _ in books:\n",
        "        subr = []\n",
        "        for key, item in _.items():\n",
        "            subr.append(item)\n",
        "        data.append(subr)\n",
        "    with open('books.csv', 'w', newline='', encoding='utf-8') as file:\n",
        "        writer = csv.writer(file)\n",
        "        writer.writerows(data)"
      ]
    },
    {
      "cell_type": "code",
      "execution_count": 142,
      "metadata": {},
      "outputs": [
        {
          "data": {
            "text/html": [
              "<div>\n",
              "<style scoped>\n",
              "    .dataframe tbody tr th:only-of-type {\n",
              "        vertical-align: middle;\n",
              "    }\n",
              "\n",
              "    .dataframe tbody tr th {\n",
              "        vertical-align: top;\n",
              "    }\n",
              "\n",
              "    .dataframe thead th {\n",
              "        text-align: right;\n",
              "    }\n",
              "</style>\n",
              "<table border=\"1\" class=\"dataframe\">\n",
              "  <thead>\n",
              "    <tr style=\"text-align: right;\">\n",
              "      <th></th>\n",
              "      <th>title</th>\n",
              "      <th>author</th>\n",
              "      <th>year</th>\n",
              "    </tr>\n",
              "  </thead>\n",
              "  <tbody>\n",
              "    <tr>\n",
              "      <th>0</th>\n",
              "      <td>Война и мир</td>\n",
              "      <td>Толстой</td>\n",
              "      <td>1869</td>\n",
              "    </tr>\n",
              "    <tr>\n",
              "      <th>1</th>\n",
              "      <td>1984</td>\n",
              "      <td>Оруэлл</td>\n",
              "      <td>1949</td>\n",
              "    </tr>\n",
              "  </tbody>\n",
              "</table>\n",
              "</div>"
            ],
            "text/plain": [
              "         title   author  year\n",
              "0  Война и мир  Толстой  1869\n",
              "1         1984   Оруэлл  1949"
            ]
          },
          "execution_count": 142,
          "metadata": {},
          "output_type": "execute_result"
        }
      ],
      "source": [
        "ld_to_csv(books)\n",
        "\n",
        "csv_data = pd.read_csv('books.csv')\n",
        "\n",
        "csv_data"
      ]
    },
    {
      "cell_type": "markdown",
      "metadata": {},
      "source": [
        "3.   Фильтрация данных\n",
        "\n",
        "Написать программу, которая фильтрует CSV файл с данными о продажах, оставляя только записи с суммой больше 1000 рублей.\n",
        "\n",
        "```\n",
        "Дата,Товар,Сумма\n",
        "01.01.2023,Телефон,1200\n",
        "02.01.2023,Ручка,100\n",
        "03.01.2023,Ноутбук,15000\n",
        "\n",
        "```"
      ]
    },
    {
      "cell_type": "code",
      "execution_count": 145,
      "metadata": {},
      "outputs": [],
      "source": [
        "data = [\n",
        "    ['Дата','Товар','Сумма'],\n",
        "    ['01.01.2023','Телефон',1200],\n",
        "    ['02.01.2023','Ручка',100],\n",
        "    ['03.01.2023','Ноутбук',15000]\n",
        "]\n",
        "\n",
        "with open('purchases.csv', 'w', newline='', encoding='utf-8') as file:\n",
        "    writer = csv.writer(file)\n",
        "    writer.writerows(data)"
      ]
    },
    {
      "cell_type": "code",
      "execution_count": 148,
      "metadata": {},
      "outputs": [
        {
          "data": {
            "text/html": [
              "<div>\n",
              "<style scoped>\n",
              "    .dataframe tbody tr th:only-of-type {\n",
              "        vertical-align: middle;\n",
              "    }\n",
              "\n",
              "    .dataframe tbody tr th {\n",
              "        vertical-align: top;\n",
              "    }\n",
              "\n",
              "    .dataframe thead th {\n",
              "        text-align: right;\n",
              "    }\n",
              "</style>\n",
              "<table border=\"1\" class=\"dataframe\">\n",
              "  <thead>\n",
              "    <tr style=\"text-align: right;\">\n",
              "      <th></th>\n",
              "      <th>Дата</th>\n",
              "      <th>Товар</th>\n",
              "      <th>Сумма</th>\n",
              "    </tr>\n",
              "  </thead>\n",
              "  <tbody>\n",
              "    <tr>\n",
              "      <th>0</th>\n",
              "      <td>01.01.2023</td>\n",
              "      <td>Телефон</td>\n",
              "      <td>1200</td>\n",
              "    </tr>\n",
              "    <tr>\n",
              "      <th>1</th>\n",
              "      <td>02.01.2023</td>\n",
              "      <td>Ручка</td>\n",
              "      <td>100</td>\n",
              "    </tr>\n",
              "    <tr>\n",
              "      <th>2</th>\n",
              "      <td>03.01.2023</td>\n",
              "      <td>Ноутбук</td>\n",
              "      <td>15000</td>\n",
              "    </tr>\n",
              "  </tbody>\n",
              "</table>\n",
              "</div>"
            ],
            "text/plain": [
              "         Дата    Товар  Сумма\n",
              "0  01.01.2023  Телефон   1200\n",
              "1  02.01.2023    Ручка    100\n",
              "2  03.01.2023  Ноутбук  15000"
            ]
          },
          "execution_count": 148,
          "metadata": {},
          "output_type": "execute_result"
        }
      ],
      "source": [
        "csv_data = pd.read_csv('purchases.csv')\n",
        "\n",
        "csv_data"
      ]
    },
    {
      "cell_type": "code",
      "execution_count": 149,
      "metadata": {},
      "outputs": [
        {
          "data": {
            "text/html": [
              "<div>\n",
              "<style scoped>\n",
              "    .dataframe tbody tr th:only-of-type {\n",
              "        vertical-align: middle;\n",
              "    }\n",
              "\n",
              "    .dataframe tbody tr th {\n",
              "        vertical-align: top;\n",
              "    }\n",
              "\n",
              "    .dataframe thead th {\n",
              "        text-align: right;\n",
              "    }\n",
              "</style>\n",
              "<table border=\"1\" class=\"dataframe\">\n",
              "  <thead>\n",
              "    <tr style=\"text-align: right;\">\n",
              "      <th></th>\n",
              "      <th>Дата</th>\n",
              "      <th>Товар</th>\n",
              "      <th>Сумма</th>\n",
              "    </tr>\n",
              "  </thead>\n",
              "  <tbody>\n",
              "    <tr>\n",
              "      <th>0</th>\n",
              "      <td>01.01.2023</td>\n",
              "      <td>Телефон</td>\n",
              "      <td>1200</td>\n",
              "    </tr>\n",
              "    <tr>\n",
              "      <th>2</th>\n",
              "      <td>03.01.2023</td>\n",
              "      <td>Ноутбук</td>\n",
              "      <td>15000</td>\n",
              "    </tr>\n",
              "  </tbody>\n",
              "</table>\n",
              "</div>"
            ],
            "text/plain": [
              "         Дата    Товар  Сумма\n",
              "0  01.01.2023  Телефон   1200\n",
              "2  03.01.2023  Ноутбук  15000"
            ]
          },
          "execution_count": 149,
          "metadata": {},
          "output_type": "execute_result"
        }
      ],
      "source": [
        "csv_data[csv_data['Сумма'] > 1000]"
      ]
    },
    {
      "cell_type": "markdown",
      "metadata": {},
      "source": [
        "4.   Подсчет статистики\n",
        "\n",
        "Создать программу, которая подсчитывает среднюю оценку по предмету из CSV файла с оценками студентов.\n",
        "\n",
        "```\n",
        "Студент,Математика,Физика,Химия\n",
        "Анна,5,4,5\n",
        "Борис,4,3,4\n",
        "Виктор,5,5,5\n",
        "\n",
        "```"
      ]
    },
    {
      "cell_type": "code",
      "execution_count": 152,
      "metadata": {},
      "outputs": [],
      "source": [
        "data = [\n",
        "    ['Студент','Математика','Физика','Химия'],\n",
        "    ['Анна',5,4,5],\n",
        "    ['Борис',4,3,4],\n",
        "    ['Виктор',5,5,5]\n",
        "]\n",
        "\n",
        "with open('grades.csv', 'w', newline='', encoding='utf-8') as file:\n",
        "    writer = csv.writer(file)\n",
        "    writer.writerows(data)"
      ]
    },
    {
      "cell_type": "code",
      "execution_count": 167,
      "metadata": {},
      "outputs": [
        {
          "data": {
            "text/html": [
              "<div>\n",
              "<style scoped>\n",
              "    .dataframe tbody tr th:only-of-type {\n",
              "        vertical-align: middle;\n",
              "    }\n",
              "\n",
              "    .dataframe tbody tr th {\n",
              "        vertical-align: top;\n",
              "    }\n",
              "\n",
              "    .dataframe thead th {\n",
              "        text-align: right;\n",
              "    }\n",
              "</style>\n",
              "<table border=\"1\" class=\"dataframe\">\n",
              "  <thead>\n",
              "    <tr style=\"text-align: right;\">\n",
              "      <th></th>\n",
              "      <th>Студент</th>\n",
              "      <th>Математика</th>\n",
              "      <th>Физика</th>\n",
              "      <th>Химия</th>\n",
              "    </tr>\n",
              "  </thead>\n",
              "  <tbody>\n",
              "    <tr>\n",
              "      <th>0</th>\n",
              "      <td>Анна</td>\n",
              "      <td>5</td>\n",
              "      <td>4</td>\n",
              "      <td>5</td>\n",
              "    </tr>\n",
              "    <tr>\n",
              "      <th>1</th>\n",
              "      <td>Борис</td>\n",
              "      <td>4</td>\n",
              "      <td>3</td>\n",
              "      <td>4</td>\n",
              "    </tr>\n",
              "    <tr>\n",
              "      <th>2</th>\n",
              "      <td>Виктор</td>\n",
              "      <td>5</td>\n",
              "      <td>5</td>\n",
              "      <td>5</td>\n",
              "    </tr>\n",
              "  </tbody>\n",
              "</table>\n",
              "</div>"
            ],
            "text/plain": [
              "  Студент  Математика  Физика  Химия\n",
              "0    Анна           5       4      5\n",
              "1   Борис           4       3      4\n",
              "2  Виктор           5       5      5"
            ]
          },
          "execution_count": 167,
          "metadata": {},
          "output_type": "execute_result"
        }
      ],
      "source": [
        "csv_data = pd.read_csv('grades.csv')\n",
        "\n",
        "csv_data"
      ]
    },
    {
      "cell_type": "code",
      "execution_count": 168,
      "metadata": {},
      "outputs": [],
      "source": [
        "def avg_mark(grades):\n",
        "    disciplines = grades.columns[1:]\n",
        "    grades.loc[grades.shape[0], 'Студент'] = 'Средний балл'\n",
        "    for each in disciplines:\n",
        "        grades.loc[grades.shape[0]-1, each] = grades[each].mean()"
      ]
    },
    {
      "cell_type": "code",
      "execution_count": 169,
      "metadata": {},
      "outputs": [],
      "source": [
        "avg_mark(csv_data)"
      ]
    },
    {
      "cell_type": "code",
      "execution_count": 170,
      "metadata": {},
      "outputs": [
        {
          "data": {
            "text/html": [
              "<div>\n",
              "<style scoped>\n",
              "    .dataframe tbody tr th:only-of-type {\n",
              "        vertical-align: middle;\n",
              "    }\n",
              "\n",
              "    .dataframe tbody tr th {\n",
              "        vertical-align: top;\n",
              "    }\n",
              "\n",
              "    .dataframe thead th {\n",
              "        text-align: right;\n",
              "    }\n",
              "</style>\n",
              "<table border=\"1\" class=\"dataframe\">\n",
              "  <thead>\n",
              "    <tr style=\"text-align: right;\">\n",
              "      <th></th>\n",
              "      <th>Студент</th>\n",
              "      <th>Математика</th>\n",
              "      <th>Физика</th>\n",
              "      <th>Химия</th>\n",
              "    </tr>\n",
              "  </thead>\n",
              "  <tbody>\n",
              "    <tr>\n",
              "      <th>0</th>\n",
              "      <td>Анна</td>\n",
              "      <td>5.000000</td>\n",
              "      <td>4.0</td>\n",
              "      <td>5.000000</td>\n",
              "    </tr>\n",
              "    <tr>\n",
              "      <th>1</th>\n",
              "      <td>Борис</td>\n",
              "      <td>4.000000</td>\n",
              "      <td>3.0</td>\n",
              "      <td>4.000000</td>\n",
              "    </tr>\n",
              "    <tr>\n",
              "      <th>2</th>\n",
              "      <td>Виктор</td>\n",
              "      <td>5.000000</td>\n",
              "      <td>5.0</td>\n",
              "      <td>5.000000</td>\n",
              "    </tr>\n",
              "    <tr>\n",
              "      <th>3</th>\n",
              "      <td>Средний балл</td>\n",
              "      <td>4.666667</td>\n",
              "      <td>4.0</td>\n",
              "      <td>4.666667</td>\n",
              "    </tr>\n",
              "  </tbody>\n",
              "</table>\n",
              "</div>"
            ],
            "text/plain": [
              "        Студент  Математика  Физика     Химия\n",
              "0          Анна    5.000000     4.0  5.000000\n",
              "1         Борис    4.000000     3.0  4.000000\n",
              "2        Виктор    5.000000     5.0  5.000000\n",
              "3  Средний балл    4.666667     4.0  4.666667"
            ]
          },
          "execution_count": 170,
          "metadata": {},
          "output_type": "execute_result"
        }
      ],
      "source": [
        "csv_data"
      ]
    },
    {
      "cell_type": "markdown",
      "metadata": {},
      "source": [
        "5.   Объединение CSV файлов\n",
        "\n",
        "Написать программу, которая объединяет несколько CSV файлов с одинаковыми заголовками в один файл.\n",
        "\n",
        "```\n",
        "# file1.csv\n",
        "ID,Имя,Возраст\n",
        "1,Анна,20\n",
        "2,Борис,22\n",
        "\n",
        "# file2.csv\n",
        "ID,Имя,Возраст\n",
        "3,Виктор,21\n",
        "4,Галина,19\n",
        "\n",
        "```"
      ]
    },
    {
      "cell_type": "code",
      "execution_count": 171,
      "metadata": {},
      "outputs": [],
      "source": [
        "data = [\n",
        "    ['ID','Имя','Возраст'],\n",
        "    [1,'Анна',20],\n",
        "    [2,'Борис',22]\n",
        "]\n",
        "\n",
        "with open('file1.csv', 'w', newline='', encoding='utf-8') as file:\n",
        "    writer = csv.writer(file)\n",
        "    writer.writerows(data)\n",
        "\n",
        "data = [\n",
        "    ['ID','Имя','Возраст'],\n",
        "    [3,'Виктор',21],\n",
        "    [4,'Галина',19]\n",
        "]\n",
        "\n",
        "\n",
        "with open('file2.csv', 'w', newline='', encoding='utf-8') as file:\n",
        "    writer = csv.writer(file)\n",
        "    writer.writerows(data)"
      ]
    },
    {
      "cell_type": "code",
      "execution_count": 173,
      "metadata": {},
      "outputs": [],
      "source": [
        "file1 = pd.read_csv('file1.csv')\n",
        "file2 = pd.read_csv('file2.csv')\n",
        "\n",
        "merged = pd.concat([file1, file2])\n",
        "\n",
        "merged.to_csv('merged.csv')"
      ]
    },
    {
      "cell_type": "markdown",
      "metadata": {},
      "source": [
        "# **Доп. баллы**\n",
        "\n",
        "6.   Генерация данных\n",
        "\n",
        "Сгенерируйте файл csv более 1 млн строк с похожей структурой данных, запишите полученные данные CSV файл.\n",
        "\n",
        "```\n",
        "Город,Население\n",
        "Москва,12000000\n",
        "Санкт-Петербург,5000000\n",
        "Новосибирск,1600000\n",
        "\n",
        "```"
      ]
    },
    {
      "cell_type": "markdown",
      "metadata": {},
      "source": [
        "Воспользуюсь csv-файлом из архива https://simplemaps.com/static/data/world-cities/basic/simplemaps_worldcities_basicv1.901.zip, в котором содержатся данные о городах мира"
      ]
    },
    {
      "cell_type": "code",
      "execution_count": 33,
      "metadata": {},
      "outputs": [
        {
          "data": {
            "text/html": [
              "<div>\n",
              "<style scoped>\n",
              "    .dataframe tbody tr th:only-of-type {\n",
              "        vertical-align: middle;\n",
              "    }\n",
              "\n",
              "    .dataframe tbody tr th {\n",
              "        vertical-align: top;\n",
              "    }\n",
              "\n",
              "    .dataframe thead th {\n",
              "        text-align: right;\n",
              "    }\n",
              "</style>\n",
              "<table border=\"1\" class=\"dataframe\">\n",
              "  <thead>\n",
              "    <tr style=\"text-align: right;\">\n",
              "      <th></th>\n",
              "      <th>city</th>\n",
              "      <th>population</th>\n",
              "    </tr>\n",
              "  </thead>\n",
              "  <tbody>\n",
              "    <tr>\n",
              "      <th>0</th>\n",
              "      <td>Tokyo</td>\n",
              "      <td>37785000.0</td>\n",
              "    </tr>\n",
              "    <tr>\n",
              "      <th>1</th>\n",
              "      <td>Jakarta</td>\n",
              "      <td>33756000.0</td>\n",
              "    </tr>\n",
              "    <tr>\n",
              "      <th>2</th>\n",
              "      <td>Delhi</td>\n",
              "      <td>32226000.0</td>\n",
              "    </tr>\n",
              "    <tr>\n",
              "      <th>3</th>\n",
              "      <td>Guangzhou</td>\n",
              "      <td>26940000.0</td>\n",
              "    </tr>\n",
              "    <tr>\n",
              "      <th>4</th>\n",
              "      <td>Mumbai</td>\n",
              "      <td>24973000.0</td>\n",
              "    </tr>\n",
              "    <tr>\n",
              "      <th>...</th>\n",
              "      <td>...</td>\n",
              "      <td>...</td>\n",
              "    </tr>\n",
              "    <tr>\n",
              "      <th>48054</th>\n",
              "      <td>Al Jabīn</td>\n",
              "      <td>NaN</td>\n",
              "    </tr>\n",
              "    <tr>\n",
              "      <th>48055</th>\n",
              "      <td>Nelspruit</td>\n",
              "      <td>NaN</td>\n",
              "    </tr>\n",
              "    <tr>\n",
              "      <th>48056</th>\n",
              "      <td>Gqeberha</td>\n",
              "      <td>NaN</td>\n",
              "    </tr>\n",
              "    <tr>\n",
              "      <th>48057</th>\n",
              "      <td>Lupane</td>\n",
              "      <td>NaN</td>\n",
              "    </tr>\n",
              "    <tr>\n",
              "      <th>48058</th>\n",
              "      <td>Charlotte Amalie</td>\n",
              "      <td>NaN</td>\n",
              "    </tr>\n",
              "  </tbody>\n",
              "</table>\n",
              "<p>48059 rows × 2 columns</p>\n",
              "</div>"
            ],
            "text/plain": [
              "                   city  population\n",
              "0                 Tokyo  37785000.0\n",
              "1               Jakarta  33756000.0\n",
              "2                 Delhi  32226000.0\n",
              "3             Guangzhou  26940000.0\n",
              "4                Mumbai  24973000.0\n",
              "...                 ...         ...\n",
              "48054          Al Jabīn         NaN\n",
              "48055         Nelspruit         NaN\n",
              "48056          Gqeberha         NaN\n",
              "48057            Lupane         NaN\n",
              "48058  Charlotte Amalie         NaN\n",
              "\n",
              "[48059 rows x 2 columns]"
            ]
          },
          "execution_count": 33,
          "metadata": {},
          "output_type": "execute_result"
        }
      ],
      "source": [
        "a = pd.read_csv('worldcities.csv')\n",
        "a = a[['city', 'population']]\n",
        "a"
      ]
    },
    {
      "cell_type": "markdown",
      "metadata": {},
      "source": [
        "Избавимся от пустых строк"
      ]
    },
    {
      "cell_type": "code",
      "execution_count": 34,
      "metadata": {},
      "outputs": [
        {
          "data": {
            "text/html": [
              "<div>\n",
              "<style scoped>\n",
              "    .dataframe tbody tr th:only-of-type {\n",
              "        vertical-align: middle;\n",
              "    }\n",
              "\n",
              "    .dataframe tbody tr th {\n",
              "        vertical-align: top;\n",
              "    }\n",
              "\n",
              "    .dataframe thead th {\n",
              "        text-align: right;\n",
              "    }\n",
              "</style>\n",
              "<table border=\"1\" class=\"dataframe\">\n",
              "  <thead>\n",
              "    <tr style=\"text-align: right;\">\n",
              "      <th></th>\n",
              "      <th>city</th>\n",
              "      <th>population</th>\n",
              "    </tr>\n",
              "  </thead>\n",
              "  <tbody>\n",
              "    <tr>\n",
              "      <th>0</th>\n",
              "      <td>Tokyo</td>\n",
              "      <td>37785000.0</td>\n",
              "    </tr>\n",
              "    <tr>\n",
              "      <th>1</th>\n",
              "      <td>Jakarta</td>\n",
              "      <td>33756000.0</td>\n",
              "    </tr>\n",
              "    <tr>\n",
              "      <th>2</th>\n",
              "      <td>Delhi</td>\n",
              "      <td>32226000.0</td>\n",
              "    </tr>\n",
              "    <tr>\n",
              "      <th>3</th>\n",
              "      <td>Guangzhou</td>\n",
              "      <td>26940000.0</td>\n",
              "    </tr>\n",
              "    <tr>\n",
              "      <th>4</th>\n",
              "      <td>Mumbai</td>\n",
              "      <td>24973000.0</td>\n",
              "    </tr>\n",
              "    <tr>\n",
              "      <th>...</th>\n",
              "      <td>...</td>\n",
              "      <td>...</td>\n",
              "    </tr>\n",
              "    <tr>\n",
              "      <th>47803</th>\n",
              "      <td>Kostel</td>\n",
              "      <td>10.0</td>\n",
              "    </tr>\n",
              "    <tr>\n",
              "      <th>47804</th>\n",
              "      <td>Kingoonya</td>\n",
              "      <td>4.0</td>\n",
              "    </tr>\n",
              "    <tr>\n",
              "      <th>47805</th>\n",
              "      <td>Chuquicamata</td>\n",
              "      <td>0.0</td>\n",
              "    </tr>\n",
              "    <tr>\n",
              "      <th>47806</th>\n",
              "      <td>Nordvik</td>\n",
              "      <td>0.0</td>\n",
              "    </tr>\n",
              "    <tr>\n",
              "      <th>47807</th>\n",
              "      <td>Logashkino</td>\n",
              "      <td>0.0</td>\n",
              "    </tr>\n",
              "  </tbody>\n",
              "</table>\n",
              "<p>47808 rows × 2 columns</p>\n",
              "</div>"
            ],
            "text/plain": [
              "               city  population\n",
              "0             Tokyo  37785000.0\n",
              "1           Jakarta  33756000.0\n",
              "2             Delhi  32226000.0\n",
              "3         Guangzhou  26940000.0\n",
              "4            Mumbai  24973000.0\n",
              "...             ...         ...\n",
              "47803        Kostel        10.0\n",
              "47804     Kingoonya         4.0\n",
              "47805  Chuquicamata         0.0\n",
              "47806       Nordvik         0.0\n",
              "47807    Logashkino         0.0\n",
              "\n",
              "[47808 rows x 2 columns]"
            ]
          },
          "execution_count": 34,
          "metadata": {},
          "output_type": "execute_result"
        }
      ],
      "source": [
        "a.dropna(inplace=True)\n",
        "a.reset_index(drop=True,inplace=True)\n",
        "a"
      ]
    },
    {
      "cell_type": "markdown",
      "metadata": {},
      "source": [
        "Запишем в файл"
      ]
    },
    {
      "cell_type": "code",
      "execution_count": 35,
      "metadata": {},
      "outputs": [],
      "source": [
        "try:\n",
        "    import random\n",
        "except ModuleNotFoundError:\n",
        "    %pip install random\n",
        "    import random"
      ]
    },
    {
      "cell_type": "code",
      "execution_count": 45,
      "metadata": {},
      "outputs": [],
      "source": [
        "data = [['City', 'Population']]\n",
        "for i in range(1000):\n",
        "    for j in range(1000):\n",
        "        data.append([a['city'][random.randint(0, a.shape[0]-1)], a['population'][random.randint(0, a.shape[0]-1)]])\n",
        "    with open('cit_pop.csv', 'a', newline='', encoding='utf-8') as file:\n",
        "        writer = csv.writer(file)\n",
        "        writer.writerows(data)\n",
        "    file.close()\n",
        "    data = []"
      ]
    },
    {
      "cell_type": "markdown",
      "metadata": {},
      "source": [
        "7.   Обработка больших данных\n",
        "\n",
        "Создать программу, которая обрабатывает большой CSV файл (более 1 млн строк) и находит топ-10 самых частых значений в определенном столбце.\n",
        "\n",
        "Данные взять из предыдущего задания (6-е задание)"
      ]
    },
    {
      "cell_type": "code",
      "execution_count": 46,
      "metadata": {},
      "outputs": [
        {
          "data": {
            "text/html": [
              "<div>\n",
              "<style scoped>\n",
              "    .dataframe tbody tr th:only-of-type {\n",
              "        vertical-align: middle;\n",
              "    }\n",
              "\n",
              "    .dataframe tbody tr th {\n",
              "        vertical-align: top;\n",
              "    }\n",
              "\n",
              "    .dataframe thead th {\n",
              "        text-align: right;\n",
              "    }\n",
              "</style>\n",
              "<table border=\"1\" class=\"dataframe\">\n",
              "  <thead>\n",
              "    <tr style=\"text-align: right;\">\n",
              "      <th></th>\n",
              "      <th>City</th>\n",
              "      <th>Population</th>\n",
              "    </tr>\n",
              "  </thead>\n",
              "  <tbody>\n",
              "    <tr>\n",
              "      <th>0</th>\n",
              "      <td>Costa Mesa</td>\n",
              "      <td>11310.0</td>\n",
              "    </tr>\n",
              "    <tr>\n",
              "      <th>1</th>\n",
              "      <td>Yunfu</td>\n",
              "      <td>17422.0</td>\n",
              "    </tr>\n",
              "    <tr>\n",
              "      <th>2</th>\n",
              "      <td>Siófok</td>\n",
              "      <td>409745.0</td>\n",
              "    </tr>\n",
              "    <tr>\n",
              "      <th>3</th>\n",
              "      <td>Jalingo</td>\n",
              "      <td>10795.0</td>\n",
              "    </tr>\n",
              "    <tr>\n",
              "      <th>4</th>\n",
              "      <td>Visbek</td>\n",
              "      <td>13774.0</td>\n",
              "    </tr>\n",
              "    <tr>\n",
              "      <th>...</th>\n",
              "      <td>...</td>\n",
              "      <td>...</td>\n",
              "    </tr>\n",
              "    <tr>\n",
              "      <th>999995</th>\n",
              "      <td>Lavrentiya</td>\n",
              "      <td>11491.0</td>\n",
              "    </tr>\n",
              "    <tr>\n",
              "      <th>999996</th>\n",
              "      <td>Marolambo</td>\n",
              "      <td>12527.0</td>\n",
              "    </tr>\n",
              "    <tr>\n",
              "      <th>999997</th>\n",
              "      <td>Bryan</td>\n",
              "      <td>108008.0</td>\n",
              "    </tr>\n",
              "    <tr>\n",
              "      <th>999998</th>\n",
              "      <td>Bonthe</td>\n",
              "      <td>17598.0</td>\n",
              "    </tr>\n",
              "    <tr>\n",
              "      <th>999999</th>\n",
              "      <td>Brownhills</td>\n",
              "      <td>15236.0</td>\n",
              "    </tr>\n",
              "  </tbody>\n",
              "</table>\n",
              "<p>1000000 rows × 2 columns</p>\n",
              "</div>"
            ],
            "text/plain": [
              "              City  Population\n",
              "0       Costa Mesa     11310.0\n",
              "1            Yunfu     17422.0\n",
              "2           Siófok    409745.0\n",
              "3          Jalingo     10795.0\n",
              "4           Visbek     13774.0\n",
              "...            ...         ...\n",
              "999995  Lavrentiya     11491.0\n",
              "999996   Marolambo     12527.0\n",
              "999997       Bryan    108008.0\n",
              "999998      Bonthe     17598.0\n",
              "999999  Brownhills     15236.0\n",
              "\n",
              "[1000000 rows x 2 columns]"
            ]
          },
          "execution_count": 46,
          "metadata": {},
          "output_type": "execute_result"
        }
      ],
      "source": [
        "data = pd.read_csv('cit_pop.csv')\n",
        "data"
      ]
    },
    {
      "cell_type": "code",
      "execution_count": 54,
      "metadata": {},
      "outputs": [],
      "source": [
        "def find_ten_top(data, row_name):\n",
        "    return data.value_counts(subset=[row_name])[0:10]"
      ]
    },
    {
      "cell_type": "code",
      "execution_count": 55,
      "metadata": {},
      "outputs": [
        {
          "data": {
            "text/plain": [
              "City        \n",
              "San Fernando    361\n",
              "Santa Ana       321\n",
              "Santa Cruz      309\n",
              "San Juan        296\n",
              "Springfield     273\n",
              "San Isidro      260\n",
              "Victoria        259\n",
              "San Miguel      258\n",
              "San Lorenzo     239\n",
              "Pilar           234\n",
              "Name: count, dtype: int64"
            ]
          },
          "execution_count": 55,
          "metadata": {},
          "output_type": "execute_result"
        }
      ],
      "source": [
        "find_ten_top(data, 'City')"
      ]
    },
    {
      "cell_type": "code",
      "execution_count": 56,
      "metadata": {},
      "outputs": [
        {
          "data": {
            "text/plain": [
              "Population\n",
              "10000.0       3173\n",
              "15000.0       1874\n",
              "9000.0        1600\n",
              "12000.0       1416\n",
              "13000.0       1336\n",
              "20000.0       1229\n",
              "11000.0       1088\n",
              "30000.0        986\n",
              "10.0           902\n",
              "16000.0        850\n",
              "Name: count, dtype: int64"
            ]
          },
          "execution_count": 56,
          "metadata": {},
          "output_type": "execute_result"
        }
      ],
      "source": [
        "find_ten_top(data, 'Population')"
      ]
    },
    {
      "cell_type": "markdown",
      "metadata": {
        "id": "PsazEmy9O1z9"
      },
      "source": [
        "# Литература\n",
        "**JSON**\n",
        "\n",
        "\n",
        "*   https://python-scripts.com/json\n",
        "*   https://practicum.yandex.ru/blog/modul-json-v-python/\n",
        "*   https://sky.pro/wiki/python/rabota-s-json-v-python-rukovodstvo-dlya-nachinayushih/\n",
        "\n",
        "**CSV**\n",
        "\n",
        "\n",
        "*   https://pythonlib.ru/post58\n",
        "*   https://all-python.ru/osnovy/csv.html\n",
        "*   https://sky.pro/wiki/python/rabota-s-csv-fajlami-v-python-rukovodstvo-dlya-nachinayushih/"
      ]
    }
  ],
  "metadata": {
    "colab": {
      "provenance": []
    },
    "kernelspec": {
      "display_name": "Python 3",
      "name": "python3"
    },
    "language_info": {
      "codemirror_mode": {
        "name": "ipython",
        "version": 3
      },
      "file_extension": ".py",
      "mimetype": "text/x-python",
      "name": "python",
      "nbconvert_exporter": "python",
      "pygments_lexer": "ipython3",
      "version": "3.12.4"
    }
  },
  "nbformat": 4,
  "nbformat_minor": 0
}
