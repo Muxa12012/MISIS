{
 "cells": [
  {
   "cell_type": "markdown",
   "id": "5106cc33",
   "metadata": {},
   "source": [
    "Упражнение 4. \n",
    "Добавить поле grades, в котором будет храниться список оценок. Создать список учеников, заполняя оценки каждого случайными числами.\n",
    "\n",
    "Упражнение 5. \n",
    "Вывести информацию об учениках в порядке убывания среднего балла. Подсчёт среднего балла вынести в отдельный метод.\n",
    "\n",
    "Упражнение 6. \n",
    "Создайте класс Point, экземпляры которого будут создаваться из координат x и y.\n",
    "\n",
    "Упражнение 7. \n",
    "Создайте класс прямоугольник — Rectangle. Метод __init__ принимает две точки — левый нижний и правый верхний угол. Каждая точка представлена экземпляром класса Point. Реализуйте методы вычисления площади и периметра прямоугольника.\n",
    "\n",
    "Упражнение 8. \n",
    "Добавьте в класс Rectangle метод contains. Метод принимает точку и возвращает True, если точка находится внутри прямоугольника и False в противном случае.\n",
    "\n",
    "\n",
    "\n",
    "\n",
    "\n",
    "Упражнение 9. \n",
    "Описать класс десятичного счётчика. Он должен обладать внутренней переменной, хранящей текущее значение, методами повышения значения (increment) и понижения (decrement), получения текущего значения get_counter. Учесть, что счётчик не может опускаться ниже 0.\n",
    "\n",
    "Упражнение 10. \n",
    "Создать класс для часов. Должна быть возможность установить время при создании объекта. Также необходимо реализовать методы, с помощью которых можно добавлять по одной минуте/секунде или по одному часу к текущему времени. Помнить, что значения минут и секунд не могут превышать 59, а часов 23.\n",
    "\n",
    "Упражнение 11. \n",
    "Доработать предыдущую задачу, чтобы можно было складывать двое часов друг с другом. Для перегрузки оператора + использовать метод __add__(self, other).\n",
    "\n",
    "Упражнение 12. \n",
    "Создать классы для травоядного животного и травы. Животное должно уметь поедать траву, если испытывает голод, в противном случае отказываться от лакомства. Трава должна обладать питательностью, в зависимости от которой животное будет насыщаться.\n"
   ]
  },
  {
   "cell_type": "markdown",
   "id": "b70c69d1",
   "metadata": {},
   "source": [
    "# Упражнение 1. \n",
    "Создать класс, описывающий человека. Должны быть поля для имени, фамилии и возраста. Создать экземпляр и вывести информацию о человеке."
   ]
  },
  {
   "cell_type": "code",
   "execution_count": 3,
   "id": "a5d82497",
   "metadata": {},
   "outputs": [],
   "source": [
    "class Human:\n",
    "    def __init__(self, name: str, surname: str, age: int):\n",
    "        self.name = name.capitalize()\n",
    "        self.surname = surname.capitalize()\n",
    "        self.age = age\n",
    "    \n",
    "    def __repr__(self):\n",
    "        return f'Human {self.name}, {self.surname}, {self.age}'"
   ]
  },
  {
   "cell_type": "code",
   "execution_count": 4,
   "id": "faa5e802",
   "metadata": {},
   "outputs": [
    {
     "data": {
      "text/plain": [
       "Human John, Doe, 30"
      ]
     },
     "execution_count": 4,
     "metadata": {},
     "output_type": "execute_result"
    }
   ],
   "source": [
    "h = Human('john', 'doe', 30)\n",
    "h"
   ]
  },
  {
   "cell_type": "markdown",
   "id": "459d375a",
   "metadata": {},
   "source": [
    "# Упражнение 2. \n",
    "Доработать предыдущий класс, чтобы вся информация о человеке была доступна при вызове str над экземпляром."
   ]
  },
  {
   "cell_type": "code",
   "execution_count": 5,
   "id": "41e2147a",
   "metadata": {},
   "outputs": [],
   "source": [
    "class Human:\n",
    "    def __init__(self, name: str, surname: str, age: int):\n",
    "        self.name = name.capitalize()\n",
    "        self.surname = surname.capitalize()\n",
    "        self.age = age\n",
    "    \n",
    "    def __str__(self):\n",
    "        return f'Human {self.name}, {self.surname}, {self.age}'"
   ]
  },
  {
   "cell_type": "code",
   "execution_count": 6,
   "id": "8dc745e0",
   "metadata": {},
   "outputs": [
    {
     "data": {
      "text/plain": [
       "<__main__.Human at 0x1f37c6e6f00>"
      ]
     },
     "execution_count": 6,
     "metadata": {},
     "output_type": "execute_result"
    }
   ],
   "source": [
    "h = Human('john', 'doe', 30)\n",
    "h"
   ]
  },
  {
   "cell_type": "code",
   "execution_count": 7,
   "id": "2eed4122",
   "metadata": {},
   "outputs": [
    {
     "name": "stdout",
     "output_type": "stream",
     "text": [
      "Human John, Doe, 30\n"
     ]
    }
   ],
   "source": [
    "print(h)"
   ]
  },
  {
   "cell_type": "markdown",
   "id": "0e50907a",
   "metadata": {},
   "source": [
    "# Упражнение 3. \n",
    "Добавить метод greet, вызов которого будет выводить в консоль информацию о человеке в формате \"Привет! Меня зовут Петров Василий, мне 12 лет\"."
   ]
  },
  {
   "cell_type": "code",
   "execution_count": 9,
   "id": "283ac7f8",
   "metadata": {},
   "outputs": [
    {
     "name": "stdout",
     "output_type": "stream",
     "text": [
      "Human Василий, Петров, 12\n",
      "Привет! Меня зовут Петров Василий, мне 12 лет\n"
     ]
    }
   ],
   "source": [
    "class Petya(Human):       \n",
    "    def greet(self):\n",
    "        print(f'Привет! Меня зовут {self.surname} {self.name}, мне {self.age} лет')\n",
    "\n",
    "h = Petya('Василий', 'Петров', 12)\n",
    "print(h)\n",
    "h.greet()"
   ]
  },
  {
   "cell_type": "markdown",
   "id": "8621b924",
   "metadata": {},
   "source": [
    "# Упражнение 4. \n",
    "Добавить поле grades, в котором будет храниться список оценок. Создать список учеников, заполняя оценки каждого случайными числами."
   ]
  },
  {
   "cell_type": "code",
   "execution_count": 10,
   "id": "c3dbbccb",
   "metadata": {},
   "outputs": [],
   "source": [
    "import random"
   ]
  },
  {
   "cell_type": "code",
   "execution_count": 17,
   "id": "68a10c1d",
   "metadata": {},
   "outputs": [],
   "source": [
    "class Student(Human):\n",
    "    def __init__(self, *args, **kwargs):\n",
    "        super().__init__(*args, **kwargs)\n",
    "        self.grades = {'Math': random.randint(1, 5), 'Physics': random.randint(1, 5), 'English': random.randint(1, 5)}\n",
    "    \n",
    "    def __str__(self, *args, **kwargs):\n",
    "        return super().__str__() + f'{self.grades}'"
   ]
  },
  {
   "cell_type": "code",
   "execution_count": 18,
   "id": "8f744355",
   "metadata": {},
   "outputs": [
    {
     "name": "stdout",
     "output_type": "stream",
     "text": [
      "Human V, A, 14{'Math': 4, 'Physics': 5, 'English': 4}\n",
      "Human A, V, 12{'Math': 5, 'Physics': 1, 'English': 1}\n",
      "Human B, T, 16{'Math': 5, 'Physics': 2, 'English': 2}\n"
     ]
    }
   ],
   "source": [
    "student_list = [Student('V', 'A', 14), Student('A', 'V', 12), Student('B', 'T', 16)]\n",
    "for s in student_list:\n",
    "    print(s)"
   ]
  },
  {
   "cell_type": "code",
   "execution_count": null,
   "id": "9a564e90",
   "metadata": {},
   "outputs": [],
   "source": []
  }
 ],
 "metadata": {
  "kernelspec": {
   "display_name": "Python 3",
   "language": "python",
   "name": "python3"
  },
  "language_info": {
   "codemirror_mode": {
    "name": "ipython",
    "version": 3
   },
   "file_extension": ".py",
   "mimetype": "text/x-python",
   "name": "python",
   "nbconvert_exporter": "python",
   "pygments_lexer": "ipython3",
   "version": "3.12.4"
  }
 },
 "nbformat": 4,
 "nbformat_minor": 5
}
