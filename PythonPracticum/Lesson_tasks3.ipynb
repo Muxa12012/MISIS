{
 "cells": [
  {
   "cell_type": "markdown",
   "id": "4dfdb3cc",
   "metadata": {},
   "source": [
    "Строка называется палиндромом, если она пишется одинаково в обоих направлениях. Например, палиндромами в английском языке являются слова «anna», «civic», «level», «hannah». Напишите программу, запрашивающую у пользователя строку и при помощи цикла определяющую, является ли она палиндромом.\n"
   ]
  },
  {
   "cell_type": "code",
   "execution_count": 17,
   "id": "176612ac",
   "metadata": {},
   "outputs": [],
   "source": [
    "def palindrom(word):\n",
    "    print(word)\n",
    "    rev = word[::-1]\n",
    "    print(rev)\n",
    "    if word == rev:\n",
    "        return True\n",
    "    else:\n",
    "        return False"
   ]
  },
  {
   "cell_type": "code",
   "execution_count": 19,
   "id": "5149c250",
   "metadata": {},
   "outputs": [
    {
     "name": "stdout",
     "output_type": "stream",
     "text": [
      "jonah\n",
      "hanoj\n"
     ]
    },
    {
     "data": {
      "text/plain": [
       "False"
      ]
     },
     "execution_count": 19,
     "metadata": {},
     "output_type": "execute_result"
    }
   ],
   "source": [
    "palindrom('jonah')"
   ]
  }
 ],
 "metadata": {
  "kernelspec": {
   "display_name": "Python 3",
   "language": "python",
   "name": "python3"
  },
  "language_info": {
   "codemirror_mode": {
    "name": "ipython",
    "version": 3
   },
   "file_extension": ".py",
   "mimetype": "text/x-python",
   "name": "python",
   "nbconvert_exporter": "python",
   "pygments_lexer": "ipython3",
   "version": "3.13.7"
  }
 },
 "nbformat": 4,
 "nbformat_minor": 5
}
