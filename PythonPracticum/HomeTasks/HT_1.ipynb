{
 "cells": [
  {
   "cell_type": "markdown",
   "id": "cb7d305a",
   "metadata": {
    "vscode": {
     "languageId": "bat"
    }
   },
   "source": [
    "# Домашнее задание №1"
   ]
  },
  {
   "cell_type": "markdown",
   "id": "2a8c0791",
   "metadata": {},
   "source": [
    "## Задача 1. Сумма первых n положительных чисел\n",
    "Напишите программу, запрашивающую у пользователя число и подсчитывающую сумму натуральных положительных чисел от 1 до введенного пользователем значения. Сумма первых n положительных чисел может быть рассчитана по формуле:\n",
    "$$\n",
    "sum =  \\frac{n * (n + 1)}{2}\n",
    "$$"
   ]
  },
  {
   "cell_type": "code",
   "execution_count": 3,
   "id": "71909a39",
   "metadata": {},
   "outputs": [
    {
     "name": "stdout",
     "output_type": "stream",
     "text": [
      "Сумма положительных чисел от 1 до 5: 15\n"
     ]
    }
   ],
   "source": [
    "n = int(input('Введите число n: '))\n",
    "\n",
    "result = int(n * (n + 1) / 2)\n",
    "\n",
    "print(f'Сумма положительных чисел от 1 до {n}: {result}')"
   ]
  },
  {
   "cell_type": "markdown",
   "id": "ede51290",
   "metadata": {},
   "source": [
    "## Задача 2. Калькулятор\n",
    "Составьте программу, которая запрашивает у пользователя 2 целых числа и выполняет операции:\n",
    "- арифметические: +, -, * , / , // , %, **, log10;\n",
    "- сравнение: <, <=, >, >=, !=, ==,\n",
    "\n",
    "выводя на экран результат каждого действия. В случае получение вещественного результата, округлите его до 2-х знаков после запятой (используя функцию round()).\n",
    "Подсказка. Функцию log10 вы найдете в модуле math.\n"
   ]
  },
  {
   "cell_type": "code",
   "execution_count": 10,
   "id": "03912789",
   "metadata": {},
   "outputs": [],
   "source": [
    "import math as m\n",
    "def calc(a, b):\n",
    "    print('Арифметические операции\\n')\n",
    "    print(f'Сумма a и b: {a + b:.2f}')\n",
    "    print(f'Разность a и b: {a - b:.2f}')\n",
    "    print(f'Произведение a и b: {a * b:.2f}')\n",
    "    print(f'Частное от деления a на b: {a / b:.2f}')\n",
    "    print(f'Частное от целочисленного деления a на b: {a // b:.2f}')\n",
    "    print(f'Остаток от деления a на b: {a % b:.2f}')\n",
    "    print(f'Возведение а в степень b: {a ** b:.2f}')\n",
    "    print(f'Десятичный логарифм a: {m.log10(a):.2f}')\n",
    "    print('\\nСравнения\\n')\n",
    "    print(f'a < b: {a < b}')\n",
    "    print(f'a <= b: {a <= b}')\n",
    "    print(f'a > b: {a > b}')\n",
    "    print(f'a >= b: {a >= b}')\n",
    "    print(f'a != b: {a != b}')\n",
    "    print(f'a == b: {a == b}')"
   ]
  },
  {
   "cell_type": "code",
   "execution_count": 11,
   "id": "003b1725",
   "metadata": {},
   "outputs": [
    {
     "name": "stdout",
     "output_type": "stream",
     "text": [
      "Арифметические операции\n",
      "\n",
      "Сумма a и b: 7.00\n",
      "Разность a и b: 3.00\n",
      "Произведение a и b: 10.00\n",
      "Частное от деления a на b: 2.50\n",
      "Частное от целочисленного деления a на b: 2.00\n",
      "Остаток от деления a на b: 1.00\n",
      "Возведение а в степень b: 25.00\n",
      "Десятичный логарифм a: 0.70\n",
      "\n",
      "Сравнения\n",
      "\n",
      "a < b: False\n",
      "a <= b: False\n",
      "a > b: True\n",
      "a >= b: True\n",
      "a != b: True\n",
      "a == b: False\n"
     ]
    }
   ],
   "source": [
    "calc(5, 2)"
   ]
  },
  {
   "cell_type": "markdown",
   "id": "24ccd665",
   "metadata": {},
   "source": [
    "## Задача 3.\n",
    "Вычислите значение следующего выражения (аргументы - целые числа и вводятся с клавиатуры):\n",
    "$$\n",
    "f =  \\frac{\\sqrt[3]{\\frac{x^5  + 7}{|-6| ⋅ y}}}{7 - z mody}\n",
    "$$\n",
    "Округлите результат до 3-х знаков после запятой, используя функцию round().\n"
   ]
  },
  {
   "cell_type": "code",
   "execution_count": 16,
   "id": "e7ace8dc",
   "metadata": {},
   "outputs": [
    {
     "name": "stdout",
     "output_type": "stream",
     "text": [
      "Результат вычислений: 0.813\n"
     ]
    }
   ],
   "source": [
    "x = float(input('Введите x: '))\n",
    "y = float(input('Введите y: '))\n",
    "z = float(input('Введите z: '))\n",
    "result = ((x ** 5 + 7) / (abs(- 6) * y)) ** (1 / 3) / (7 - z % y)\n",
    "print(f'Результат вычислений: {round(result, 3)}')"
   ]
  },
  {
   "cell_type": "markdown",
   "id": "5dc4dab3",
   "metadata": {},
   "source": [
    "## Задача 4.\n",
    "Дана электрическая цепь, состоящая из 2-х последовательно соединенных проводников (сопротивление каждого известно). Найти общее сопротивление цепи (округление результата необходимо выполнить до 1-го знака после запятой).\n"
   ]
  },
  {
   "cell_type": "code",
   "execution_count": 17,
   "id": "dc783da1",
   "metadata": {},
   "outputs": [
    {
     "name": "stdout",
     "output_type": "stream",
     "text": [
      "Суммарное сопротивление цепи: 8.0\n"
     ]
    }
   ],
   "source": [
    "r1 = float(input('Введите сопротивление первого проводника: '))\n",
    "r2 = float(input('Введите сопротивление второго проводника: '))\n",
    "result = r1 + r2\n",
    "print(f'Суммарное сопротивление цепи: {result:.1f}')"
   ]
  },
  {
   "cell_type": "markdown",
   "id": "0343d5ab",
   "metadata": {},
   "source": [
    "## Задача 5.\n",
    "Дано уравнение $ax + b = 0$ и отрезок $[m;n]$. Ответьте на вопрос, попадает ли решение уравнения в указанный отрезок.\n"
   ]
  },
  {
   "cell_type": "code",
   "execution_count": 24,
   "id": "64d9f024",
   "metadata": {},
   "outputs": [
    {
     "name": "stdout",
     "output_type": "stream",
     "text": [
      "Решение уравнения -5.0x + 5.0 = 0: x = 1.0\n",
      "\n",
      "Попадает в отрезок от 0.0 до 0.5: False\n"
     ]
    }
   ],
   "source": [
    "a = float(input('Введите коэффициент уравнения a: '))\n",
    "b = float(input('Введите коэффициент уравнения b: '))\n",
    "m = float(input('Введите начало отрезка m: '))\n",
    "n = float(input('Введите конец отрезка n: '))\n",
    "\n",
    "x = -b / a\n",
    "\n",
    "result = m <= x * x <= n\n",
    "\n",
    "print(f'''Решение уравнения {a}x + {b} = 0: x = {x}\\n\n",
    "Попадает в отрезок от {m} до {n}: {result}''')"
   ]
  },
  {
   "cell_type": "code",
   "execution_count": null,
   "id": "72146303",
   "metadata": {},
   "outputs": [],
   "source": []
  }
 ],
 "metadata": {
  "kernelspec": {
   "display_name": "Python 3",
   "language": "python",
   "name": "python3"
  },
  "language_info": {
   "codemirror_mode": {
    "name": "ipython",
    "version": 3
   },
   "file_extension": ".py",
   "mimetype": "text/x-python",
   "name": "python",
   "nbconvert_exporter": "python",
   "pygments_lexer": "ipython3",
   "version": "3.13.7"
  }
 },
 "nbformat": 4,
 "nbformat_minor": 5
}
